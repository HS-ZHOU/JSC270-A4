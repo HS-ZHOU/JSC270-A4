{
  "nbformat": 4,
  "nbformat_minor": 0,
  "metadata": {
    "colab": {
      "name": "Assignment 4 Part I",
      "provenance": [],
      "collapsed_sections": [],
      "include_colab_link": true
    },
    "kernelspec": {
      "name": "python3",
      "display_name": "Python 3"
    },
    "language_info": {
      "name": "python"
    }
  },
  "cells": [
    {
      "cell_type": "markdown",
      "metadata": {
        "id": "view-in-github",
        "colab_type": "text"
      },
      "source": [
        "<a href=\"https://colab.research.google.com/github/TheTonyZhou/JSC270-A4/blob/main/Assignment_4_Part_I.ipynb\" target=\"_parent\"><img src=\"https://colab.research.google.com/assets/colab-badge.svg\" alt=\"Open In Colab\"/></a>"
      ]
    },
    {
      "cell_type": "markdown",
      "source": [
        "#JSC270 Assignment 4\n"
      ],
      "metadata": {
        "id": "kIXBn6-Ct4sz"
      }
    },
    {
      "cell_type": "markdown",
      "source": [
        "## Part I\n"
      ],
      "metadata": {
        "id": "WrLeyHbit-8R"
      }
    },
    {
      "cell_type": "markdown",
      "source": [
        "### Importing Data"
      ],
      "metadata": {
        "id": "CAxFvs4r9z2s"
      }
    },
    {
      "cell_type": "code",
      "execution_count": 64,
      "metadata": {
        "id": "h2GQg-I6uwIl"
      },
      "outputs": [],
      "source": [
        "import pandas as pd\n",
        "import seaborn as sns\n",
        "import re\n",
        "import nltk\n",
        "from nltk.stem.porter import *\n",
        "from nltk.corpus import stopwords\n",
        "import numpy as np"
      ]
    },
    {
      "cell_type": "code",
      "source": [
        "train_url = 'https://raw.githubusercontent.com/TheTonyZhou/JSC270-A4/main/covid-tweets-train.csv'\n",
        "train_data = pd.read_csv(train_url)\n",
        "test_url = 'https://raw.githubusercontent.com/TheTonyZhou/JSC270-A4/main/covid-tweets-test.csv'\n",
        "test_data = pd.read_csv(test_url)"
      ],
      "metadata": {
        "id": "WhHu6aQ01x2O"
      },
      "execution_count": 65,
      "outputs": []
    },
    {
      "cell_type": "code",
      "source": [
        "train_data"
      ],
      "metadata": {
        "colab": {
          "base_uri": "https://localhost:8080/",
          "height": 424
        },
        "id": "UgIG8dis6qBd",
        "outputId": "e05e1f5c-6861-4adf-f97e-816b441814d2"
      },
      "execution_count": 66,
      "outputs": [
        {
          "output_type": "execute_result",
          "data": {
            "text/plain": [
              "       Unnamed: 0                                      OriginalTweet Sentiment\n",
              "0               0  @MeNyrbie @Phil_Gahan @Chrisitv https://t.co/i...         1\n",
              "1               1  advice Talk to your neighbours family to excha...         2\n",
              "2               2  Coronavirus Australia: Woolworths to give elde...         2\n",
              "3               3  My food stock is not the only one which is emp...         2\n",
              "4               4  Me, ready to go at supermarket during the #COV...         0\n",
              "...           ...                                                ...       ...\n",
              "41150       41150  Airline pilots offering to stock supermarket s...         1\n",
              "41151       41151  Response to complaint not provided citing COVI...         0\n",
              "41152       41152  You know itÂs getting tough when @KameronWild...         2\n",
              "41153       41153  Is it wrong that the smell of hand sanitizer i...         1\n",
              "41154       41154  @TartiiCat Well new/used Rift S are going for ...         0\n",
              "\n",
              "[41155 rows x 3 columns]"
            ],
            "text/html": [
              "\n",
              "  <div id=\"df-1bd3fc93-2b10-4985-8b7f-d5022a1d4d5d\">\n",
              "    <div class=\"colab-df-container\">\n",
              "      <div>\n",
              "<style scoped>\n",
              "    .dataframe tbody tr th:only-of-type {\n",
              "        vertical-align: middle;\n",
              "    }\n",
              "\n",
              "    .dataframe tbody tr th {\n",
              "        vertical-align: top;\n",
              "    }\n",
              "\n",
              "    .dataframe thead th {\n",
              "        text-align: right;\n",
              "    }\n",
              "</style>\n",
              "<table border=\"1\" class=\"dataframe\">\n",
              "  <thead>\n",
              "    <tr style=\"text-align: right;\">\n",
              "      <th></th>\n",
              "      <th>Unnamed: 0</th>\n",
              "      <th>OriginalTweet</th>\n",
              "      <th>Sentiment</th>\n",
              "    </tr>\n",
              "  </thead>\n",
              "  <tbody>\n",
              "    <tr>\n",
              "      <th>0</th>\n",
              "      <td>0</td>\n",
              "      <td>@MeNyrbie @Phil_Gahan @Chrisitv https://t.co/i...</td>\n",
              "      <td>1</td>\n",
              "    </tr>\n",
              "    <tr>\n",
              "      <th>1</th>\n",
              "      <td>1</td>\n",
              "      <td>advice Talk to your neighbours family to excha...</td>\n",
              "      <td>2</td>\n",
              "    </tr>\n",
              "    <tr>\n",
              "      <th>2</th>\n",
              "      <td>2</td>\n",
              "      <td>Coronavirus Australia: Woolworths to give elde...</td>\n",
              "      <td>2</td>\n",
              "    </tr>\n",
              "    <tr>\n",
              "      <th>3</th>\n",
              "      <td>3</td>\n",
              "      <td>My food stock is not the only one which is emp...</td>\n",
              "      <td>2</td>\n",
              "    </tr>\n",
              "    <tr>\n",
              "      <th>4</th>\n",
              "      <td>4</td>\n",
              "      <td>Me, ready to go at supermarket during the #COV...</td>\n",
              "      <td>0</td>\n",
              "    </tr>\n",
              "    <tr>\n",
              "      <th>...</th>\n",
              "      <td>...</td>\n",
              "      <td>...</td>\n",
              "      <td>...</td>\n",
              "    </tr>\n",
              "    <tr>\n",
              "      <th>41150</th>\n",
              "      <td>41150</td>\n",
              "      <td>Airline pilots offering to stock supermarket s...</td>\n",
              "      <td>1</td>\n",
              "    </tr>\n",
              "    <tr>\n",
              "      <th>41151</th>\n",
              "      <td>41151</td>\n",
              "      <td>Response to complaint not provided citing COVI...</td>\n",
              "      <td>0</td>\n",
              "    </tr>\n",
              "    <tr>\n",
              "      <th>41152</th>\n",
              "      <td>41152</td>\n",
              "      <td>You know itÂs getting tough when @KameronWild...</td>\n",
              "      <td>2</td>\n",
              "    </tr>\n",
              "    <tr>\n",
              "      <th>41153</th>\n",
              "      <td>41153</td>\n",
              "      <td>Is it wrong that the smell of hand sanitizer i...</td>\n",
              "      <td>1</td>\n",
              "    </tr>\n",
              "    <tr>\n",
              "      <th>41154</th>\n",
              "      <td>41154</td>\n",
              "      <td>@TartiiCat Well new/used Rift S are going for ...</td>\n",
              "      <td>0</td>\n",
              "    </tr>\n",
              "  </tbody>\n",
              "</table>\n",
              "<p>41155 rows × 3 columns</p>\n",
              "</div>\n",
              "      <button class=\"colab-df-convert\" onclick=\"convertToInteractive('df-1bd3fc93-2b10-4985-8b7f-d5022a1d4d5d')\"\n",
              "              title=\"Convert this dataframe to an interactive table.\"\n",
              "              style=\"display:none;\">\n",
              "        \n",
              "  <svg xmlns=\"http://www.w3.org/2000/svg\" height=\"24px\"viewBox=\"0 0 24 24\"\n",
              "       width=\"24px\">\n",
              "    <path d=\"M0 0h24v24H0V0z\" fill=\"none\"/>\n",
              "    <path d=\"M18.56 5.44l.94 2.06.94-2.06 2.06-.94-2.06-.94-.94-2.06-.94 2.06-2.06.94zm-11 1L8.5 8.5l.94-2.06 2.06-.94-2.06-.94L8.5 2.5l-.94 2.06-2.06.94zm10 10l.94 2.06.94-2.06 2.06-.94-2.06-.94-.94-2.06-.94 2.06-2.06.94z\"/><path d=\"M17.41 7.96l-1.37-1.37c-.4-.4-.92-.59-1.43-.59-.52 0-1.04.2-1.43.59L10.3 9.45l-7.72 7.72c-.78.78-.78 2.05 0 2.83L4 21.41c.39.39.9.59 1.41.59.51 0 1.02-.2 1.41-.59l7.78-7.78 2.81-2.81c.8-.78.8-2.07 0-2.86zM5.41 20L4 18.59l7.72-7.72 1.47 1.35L5.41 20z\"/>\n",
              "  </svg>\n",
              "      </button>\n",
              "      \n",
              "  <style>\n",
              "    .colab-df-container {\n",
              "      display:flex;\n",
              "      flex-wrap:wrap;\n",
              "      gap: 12px;\n",
              "    }\n",
              "\n",
              "    .colab-df-convert {\n",
              "      background-color: #E8F0FE;\n",
              "      border: none;\n",
              "      border-radius: 50%;\n",
              "      cursor: pointer;\n",
              "      display: none;\n",
              "      fill: #1967D2;\n",
              "      height: 32px;\n",
              "      padding: 0 0 0 0;\n",
              "      width: 32px;\n",
              "    }\n",
              "\n",
              "    .colab-df-convert:hover {\n",
              "      background-color: #E2EBFA;\n",
              "      box-shadow: 0px 1px 2px rgba(60, 64, 67, 0.3), 0px 1px 3px 1px rgba(60, 64, 67, 0.15);\n",
              "      fill: #174EA6;\n",
              "    }\n",
              "\n",
              "    [theme=dark] .colab-df-convert {\n",
              "      background-color: #3B4455;\n",
              "      fill: #D2E3FC;\n",
              "    }\n",
              "\n",
              "    [theme=dark] .colab-df-convert:hover {\n",
              "      background-color: #434B5C;\n",
              "      box-shadow: 0px 1px 3px 1px rgba(0, 0, 0, 0.15);\n",
              "      filter: drop-shadow(0px 1px 2px rgba(0, 0, 0, 0.3));\n",
              "      fill: #FFFFFF;\n",
              "    }\n",
              "  </style>\n",
              "\n",
              "      <script>\n",
              "        const buttonEl =\n",
              "          document.querySelector('#df-1bd3fc93-2b10-4985-8b7f-d5022a1d4d5d button.colab-df-convert');\n",
              "        buttonEl.style.display =\n",
              "          google.colab.kernel.accessAllowed ? 'block' : 'none';\n",
              "\n",
              "        async function convertToInteractive(key) {\n",
              "          const element = document.querySelector('#df-1bd3fc93-2b10-4985-8b7f-d5022a1d4d5d');\n",
              "          const dataTable =\n",
              "            await google.colab.kernel.invokeFunction('convertToInteractive',\n",
              "                                                     [key], {});\n",
              "          if (!dataTable) return;\n",
              "\n",
              "          const docLinkHtml = 'Like what you see? Visit the ' +\n",
              "            '<a target=\"_blank\" href=https://colab.research.google.com/notebooks/data_table.ipynb>data table notebook</a>'\n",
              "            + ' to learn more about interactive tables.';\n",
              "          element.innerHTML = '';\n",
              "          dataTable['output_type'] = 'display_data';\n",
              "          await google.colab.output.renderOutput(dataTable, element);\n",
              "          const docLink = document.createElement('div');\n",
              "          docLink.innerHTML = docLinkHtml;\n",
              "          element.appendChild(docLink);\n",
              "        }\n",
              "      </script>\n",
              "    </div>\n",
              "  </div>\n",
              "  "
            ]
          },
          "metadata": {},
          "execution_count": 66
        }
      ]
    },
    {
      "cell_type": "code",
      "source": [
        "test_data"
      ],
      "metadata": {
        "colab": {
          "base_uri": "https://localhost:8080/",
          "height": 424
        },
        "id": "L5cQNnJb8pzL",
        "outputId": "3d7c9c0f-42eb-42fb-8df8-50d0fc2c2c42"
      },
      "execution_count": 67,
      "outputs": [
        {
          "output_type": "execute_result",
          "data": {
            "text/plain": [
              "      Unnamed: 0                                      OriginalTweet  Sentiment\n",
              "0              0  TRENDING: New Yorkers encounter empty supermar...          0\n",
              "1              1  When I couldn't find hand sanitizer at Fred Me...          2\n",
              "2              2  Find out how you can protect yourself and love...          2\n",
              "3              3  #Panic buying hits #NewYork City as anxious sh...          0\n",
              "4              4  #toiletpaper #dunnypaper #coronavirus #coronav...          1\n",
              "...          ...                                                ...        ...\n",
              "3793        3793  Meanwhile In A Supermarket in Israel -- People...          2\n",
              "3794        3794  Did you panic buy a lot of non-perishable item...          0\n",
              "3795        3795  Asst Prof of Economics @cconces was on @NBCPhi...          1\n",
              "3796        3796  Gov need to do somethings instead of biar je r...          0\n",
              "3797        3797  I and @ForestandPaper members are committed to...          2\n",
              "\n",
              "[3798 rows x 3 columns]"
            ],
            "text/html": [
              "\n",
              "  <div id=\"df-ab83dad9-8643-451c-9b85-3f3b5e1ed387\">\n",
              "    <div class=\"colab-df-container\">\n",
              "      <div>\n",
              "<style scoped>\n",
              "    .dataframe tbody tr th:only-of-type {\n",
              "        vertical-align: middle;\n",
              "    }\n",
              "\n",
              "    .dataframe tbody tr th {\n",
              "        vertical-align: top;\n",
              "    }\n",
              "\n",
              "    .dataframe thead th {\n",
              "        text-align: right;\n",
              "    }\n",
              "</style>\n",
              "<table border=\"1\" class=\"dataframe\">\n",
              "  <thead>\n",
              "    <tr style=\"text-align: right;\">\n",
              "      <th></th>\n",
              "      <th>Unnamed: 0</th>\n",
              "      <th>OriginalTweet</th>\n",
              "      <th>Sentiment</th>\n",
              "    </tr>\n",
              "  </thead>\n",
              "  <tbody>\n",
              "    <tr>\n",
              "      <th>0</th>\n",
              "      <td>0</td>\n",
              "      <td>TRENDING: New Yorkers encounter empty supermar...</td>\n",
              "      <td>0</td>\n",
              "    </tr>\n",
              "    <tr>\n",
              "      <th>1</th>\n",
              "      <td>1</td>\n",
              "      <td>When I couldn't find hand sanitizer at Fred Me...</td>\n",
              "      <td>2</td>\n",
              "    </tr>\n",
              "    <tr>\n",
              "      <th>2</th>\n",
              "      <td>2</td>\n",
              "      <td>Find out how you can protect yourself and love...</td>\n",
              "      <td>2</td>\n",
              "    </tr>\n",
              "    <tr>\n",
              "      <th>3</th>\n",
              "      <td>3</td>\n",
              "      <td>#Panic buying hits #NewYork City as anxious sh...</td>\n",
              "      <td>0</td>\n",
              "    </tr>\n",
              "    <tr>\n",
              "      <th>4</th>\n",
              "      <td>4</td>\n",
              "      <td>#toiletpaper #dunnypaper #coronavirus #coronav...</td>\n",
              "      <td>1</td>\n",
              "    </tr>\n",
              "    <tr>\n",
              "      <th>...</th>\n",
              "      <td>...</td>\n",
              "      <td>...</td>\n",
              "      <td>...</td>\n",
              "    </tr>\n",
              "    <tr>\n",
              "      <th>3793</th>\n",
              "      <td>3793</td>\n",
              "      <td>Meanwhile In A Supermarket in Israel -- People...</td>\n",
              "      <td>2</td>\n",
              "    </tr>\n",
              "    <tr>\n",
              "      <th>3794</th>\n",
              "      <td>3794</td>\n",
              "      <td>Did you panic buy a lot of non-perishable item...</td>\n",
              "      <td>0</td>\n",
              "    </tr>\n",
              "    <tr>\n",
              "      <th>3795</th>\n",
              "      <td>3795</td>\n",
              "      <td>Asst Prof of Economics @cconces was on @NBCPhi...</td>\n",
              "      <td>1</td>\n",
              "    </tr>\n",
              "    <tr>\n",
              "      <th>3796</th>\n",
              "      <td>3796</td>\n",
              "      <td>Gov need to do somethings instead of biar je r...</td>\n",
              "      <td>0</td>\n",
              "    </tr>\n",
              "    <tr>\n",
              "      <th>3797</th>\n",
              "      <td>3797</td>\n",
              "      <td>I and @ForestandPaper members are committed to...</td>\n",
              "      <td>2</td>\n",
              "    </tr>\n",
              "  </tbody>\n",
              "</table>\n",
              "<p>3798 rows × 3 columns</p>\n",
              "</div>\n",
              "      <button class=\"colab-df-convert\" onclick=\"convertToInteractive('df-ab83dad9-8643-451c-9b85-3f3b5e1ed387')\"\n",
              "              title=\"Convert this dataframe to an interactive table.\"\n",
              "              style=\"display:none;\">\n",
              "        \n",
              "  <svg xmlns=\"http://www.w3.org/2000/svg\" height=\"24px\"viewBox=\"0 0 24 24\"\n",
              "       width=\"24px\">\n",
              "    <path d=\"M0 0h24v24H0V0z\" fill=\"none\"/>\n",
              "    <path d=\"M18.56 5.44l.94 2.06.94-2.06 2.06-.94-2.06-.94-.94-2.06-.94 2.06-2.06.94zm-11 1L8.5 8.5l.94-2.06 2.06-.94-2.06-.94L8.5 2.5l-.94 2.06-2.06.94zm10 10l.94 2.06.94-2.06 2.06-.94-2.06-.94-.94-2.06-.94 2.06-2.06.94z\"/><path d=\"M17.41 7.96l-1.37-1.37c-.4-.4-.92-.59-1.43-.59-.52 0-1.04.2-1.43.59L10.3 9.45l-7.72 7.72c-.78.78-.78 2.05 0 2.83L4 21.41c.39.39.9.59 1.41.59.51 0 1.02-.2 1.41-.59l7.78-7.78 2.81-2.81c.8-.78.8-2.07 0-2.86zM5.41 20L4 18.59l7.72-7.72 1.47 1.35L5.41 20z\"/>\n",
              "  </svg>\n",
              "      </button>\n",
              "      \n",
              "  <style>\n",
              "    .colab-df-container {\n",
              "      display:flex;\n",
              "      flex-wrap:wrap;\n",
              "      gap: 12px;\n",
              "    }\n",
              "\n",
              "    .colab-df-convert {\n",
              "      background-color: #E8F0FE;\n",
              "      border: none;\n",
              "      border-radius: 50%;\n",
              "      cursor: pointer;\n",
              "      display: none;\n",
              "      fill: #1967D2;\n",
              "      height: 32px;\n",
              "      padding: 0 0 0 0;\n",
              "      width: 32px;\n",
              "    }\n",
              "\n",
              "    .colab-df-convert:hover {\n",
              "      background-color: #E2EBFA;\n",
              "      box-shadow: 0px 1px 2px rgba(60, 64, 67, 0.3), 0px 1px 3px 1px rgba(60, 64, 67, 0.15);\n",
              "      fill: #174EA6;\n",
              "    }\n",
              "\n",
              "    [theme=dark] .colab-df-convert {\n",
              "      background-color: #3B4455;\n",
              "      fill: #D2E3FC;\n",
              "    }\n",
              "\n",
              "    [theme=dark] .colab-df-convert:hover {\n",
              "      background-color: #434B5C;\n",
              "      box-shadow: 0px 1px 3px 1px rgba(0, 0, 0, 0.15);\n",
              "      filter: drop-shadow(0px 1px 2px rgba(0, 0, 0, 0.3));\n",
              "      fill: #FFFFFF;\n",
              "    }\n",
              "  </style>\n",
              "\n",
              "      <script>\n",
              "        const buttonEl =\n",
              "          document.querySelector('#df-ab83dad9-8643-451c-9b85-3f3b5e1ed387 button.colab-df-convert');\n",
              "        buttonEl.style.display =\n",
              "          google.colab.kernel.accessAllowed ? 'block' : 'none';\n",
              "\n",
              "        async function convertToInteractive(key) {\n",
              "          const element = document.querySelector('#df-ab83dad9-8643-451c-9b85-3f3b5e1ed387');\n",
              "          const dataTable =\n",
              "            await google.colab.kernel.invokeFunction('convertToInteractive',\n",
              "                                                     [key], {});\n",
              "          if (!dataTable) return;\n",
              "\n",
              "          const docLinkHtml = 'Like what you see? Visit the ' +\n",
              "            '<a target=\"_blank\" href=https://colab.research.google.com/notebooks/data_table.ipynb>data table notebook</a>'\n",
              "            + ' to learn more about interactive tables.';\n",
              "          element.innerHTML = '';\n",
              "          dataTable['output_type'] = 'display_data';\n",
              "          await google.colab.output.renderOutput(dataTable, element);\n",
              "          const docLink = document.createElement('div');\n",
              "          docLink.innerHTML = docLinkHtml;\n",
              "          element.appendChild(docLink);\n",
              "        }\n",
              "      </script>\n",
              "    </div>\n",
              "  </div>\n",
              "  "
            ]
          },
          "metadata": {},
          "execution_count": 67
        }
      ]
    },
    {
      "cell_type": "code",
      "source": [
        "print(train_data.shape)\n",
        "print(test_data.shape)"
      ],
      "metadata": {
        "colab": {
          "base_uri": "https://localhost:8080/"
        },
        "id": "0c5v87Wn1OHW",
        "outputId": "36228111-6080-4947-b483-97e8dd57cb01"
      },
      "execution_count": 68,
      "outputs": [
        {
          "output_type": "stream",
          "name": "stdout",
          "text": [
            "(41155, 3)\n",
            "(3798, 3)\n"
          ]
        }
      ]
    },
    {
      "cell_type": "code",
      "source": [
        "## detecting wrong data\n",
        "train_data.Sentiment.value_counts()"
      ],
      "metadata": {
        "colab": {
          "base_uri": "https://localhost:8080/"
        },
        "id": "YX-J2yeB3d6G",
        "outputId": "41263075-28c8-40da-c3b2-7ae4a7a1e750"
      },
      "execution_count": 69,
      "outputs": [
        {
          "output_type": "execute_result",
          "data": {
            "text/plain": [
              "2            18042\n",
              "0            15397\n",
              "1             7712\n",
              " PA\"             1\n",
              " England\"        1\n",
              "Name: Sentiment, dtype: int64"
            ]
          },
          "metadata": {},
          "execution_count": 69
        }
      ]
    },
    {
      "cell_type": "code",
      "source": [
        "## removing inproper values in the train data\n",
        "train_data = train_data[(train_data.Sentiment == '0') | (train_data.Sentiment == '1') | (train_data.Sentiment == '2')]"
      ],
      "metadata": {
        "id": "aoV7m9K565aC"
      },
      "execution_count": 70,
      "outputs": []
    },
    {
      "cell_type": "code",
      "source": [
        "## No missing value in 'OriginalTweet' column.\n",
        "train_data.OriginalTweet.isna().sum()"
      ],
      "metadata": {
        "colab": {
          "base_uri": "https://localhost:8080/"
        },
        "id": "EGPCTV-B4ncF",
        "outputId": "55340429-b2d3-400a-ee27-05e783ddde7f"
      },
      "execution_count": 71,
      "outputs": [
        {
          "output_type": "execute_result",
          "data": {
            "text/plain": [
              "0"
            ]
          },
          "metadata": {},
          "execution_count": 71
        }
      ]
    },
    {
      "cell_type": "markdown",
      "source": [
        "### A"
      ],
      "metadata": {
        "id": "zwfsBsPg9b3T"
      }
    },
    {
      "cell_type": "code",
      "source": [
        "negative_count = len(train_data[(train_data.Sentiment == '0')])\n",
        "neutral_count = len(train_data[(train_data.Sentiment == '1')])\n",
        "positive_count = len(train_data[(train_data.Sentiment == '2')])\n",
        "\n",
        "print(negative_count)\n",
        "print(neutral_count)\n",
        "print(positive_count)"
      ],
      "metadata": {
        "colab": {
          "base_uri": "https://localhost:8080/"
        },
        "id": "BwDR7Pwt9332",
        "outputId": "3272e49b-ab83-4574-9341-0157b693c316"
      },
      "execution_count": 72,
      "outputs": [
        {
          "output_type": "stream",
          "name": "stdout",
          "text": [
            "15397\n",
            "7712\n",
            "18042\n"
          ]
        }
      ]
    },
    {
      "cell_type": "code",
      "source": [
        "negative_count = len(train_data[(train_data.Sentiment == '0')])\n",
        "neutral_count = len(train_data[(train_data.Sentiment == '1')])\n",
        "positive_count = len(train_data[(train_data.Sentiment == '2')])\n",
        "total = negative_count + neutral_count + positive_count\n",
        "positive_proportion = positive_count / total\n",
        "negative_proportion = negative_count / total\n",
        "neutral_proportion = neutral_count / total\n",
        "\n",
        "print(\"positive proportion: {}\".format(positive_proportion))\n",
        "print(\"negative proportion: {}\".format(negative_proportion))\n",
        "print(\"neutral proportion: {}\".format(neutral_proportion))"
      ],
      "metadata": {
        "colab": {
          "base_uri": "https://localhost:8080/"
        },
        "id": "0UKkOpL28EoX",
        "outputId": "1cb1461b-2fce-4df6-aa7d-4e46efd6c4ff"
      },
      "execution_count": 73,
      "outputs": [
        {
          "output_type": "stream",
          "name": "stdout",
          "text": [
            "positive proportion: 0.4384340599256397\n",
            "negative proportion: 0.37415858666861074\n",
            "neutral proportion: 0.18740735340574954\n"
          ]
        }
      ]
    },
    {
      "cell_type": "code",
      "source": [
        "sns.histplot(data=train_data, x='Sentiment')"
      ],
      "metadata": {
        "id": "rOJFpLeS7WER",
        "colab": {
          "base_uri": "https://localhost:8080/",
          "height": 296
        },
        "outputId": "99d04b23-dada-4076-c308-cbdb692a9e5e"
      },
      "execution_count": 74,
      "outputs": [
        {
          "output_type": "execute_result",
          "data": {
            "text/plain": [
              "<matplotlib.axes._subplots.AxesSubplot at 0x7fcb49002d10>"
            ]
          },
          "metadata": {},
          "execution_count": 74
        },
        {
          "output_type": "display_data",
          "data": {
            "text/plain": [
              "<Figure size 432x288 with 1 Axes>"
            ],
            "image/png": "[encoded data removed]"
          },
          "metadata": {
            "needs_background": "light"
          }
        }
      ]
    },
    {
      "cell_type": "markdown",
      "source": [
        "###B"
      ],
      "metadata": {
        "id": "NzlLuFINGWi2"
      }
    },
    {
      "cell_type": "code",
      "source": [
        "# Create a new column in our DF that contains token lists instead of raw text\n",
        "train_data['tokens'] = train_data['OriginalTweet'].str.split()"
      ],
      "metadata": {
        "id": "EhZ_ZVuW-C5g",
        "colab": {
          "base_uri": "https://localhost:8080/"
        },
        "outputId": "63a5f5f0-22ce-4af9-faf0-f98ed7a69d81"
      },
      "execution_count": 75,
      "outputs": [
        {
          "output_type": "stream",
          "name": "stderr",
          "text": [
            "/usr/local/lib/python3.7/dist-packages/ipykernel_launcher.py:2: SettingWithCopyWarning: \n",
            "A value is trying to be set on a copy of a slice from a DataFrame.\n",
            "Try using .loc[row_indexer,col_indexer] = value instead\n",
            "\n",
            "See the caveats in the documentation: https://pandas.pydata.org/pandas-docs/stable/user_guide/indexing.html#returning-a-view-versus-a-copy\n",
            "  \n"
          ]
        }
      ]
    },
    {
      "cell_type": "code",
      "source": [
        "train_data"
      ],
      "metadata": {
        "colab": {
          "base_uri": "https://localhost:8080/",
          "height": 624
        },
        "id": "QeK_f0G1-h7g",
        "outputId": "871c76c7-a9f8-4ec1-b66f-b98f6255974a"
      },
      "execution_count": 76,
      "outputs": [
        {
          "output_type": "execute_result",
          "data": {
            "text/plain": [
              "       Unnamed: 0                                      OriginalTweet  \\\n",
              "0               0  @MeNyrbie @Phil_Gahan @Chrisitv https://t.co/i...   \n",
              "1               1  advice Talk to your neighbours family to excha...   \n",
              "2               2  Coronavirus Australia: Woolworths to give elde...   \n",
              "3               3  My food stock is not the only one which is emp...   \n",
              "4               4  Me, ready to go at supermarket during the #COV...   \n",
              "...           ...                                                ...   \n",
              "41150       41150  Airline pilots offering to stock supermarket s...   \n",
              "41151       41151  Response to complaint not provided citing COVI...   \n",
              "41152       41152  You know itÂs getting tough when @KameronWild...   \n",
              "41153       41153  Is it wrong that the smell of hand sanitizer i...   \n",
              "41154       41154  @TartiiCat Well new/used Rift S are going for ...   \n",
              "\n",
              "      Sentiment                                             tokens  \n",
              "0             1  [@MeNyrbie, @Phil_Gahan, @Chrisitv, https://t....  \n",
              "1             2  [advice, Talk, to, your, neighbours, family, t...  \n",
              "2             2  [Coronavirus, Australia:, Woolworths, to, give...  \n",
              "3             2  [My, food, stock, is, not, the, only, one, whi...  \n",
              "4             0  [Me,, ready, to, go, at, supermarket, during, ...  \n",
              "...         ...                                                ...  \n",
              "41150         1  [Airline, pilots, offering, to, stock, superma...  \n",
              "41151         0  [Response, to, complaint, not, provided, citin...  \n",
              "41152         2  [You, know, itÂs, getting, tough, when, @Kame...  \n",
              "41153         1  [Is, it, wrong, that, the, smell, of, hand, sa...  \n",
              "41154         0  [@TartiiCat, Well, new/used, Rift, S, are, goi...  \n",
              "\n",
              "[41151 rows x 4 columns]"
            ],
            "text/html": [
              "\n",
              "  <div id=\"df-1d3102fa-70f1-4279-84d6-c4b0ee03b7fc\">\n",
              "    <div class=\"colab-df-container\">\n",
              "      <div>\n",
              "<style scoped>\n",
              "    .dataframe tbody tr th:only-of-type {\n",
              "        vertical-align: middle;\n",
              "    }\n",
              "\n",
              "    .dataframe tbody tr th {\n",
              "        vertical-align: top;\n",
              "    }\n",
              "\n",
              "    .dataframe thead th {\n",
              "        text-align: right;\n",
              "    }\n",
              "</style>\n",
              "<table border=\"1\" class=\"dataframe\">\n",
              "  <thead>\n",
              "    <tr style=\"text-align: right;\">\n",
              "      <th></th>\n",
              "      <th>Unnamed: 0</th>\n",
              "      <th>OriginalTweet</th>\n",
              "      <th>Sentiment</th>\n",
              "      <th>tokens</th>\n",
              "    </tr>\n",
              "  </thead>\n",
              "  <tbody>\n",
              "    <tr>\n",
              "      <th>0</th>\n",
              "      <td>0</td>\n",
              "      <td>@MeNyrbie @Phil_Gahan @Chrisitv https://t.co/i...</td>\n",
              "      <td>1</td>\n",
              "      <td>[@MeNyrbie, @Phil_Gahan, @Chrisitv, https://t....</td>\n",
              "    </tr>\n",
              "    <tr>\n",
              "      <th>1</th>\n",
              "      <td>1</td>\n",
              "      <td>advice Talk to your neighbours family to excha...</td>\n",
              "      <td>2</td>\n",
              "      <td>[advice, Talk, to, your, neighbours, family, t...</td>\n",
              "    </tr>\n",
              "    <tr>\n",
              "      <th>2</th>\n",
              "      <td>2</td>\n",
              "      <td>Coronavirus Australia: Woolworths to give elde...</td>\n",
              "      <td>2</td>\n",
              "      <td>[Coronavirus, Australia:, Woolworths, to, give...</td>\n",
              "    </tr>\n",
              "    <tr>\n",
              "      <th>3</th>\n",
              "      <td>3</td>\n",
              "      <td>My food stock is not the only one which is emp...</td>\n",
              "      <td>2</td>\n",
              "      <td>[My, food, stock, is, not, the, only, one, whi...</td>\n",
              "    </tr>\n",
              "    <tr>\n",
              "      <th>4</th>\n",
              "      <td>4</td>\n",
              "      <td>Me, ready to go at supermarket during the #COV...</td>\n",
              "      <td>0</td>\n",
              "      <td>[Me,, ready, to, go, at, supermarket, during, ...</td>\n",
              "    </tr>\n",
              "    <tr>\n",
              "      <th>...</th>\n",
              "      <td>...</td>\n",
              "      <td>...</td>\n",
              "      <td>...</td>\n",
              "      <td>...</td>\n",
              "    </tr>\n",
              "    <tr>\n",
              "      <th>41150</th>\n",
              "      <td>41150</td>\n",
              "      <td>Airline pilots offering to stock supermarket s...</td>\n",
              "      <td>1</td>\n",
              "      <td>[Airline, pilots, offering, to, stock, superma...</td>\n",
              "    </tr>\n",
              "    <tr>\n",
              "      <th>41151</th>\n",
              "      <td>41151</td>\n",
              "      <td>Response to complaint not provided citing COVI...</td>\n",
              "      <td>0</td>\n",
              "      <td>[Response, to, complaint, not, provided, citin...</td>\n",
              "    </tr>\n",
              "    <tr>\n",
              "      <th>41152</th>\n",
              "      <td>41152</td>\n",
              "      <td>You know itÂs getting tough when @KameronWild...</td>\n",
              "      <td>2</td>\n",
              "      <td>[You, know, itÂs, getting, tough, when, @Kame...</td>\n",
              "    </tr>\n",
              "    <tr>\n",
              "      <th>41153</th>\n",
              "      <td>41153</td>\n",
              "      <td>Is it wrong that the smell of hand sanitizer i...</td>\n",
              "      <td>1</td>\n",
              "      <td>[Is, it, wrong, that, the, smell, of, hand, sa...</td>\n",
              "    </tr>\n",
              "    <tr>\n",
              "      <th>41154</th>\n",
              "      <td>41154</td>\n",
              "      <td>@TartiiCat Well new/used Rift S are going for ...</td>\n",
              "      <td>0</td>\n",
              "      <td>[@TartiiCat, Well, new/used, Rift, S, are, goi...</td>\n",
              "    </tr>\n",
              "  </tbody>\n",
              "</table>\n",
              "<p>41151 rows × 4 columns</p>\n",
              "</div>\n",
              "      <button class=\"colab-df-convert\" onclick=\"convertToInteractive('df-1d3102fa-70f1-4279-84d6-c4b0ee03b7fc')\"\n",
              "              title=\"Convert this dataframe to an interactive table.\"\n",
              "              style=\"display:none;\">\n",
              "        \n",
              "  <svg xmlns=\"http://www.w3.org/2000/svg\" height=\"24px\"viewBox=\"0 0 24 24\"\n",
              "       width=\"24px\">\n",
              "    <path d=\"M0 0h24v24H0V0z\" fill=\"none\"/>\n",
              "    <path d=\"M18.56 5.44l.94 2.06.94-2.06 2.06-.94-2.06-.94-.94-2.06-.94 2.06-2.06.94zm-11 1L8.5 8.5l.94-2.06 2.06-.94-2.06-.94L8.5 2.5l-.94 2.06-2.06.94zm10 10l.94 2.06.94-2.06 2.06-.94-2.06-.94-.94-2.06-.94 2.06-2.06.94z\"/><path d=\"M17.41 7.96l-1.37-1.37c-.4-.4-.92-.59-1.43-.59-.52 0-1.04.2-1.43.59L10.3 9.45l-7.72 7.72c-.78.78-.78 2.05 0 2.83L4 21.41c.39.39.9.59 1.41.59.51 0 1.02-.2 1.41-.59l7.78-7.78 2.81-2.81c.8-.78.8-2.07 0-2.86zM5.41 20L4 18.59l7.72-7.72 1.47 1.35L5.41 20z\"/>\n",
              "  </svg>\n",
              "      </button>\n",
              "      \n",
              "  <style>\n",
              "    .colab-df-container {\n",
              "      display:flex;\n",
              "      flex-wrap:wrap;\n",
              "      gap: 12px;\n",
              "    }\n",
              "\n",
              "    .colab-df-convert {\n",
              "      background-color: #E8F0FE;\n",
              "      border: none;\n",
              "      border-radius: 50%;\n",
              "      cursor: pointer;\n",
              "      display: none;\n",
              "      fill: #1967D2;\n",
              "      height: 32px;\n",
              "      padding: 0 0 0 0;\n",
              "      width: 32px;\n",
              "    }\n",
              "\n",
              "    .colab-df-convert:hover {\n",
              "      background-color: #E2EBFA;\n",
              "      box-shadow: 0px 1px 2px rgba(60, 64, 67, 0.3), 0px 1px 3px 1px rgba(60, 64, 67, 0.15);\n",
              "      fill: #174EA6;\n",
              "    }\n",
              "\n",
              "    [theme=dark] .colab-df-convert {\n",
              "      background-color: #3B4455;\n",
              "      fill: #D2E3FC;\n",
              "    }\n",
              "\n",
              "    [theme=dark] .colab-df-convert:hover {\n",
              "      background-color: #434B5C;\n",
              "      box-shadow: 0px 1px 3px 1px rgba(0, 0, 0, 0.15);\n",
              "      filter: drop-shadow(0px 1px 2px rgba(0, 0, 0, 0.3));\n",
              "      fill: #FFFFFF;\n",
              "    }\n",
              "  </style>\n",
              "\n",
              "      <script>\n",
              "        const buttonEl =\n",
              "          document.querySelector('#df-1d3102fa-70f1-4279-84d6-c4b0ee03b7fc button.colab-df-convert');\n",
              "        buttonEl.style.display =\n",
              "          google.colab.kernel.accessAllowed ? 'block' : 'none';\n",
              "\n",
              "        async function convertToInteractive(key) {\n",
              "          const element = document.querySelector('#df-1d3102fa-70f1-4279-84d6-c4b0ee03b7fc');\n",
              "          const dataTable =\n",
              "            await google.colab.kernel.invokeFunction('convertToInteractive',\n",
              "                                                     [key], {});\n",
              "          if (!dataTable) return;\n",
              "\n",
              "          const docLinkHtml = 'Like what you see? Visit the ' +\n",
              "            '<a target=\"_blank\" href=https://colab.research.google.com/notebooks/data_table.ipynb>data table notebook</a>'\n",
              "            + ' to learn more about interactive tables.';\n",
              "          element.innerHTML = '';\n",
              "          dataTable['output_type'] = 'display_data';\n",
              "          await google.colab.output.renderOutput(dataTable, element);\n",
              "          const docLink = document.createElement('div');\n",
              "          docLink.innerHTML = docLinkHtml;\n",
              "          element.appendChild(docLink);\n",
              "        }\n",
              "      </script>\n",
              "    </div>\n",
              "  </div>\n",
              "  "
            ]
          },
          "metadata": {},
          "execution_count": 76
        }
      ]
    },
    {
      "cell_type": "markdown",
      "source": [
        "###C"
      ],
      "metadata": {
        "id": "x6T2ZKhAMZw2"
      }
    },
    {
      "cell_type": "code",
      "source": [
        "pattern = 'http'\n",
        "for row in train_data['tokens']:\n",
        "  for item in row:\n",
        "      new_item = re.match(pattern, item)\n",
        "      if new_item is not None:\n",
        "        row.remove(item)\n",
        "\n",
        "train_data.head(5)"
      ],
      "metadata": {
        "id": "u5r4WfGbG6or",
        "colab": {
          "base_uri": "https://localhost:8080/",
          "height": 302
        },
        "outputId": "d60a6319-1d1c-4198-8c10-021c52998c14"
      },
      "execution_count": 77,
      "outputs": [
        {
          "output_type": "execute_result",
          "data": {
            "text/plain": [
              "   Unnamed: 0                                      OriginalTweet Sentiment  \\\n",
              "0           0  @MeNyrbie @Phil_Gahan @Chrisitv https://t.co/i...         1   \n",
              "1           1  advice Talk to your neighbours family to excha...         2   \n",
              "2           2  Coronavirus Australia: Woolworths to give elde...         2   \n",
              "3           3  My food stock is not the only one which is emp...         2   \n",
              "4           4  Me, ready to go at supermarket during the #COV...         0   \n",
              "\n",
              "                                              tokens  \n",
              "0      [@MeNyrbie, @Phil_Gahan, @Chrisitv, and, and]  \n",
              "1  [advice, Talk, to, your, neighbours, family, t...  \n",
              "2  [Coronavirus, Australia:, Woolworths, to, give...  \n",
              "3  [My, food, stock, is, not, the, only, one, whi...  \n",
              "4  [Me,, ready, to, go, at, supermarket, during, ...  "
            ],
            "text/html": [
              "\n",
              "  <div id=\"df-c428aa54-daa0-4f8e-90c0-4412864505d4\">\n",
              "    <div class=\"colab-df-container\">\n",
              "      <div>\n",
              "<style scoped>\n",
              "    .dataframe tbody tr th:only-of-type {\n",
              "        vertical-align: middle;\n",
              "    }\n",
              "\n",
              "    .dataframe tbody tr th {\n",
              "        vertical-align: top;\n",
              "    }\n",
              "\n",
              "    .dataframe thead th {\n",
              "        text-align: right;\n",
              "    }\n",
              "</style>\n",
              "<table border=\"1\" class=\"dataframe\">\n",
              "  <thead>\n",
              "    <tr style=\"text-align: right;\">\n",
              "      <th></th>\n",
              "      <th>Unnamed: 0</th>\n",
              "      <th>OriginalTweet</th>\n",
              "      <th>Sentiment</th>\n",
              "      <th>tokens</th>\n",
              "    </tr>\n",
              "  </thead>\n",
              "  <tbody>\n",
              "    <tr>\n",
              "      <th>0</th>\n",
              "      <td>0</td>\n",
              "      <td>@MeNyrbie @Phil_Gahan @Chrisitv https://t.co/i...</td>\n",
              "      <td>1</td>\n",
              "      <td>[@MeNyrbie, @Phil_Gahan, @Chrisitv, and, and]</td>\n",
              "    </tr>\n",
              "    <tr>\n",
              "      <th>1</th>\n",
              "      <td>1</td>\n",
              "      <td>advice Talk to your neighbours family to excha...</td>\n",
              "      <td>2</td>\n",
              "      <td>[advice, Talk, to, your, neighbours, family, t...</td>\n",
              "    </tr>\n",
              "    <tr>\n",
              "      <th>2</th>\n",
              "      <td>2</td>\n",
              "      <td>Coronavirus Australia: Woolworths to give elde...</td>\n",
              "      <td>2</td>\n",
              "      <td>[Coronavirus, Australia:, Woolworths, to, give...</td>\n",
              "    </tr>\n",
              "    <tr>\n",
              "      <th>3</th>\n",
              "      <td>3</td>\n",
              "      <td>My food stock is not the only one which is emp...</td>\n",
              "      <td>2</td>\n",
              "      <td>[My, food, stock, is, not, the, only, one, whi...</td>\n",
              "    </tr>\n",
              "    <tr>\n",
              "      <th>4</th>\n",
              "      <td>4</td>\n",
              "      <td>Me, ready to go at supermarket during the #COV...</td>\n",
              "      <td>0</td>\n",
              "      <td>[Me,, ready, to, go, at, supermarket, during, ...</td>\n",
              "    </tr>\n",
              "  </tbody>\n",
              "</table>\n",
              "</div>\n",
              "      <button class=\"colab-df-convert\" onclick=\"convertToInteractive('df-c428aa54-daa0-4f8e-90c0-4412864505d4')\"\n",
              "              title=\"Convert this dataframe to an interactive table.\"\n",
              "              style=\"display:none;\">\n",
              "        \n",
              "  <svg xmlns=\"http://www.w3.org/2000/svg\" height=\"24px\"viewBox=\"0 0 24 24\"\n",
              "       width=\"24px\">\n",
              "    <path d=\"M0 0h24v24H0V0z\" fill=\"none\"/>\n",
              "    <path d=\"M18.56 5.44l.94 2.06.94-2.06 2.06-.94-2.06-.94-.94-2.06-.94 2.06-2.06.94zm-11 1L8.5 8.5l.94-2.06 2.06-.94-2.06-.94L8.5 2.5l-.94 2.06-2.06.94zm10 10l.94 2.06.94-2.06 2.06-.94-2.06-.94-.94-2.06-.94 2.06-2.06.94z\"/><path d=\"M17.41 7.96l-1.37-1.37c-.4-.4-.92-.59-1.43-.59-.52 0-1.04.2-1.43.59L10.3 9.45l-7.72 7.72c-.78.78-.78 2.05 0 2.83L4 21.41c.39.39.9.59 1.41.59.51 0 1.02-.2 1.41-.59l7.78-7.78 2.81-2.81c.8-.78.8-2.07 0-2.86zM5.41 20L4 18.59l7.72-7.72 1.47 1.35L5.41 20z\"/>\n",
              "  </svg>\n",
              "      </button>\n",
              "      \n",
              "  <style>\n",
              "    .colab-df-container {\n",
              "      display:flex;\n",
              "      flex-wrap:wrap;\n",
              "      gap: 12px;\n",
              "    }\n",
              "\n",
              "    .colab-df-convert {\n",
              "      background-color: #E8F0FE;\n",
              "      border: none;\n",
              "      border-radius: 50%;\n",
              "      cursor: pointer;\n",
              "      display: none;\n",
              "      fill: #1967D2;\n",
              "      height: 32px;\n",
              "      padding: 0 0 0 0;\n",
              "      width: 32px;\n",
              "    }\n",
              "\n",
              "    .colab-df-convert:hover {\n",
              "      background-color: #E2EBFA;\n",
              "      box-shadow: 0px 1px 2px rgba(60, 64, 67, 0.3), 0px 1px 3px 1px rgba(60, 64, 67, 0.15);\n",
              "      fill: #174EA6;\n",
              "    }\n",
              "\n",
              "    [theme=dark] .colab-df-convert {\n",
              "      background-color: #3B4455;\n",
              "      fill: #D2E3FC;\n",
              "    }\n",
              "\n",
              "    [theme=dark] .colab-df-convert:hover {\n",
              "      background-color: #434B5C;\n",
              "      box-shadow: 0px 1px 3px 1px rgba(0, 0, 0, 0.15);\n",
              "      filter: drop-shadow(0px 1px 2px rgba(0, 0, 0, 0.3));\n",
              "      fill: #FFFFFF;\n",
              "    }\n",
              "  </style>\n",
              "\n",
              "      <script>\n",
              "        const buttonEl =\n",
              "          document.querySelector('#df-c428aa54-daa0-4f8e-90c0-4412864505d4 button.colab-df-convert');\n",
              "        buttonEl.style.display =\n",
              "          google.colab.kernel.accessAllowed ? 'block' : 'none';\n",
              "\n",
              "        async function convertToInteractive(key) {\n",
              "          const element = document.querySelector('#df-c428aa54-daa0-4f8e-90c0-4412864505d4');\n",
              "          const dataTable =\n",
              "            await google.colab.kernel.invokeFunction('convertToInteractive',\n",
              "                                                     [key], {});\n",
              "          if (!dataTable) return;\n",
              "\n",
              "          const docLinkHtml = 'Like what you see? Visit the ' +\n",
              "            '<a target=\"_blank\" href=https://colab.research.google.com/notebooks/data_table.ipynb>data table notebook</a>'\n",
              "            + ' to learn more about interactive tables.';\n",
              "          element.innerHTML = '';\n",
              "          dataTable['output_type'] = 'display_data';\n",
              "          await google.colab.output.renderOutput(dataTable, element);\n",
              "          const docLink = document.createElement('div');\n",
              "          docLink.innerHTML = docLinkHtml;\n",
              "          element.appendChild(docLink);\n",
              "        }\n",
              "      </script>\n",
              "    </div>\n",
              "  </div>\n",
              "  "
            ]
          },
          "metadata": {},
          "execution_count": 77
        }
      ]
    },
    {
      "cell_type": "markdown",
      "source": [
        "###D"
      ],
      "metadata": {
        "id": "kVm1B8RUOKLI"
      }
    },
    {
      "cell_type": "code",
      "source": [
        "new_tokens = []\n",
        "\n",
        "for row in train_data['tokens']:\n",
        "  new_row = []\n",
        "  for item in row:\n",
        "    new_item = item.lower()\n",
        "    new_item = re.sub('[^a-z0-9]*', '', new_item)\n",
        "    new_row.append(new_item)\n",
        "  new_tokens.append(new_row)\n",
        "\n",
        "train_data['aphanumeric_token'] = new_tokens\n",
        "train_data"
      ],
      "metadata": {
        "id": "Ln3Wh1tJL005",
        "colab": {
          "base_uri": "https://localhost:8080/",
          "height": 835
        },
        "outputId": "b8094e3c-8fc8-45ef-ba94-a84cab176c29"
      },
      "execution_count": 78,
      "outputs": [
        {
          "output_type": "stream",
          "name": "stderr",
          "text": [
            "/usr/local/lib/python3.7/dist-packages/ipykernel_launcher.py:11: SettingWithCopyWarning: \n",
            "A value is trying to be set on a copy of a slice from a DataFrame.\n",
            "Try using .loc[row_indexer,col_indexer] = value instead\n",
            "\n",
            "See the caveats in the documentation: https://pandas.pydata.org/pandas-docs/stable/user_guide/indexing.html#returning-a-view-versus-a-copy\n",
            "  # This is added back by InteractiveShellApp.init_path()\n"
          ]
        },
        {
          "output_type": "execute_result",
          "data": {
            "text/plain": [
              "       Unnamed: 0                                      OriginalTweet  \\\n",
              "0               0  @MeNyrbie @Phil_Gahan @Chrisitv https://t.co/i...   \n",
              "1               1  advice Talk to your neighbours family to excha...   \n",
              "2               2  Coronavirus Australia: Woolworths to give elde...   \n",
              "3               3  My food stock is not the only one which is emp...   \n",
              "4               4  Me, ready to go at supermarket during the #COV...   \n",
              "...           ...                                                ...   \n",
              "41150       41150  Airline pilots offering to stock supermarket s...   \n",
              "41151       41151  Response to complaint not provided citing COVI...   \n",
              "41152       41152  You know itÂs getting tough when @KameronWild...   \n",
              "41153       41153  Is it wrong that the smell of hand sanitizer i...   \n",
              "41154       41154  @TartiiCat Well new/used Rift S are going for ...   \n",
              "\n",
              "      Sentiment                                             tokens  \\\n",
              "0             1      [@MeNyrbie, @Phil_Gahan, @Chrisitv, and, and]   \n",
              "1             2  [advice, Talk, to, your, neighbours, family, t...   \n",
              "2             2  [Coronavirus, Australia:, Woolworths, to, give...   \n",
              "3             2  [My, food, stock, is, not, the, only, one, whi...   \n",
              "4             0  [Me,, ready, to, go, at, supermarket, during, ...   \n",
              "...         ...                                                ...   \n",
              "41150         1  [Airline, pilots, offering, to, stock, superma...   \n",
              "41151         0  [Response, to, complaint, not, provided, citin...   \n",
              "41152         2  [You, know, itÂs, getting, tough, when, @Kame...   \n",
              "41153         1  [Is, it, wrong, that, the, smell, of, hand, sa...   \n",
              "41154         0  [@TartiiCat, Well, new/used, Rift, S, are, goi...   \n",
              "\n",
              "                                       aphanumeric_token  \n",
              "0              [menyrbie, philgahan, chrisitv, and, and]  \n",
              "1      [advice, talk, to, your, neighbours, family, t...  \n",
              "2      [coronavirus, australia, woolworths, to, give,...  \n",
              "3      [my, food, stock, is, not, the, only, one, whi...  \n",
              "4      [me, ready, to, go, at, supermarket, during, t...  \n",
              "...                                                  ...  \n",
              "41150  [airline, pilots, offering, to, stock, superma...  \n",
              "41151  [response, to, complaint, not, provided, citin...  \n",
              "41152  [you, know, its, getting, tough, when, kameron...  \n",
              "41153  [is, it, wrong, that, the, smell, of, hand, sa...  \n",
              "41154  [tartiicat, well, newused, rift, s, are, going...  \n",
              "\n",
              "[41151 rows x 5 columns]"
            ],
            "text/html": [
              "\n",
              "  <div id=\"df-cf5bad5c-9d3b-4b84-885c-785956d99d6d\">\n",
              "    <div class=\"colab-df-container\">\n",
              "      <div>\n",
              "<style scoped>\n",
              "    .dataframe tbody tr th:only-of-type {\n",
              "        vertical-align: middle;\n",
              "    }\n",
              "\n",
              "    .dataframe tbody tr th {\n",
              "        vertical-align: top;\n",
              "    }\n",
              "\n",
              "    .dataframe thead th {\n",
              "        text-align: right;\n",
              "    }\n",
              "</style>\n",
              "<table border=\"1\" class=\"dataframe\">\n",
              "  <thead>\n",
              "    <tr style=\"text-align: right;\">\n",
              "      <th></th>\n",
              "      <th>Unnamed: 0</th>\n",
              "      <th>OriginalTweet</th>\n",
              "      <th>Sentiment</th>\n",
              "      <th>tokens</th>\n",
              "      <th>aphanumeric_token</th>\n",
              "    </tr>\n",
              "  </thead>\n",
              "  <tbody>\n",
              "    <tr>\n",
              "      <th>0</th>\n",
              "      <td>0</td>\n",
              "      <td>@MeNyrbie @Phil_Gahan @Chrisitv https://t.co/i...</td>\n",
              "      <td>1</td>\n",
              "      <td>[@MeNyrbie, @Phil_Gahan, @Chrisitv, and, and]</td>\n",
              "      <td>[menyrbie, philgahan, chrisitv, and, and]</td>\n",
              "    </tr>\n",
              "    <tr>\n",
              "      <th>1</th>\n",
              "      <td>1</td>\n",
              "      <td>advice Talk to your neighbours family to excha...</td>\n",
              "      <td>2</td>\n",
              "      <td>[advice, Talk, to, your, neighbours, family, t...</td>\n",
              "      <td>[advice, talk, to, your, neighbours, family, t...</td>\n",
              "    </tr>\n",
              "    <tr>\n",
              "      <th>2</th>\n",
              "      <td>2</td>\n",
              "      <td>Coronavirus Australia: Woolworths to give elde...</td>\n",
              "      <td>2</td>\n",
              "      <td>[Coronavirus, Australia:, Woolworths, to, give...</td>\n",
              "      <td>[coronavirus, australia, woolworths, to, give,...</td>\n",
              "    </tr>\n",
              "    <tr>\n",
              "      <th>3</th>\n",
              "      <td>3</td>\n",
              "      <td>My food stock is not the only one which is emp...</td>\n",
              "      <td>2</td>\n",
              "      <td>[My, food, stock, is, not, the, only, one, whi...</td>\n",
              "      <td>[my, food, stock, is, not, the, only, one, whi...</td>\n",
              "    </tr>\n",
              "    <tr>\n",
              "      <th>4</th>\n",
              "      <td>4</td>\n",
              "      <td>Me, ready to go at supermarket during the #COV...</td>\n",
              "      <td>0</td>\n",
              "      <td>[Me,, ready, to, go, at, supermarket, during, ...</td>\n",
              "      <td>[me, ready, to, go, at, supermarket, during, t...</td>\n",
              "    </tr>\n",
              "    <tr>\n",
              "      <th>...</th>\n",
              "      <td>...</td>\n",
              "      <td>...</td>\n",
              "      <td>...</td>\n",
              "      <td>...</td>\n",
              "      <td>...</td>\n",
              "    </tr>\n",
              "    <tr>\n",
              "      <th>41150</th>\n",
              "      <td>41150</td>\n",
              "      <td>Airline pilots offering to stock supermarket s...</td>\n",
              "      <td>1</td>\n",
              "      <td>[Airline, pilots, offering, to, stock, superma...</td>\n",
              "      <td>[airline, pilots, offering, to, stock, superma...</td>\n",
              "    </tr>\n",
              "    <tr>\n",
              "      <th>41151</th>\n",
              "      <td>41151</td>\n",
              "      <td>Response to complaint not provided citing COVI...</td>\n",
              "      <td>0</td>\n",
              "      <td>[Response, to, complaint, not, provided, citin...</td>\n",
              "      <td>[response, to, complaint, not, provided, citin...</td>\n",
              "    </tr>\n",
              "    <tr>\n",
              "      <th>41152</th>\n",
              "      <td>41152</td>\n",
              "      <td>You know itÂs getting tough when @KameronWild...</td>\n",
              "      <td>2</td>\n",
              "      <td>[You, know, itÂs, getting, tough, when, @Kame...</td>\n",
              "      <td>[you, know, its, getting, tough, when, kameron...</td>\n",
              "    </tr>\n",
              "    <tr>\n",
              "      <th>41153</th>\n",
              "      <td>41153</td>\n",
              "      <td>Is it wrong that the smell of hand sanitizer i...</td>\n",
              "      <td>1</td>\n",
              "      <td>[Is, it, wrong, that, the, smell, of, hand, sa...</td>\n",
              "      <td>[is, it, wrong, that, the, smell, of, hand, sa...</td>\n",
              "    </tr>\n",
              "    <tr>\n",
              "      <th>41154</th>\n",
              "      <td>41154</td>\n",
              "      <td>@TartiiCat Well new/used Rift S are going for ...</td>\n",
              "      <td>0</td>\n",
              "      <td>[@TartiiCat, Well, new/used, Rift, S, are, goi...</td>\n",
              "      <td>[tartiicat, well, newused, rift, s, are, going...</td>\n",
              "    </tr>\n",
              "  </tbody>\n",
              "</table>\n",
              "<p>41151 rows × 5 columns</p>\n",
              "</div>\n",
              "      <button class=\"colab-df-convert\" onclick=\"convertToInteractive('df-cf5bad5c-9d3b-4b84-885c-785956d99d6d')\"\n",
              "              title=\"Convert this dataframe to an interactive table.\"\n",
              "              style=\"display:none;\">\n",
              "        \n",
              "  <svg xmlns=\"http://www.w3.org/2000/svg\" height=\"24px\"viewBox=\"0 0 24 24\"\n",
              "       width=\"24px\">\n",
              "    <path d=\"M0 0h24v24H0V0z\" fill=\"none\"/>\n",
              "    <path d=\"M18.56 5.44l.94 2.06.94-2.06 2.06-.94-2.06-.94-.94-2.06-.94 2.06-2.06.94zm-11 1L8.5 8.5l.94-2.06 2.06-.94-2.06-.94L8.5 2.5l-.94 2.06-2.06.94zm10 10l.94 2.06.94-2.06 2.06-.94-2.06-.94-.94-2.06-.94 2.06-2.06.94z\"/><path d=\"M17.41 7.96l-1.37-1.37c-.4-.4-.92-.59-1.43-.59-.52 0-1.04.2-1.43.59L10.3 9.45l-7.72 7.72c-.78.78-.78 2.05 0 2.83L4 21.41c.39.39.9.59 1.41.59.51 0 1.02-.2 1.41-.59l7.78-7.78 2.81-2.81c.8-.78.8-2.07 0-2.86zM5.41 20L4 18.59l7.72-7.72 1.47 1.35L5.41 20z\"/>\n",
              "  </svg>\n",
              "      </button>\n",
              "      \n",
              "  <style>\n",
              "    .colab-df-container {\n",
              "      display:flex;\n",
              "      flex-wrap:wrap;\n",
              "      gap: 12px;\n",
              "    }\n",
              "\n",
              "    .colab-df-convert {\n",
              "      background-color: #E8F0FE;\n",
              "      border: none;\n",
              "      border-radius: 50%;\n",
              "      cursor: pointer;\n",
              "      display: none;\n",
              "      fill: #1967D2;\n",
              "      height: 32px;\n",
              "      padding: 0 0 0 0;\n",
              "      width: 32px;\n",
              "    }\n",
              "\n",
              "    .colab-df-convert:hover {\n",
              "      background-color: #E2EBFA;\n",
              "      box-shadow: 0px 1px 2px rgba(60, 64, 67, 0.3), 0px 1px 3px 1px rgba(60, 64, 67, 0.15);\n",
              "      fill: #174EA6;\n",
              "    }\n",
              "\n",
              "    [theme=dark] .colab-df-convert {\n",
              "      background-color: #3B4455;\n",
              "      fill: #D2E3FC;\n",
              "    }\n",
              "\n",
              "    [theme=dark] .colab-df-convert:hover {\n",
              "      background-color: #434B5C;\n",
              "      box-shadow: 0px 1px 3px 1px rgba(0, 0, 0, 0.15);\n",
              "      filter: drop-shadow(0px 1px 2px rgba(0, 0, 0, 0.3));\n",
              "      fill: #FFFFFF;\n",
              "    }\n",
              "  </style>\n",
              "\n",
              "      <script>\n",
              "        const buttonEl =\n",
              "          document.querySelector('#df-cf5bad5c-9d3b-4b84-885c-785956d99d6d button.colab-df-convert');\n",
              "        buttonEl.style.display =\n",
              "          google.colab.kernel.accessAllowed ? 'block' : 'none';\n",
              "\n",
              "        async function convertToInteractive(key) {\n",
              "          const element = document.querySelector('#df-cf5bad5c-9d3b-4b84-885c-785956d99d6d');\n",
              "          const dataTable =\n",
              "            await google.colab.kernel.invokeFunction('convertToInteractive',\n",
              "                                                     [key], {});\n",
              "          if (!dataTable) return;\n",
              "\n",
              "          const docLinkHtml = 'Like what you see? Visit the ' +\n",
              "            '<a target=\"_blank\" href=https://colab.research.google.com/notebooks/data_table.ipynb>data table notebook</a>'\n",
              "            + ' to learn more about interactive tables.';\n",
              "          element.innerHTML = '';\n",
              "          dataTable['output_type'] = 'display_data';\n",
              "          await google.colab.output.renderOutput(dataTable, element);\n",
              "          const docLink = document.createElement('div');\n",
              "          docLink.innerHTML = docLinkHtml;\n",
              "          element.appendChild(docLink);\n",
              "        }\n",
              "      </script>\n",
              "    </div>\n",
              "  </div>\n",
              "  "
            ]
          },
          "metadata": {},
          "execution_count": 78
        }
      ]
    },
    {
      "cell_type": "markdown",
      "source": [
        "###E"
      ],
      "metadata": {
        "id": "xvGJgqJBO13Y"
      }
    },
    {
      "cell_type": "code",
      "source": [
        "#### Stemming tokens ####\n",
        "stemmer = PorterStemmer()\n",
        "stemmed_tokens = []\n",
        "\n",
        "\n",
        "for row in train_data['aphanumeric_token']:\n",
        "  stemmed_row = []\n",
        "  for item in row:\n",
        "    token_stems = stemmer.stem(item)\n",
        "    stemmed_row.append(token_stems)\n",
        "  stemmed_tokens.append(stemmed_row)\n",
        "\n",
        "train_data['stemmed_tokens'] = stemmed_tokens"
      ],
      "metadata": {
        "id": "hCOgg2y-MtYv",
        "colab": {
          "base_uri": "https://localhost:8080/"
        },
        "outputId": "36c245fb-00d6-4f23-eff6-358ad2e70c5c"
      },
      "execution_count": 79,
      "outputs": [
        {
          "output_type": "stream",
          "name": "stderr",
          "text": [
            "/usr/local/lib/python3.7/dist-packages/ipykernel_launcher.py:13: SettingWithCopyWarning: \n",
            "A value is trying to be set on a copy of a slice from a DataFrame.\n",
            "Try using .loc[row_indexer,col_indexer] = value instead\n",
            "\n",
            "See the caveats in the documentation: https://pandas.pydata.org/pandas-docs/stable/user_guide/indexing.html#returning-a-view-versus-a-copy\n",
            "  del sys.path[0]\n"
          ]
        }
      ]
    },
    {
      "cell_type": "markdown",
      "source": [
        "###F"
      ],
      "metadata": {
        "id": "D1ApLlqCRN65"
      }
    },
    {
      "cell_type": "code",
      "source": [
        "nltk.download('stopwords')\n",
        "sw = stopwords.words('english')[:100]\n",
        "\n",
        "new_tokens = []\n",
        "for row in train_data['stemmed_tokens']:\n",
        "  new_row = []\n",
        "  for item in row:\n",
        "    if item not in sw and item != '':\n",
        "      new_row.append(item)\n",
        "  new_tokens.append(new_row)\n",
        "\n",
        "train_data['tokens_no_sw'] = new_tokens\n"
      ],
      "metadata": {
        "id": "jZ-VqlPFPFDS",
        "colab": {
          "base_uri": "https://localhost:8080/"
        },
        "outputId": "ed374435-c857-484b-e3b1-cc1668a325d9"
      },
      "execution_count": 95,
      "outputs": [
        {
          "output_type": "stream",
          "name": "stdout",
          "text": [
            "[nltk_data] Downloading package stopwords to /root/nltk_data...\n",
            "[nltk_data]   Package stopwords is already up-to-date!\n"
          ]
        },
        {
          "output_type": "stream",
          "name": "stderr",
          "text": [
            "/usr/local/lib/python3.7/dist-packages/ipykernel_launcher.py:13: SettingWithCopyWarning: \n",
            "A value is trying to be set on a copy of a slice from a DataFrame.\n",
            "Try using .loc[row_indexer,col_indexer] = value instead\n",
            "\n",
            "See the caveats in the documentation: https://pandas.pydata.org/pandas-docs/stable/user_guide/indexing.html#returning-a-view-versus-a-copy\n",
            "  del sys.path[0]\n"
          ]
        }
      ]
    },
    {
      "cell_type": "code",
      "source": [
        "train_data"
      ],
      "metadata": {
        "colab": {
          "base_uri": "https://localhost:8080/",
          "height": 1000
        },
        "id": "9LeVvMe0QM8z",
        "outputId": "31e5a789-721c-49b9-875f-2a30679ac304"
      },
      "execution_count": 96,
      "outputs": [
        {
          "output_type": "execute_result",
          "data": {
            "text/plain": [
              "       Unnamed: 0                                      OriginalTweet  \\\n",
              "0               0  @MeNyrbie @Phil_Gahan @Chrisitv https://t.co/i...   \n",
              "1               1  advice Talk to your neighbours family to excha...   \n",
              "2               2  Coronavirus Australia: Woolworths to give elde...   \n",
              "3               3  My food stock is not the only one which is emp...   \n",
              "4               4  Me, ready to go at supermarket during the #COV...   \n",
              "...           ...                                                ...   \n",
              "41150       41150  Airline pilots offering to stock supermarket s...   \n",
              "41151       41151  Response to complaint not provided citing COVI...   \n",
              "41152       41152  You know itÂs getting tough when @KameronWild...   \n",
              "41153       41153  Is it wrong that the smell of hand sanitizer i...   \n",
              "41154       41154  @TartiiCat Well new/used Rift S are going for ...   \n",
              "\n",
              "      Sentiment                                             tokens  \\\n",
              "0             1      [@MeNyrbie, @Phil_Gahan, @Chrisitv, and, and]   \n",
              "1             2  [advice, Talk, to, your, neighbours, family, t...   \n",
              "2             2  [Coronavirus, Australia:, Woolworths, to, give...   \n",
              "3             2  [My, food, stock, is, not, the, only, one, whi...   \n",
              "4             0  [Me,, ready, to, go, at, supermarket, during, ...   \n",
              "...         ...                                                ...   \n",
              "41150         1  [Airline, pilots, offering, to, stock, superma...   \n",
              "41151         0  [Response, to, complaint, not, provided, citin...   \n",
              "41152         2  [You, know, itÂs, getting, tough, when, @Kame...   \n",
              "41153         1  [Is, it, wrong, that, the, smell, of, hand, sa...   \n",
              "41154         0  [@TartiiCat, Well, new/used, Rift, S, are, goi...   \n",
              "\n",
              "                                       aphanumeric_token  \\\n",
              "0              [menyrbie, philgahan, chrisitv, and, and]   \n",
              "1      [advice, talk, to, your, neighbours, family, t...   \n",
              "2      [coronavirus, australia, woolworths, to, give,...   \n",
              "3      [my, food, stock, is, not, the, only, one, whi...   \n",
              "4      [me, ready, to, go, at, supermarket, during, t...   \n",
              "...                                                  ...   \n",
              "41150  [airline, pilots, offering, to, stock, superma...   \n",
              "41151  [response, to, complaint, not, provided, citin...   \n",
              "41152  [you, know, its, getting, tough, when, kameron...   \n",
              "41153  [is, it, wrong, that, the, smell, of, hand, sa...   \n",
              "41154  [tartiicat, well, newused, rift, s, are, going...   \n",
              "\n",
              "                                          stemmed_tokens  \\\n",
              "0               [menyrbi, philgahan, chrisitv, and, and]   \n",
              "1      [advic, talk, to, your, neighbour, famili, to,...   \n",
              "2      [coronaviru, australia, woolworth, to, give, e...   \n",
              "3      [my, food, stock, is, not, the, onli, one, whi...   \n",
              "4      [me, readi, to, go, at, supermarket, dure, the...   \n",
              "...                                                  ...   \n",
              "41150  [airlin, pilot, offer, to, stock, supermarket,...   \n",
              "41151  [respons, to, complaint, not, provid, cite, co...   \n",
              "41152  [you, know, it, get, tough, when, kameronwild,...   \n",
              "41153  [is, it, wrong, that, the, smell, of, hand, sa...   \n",
              "41154  [tartiicat, well, newus, rift, s, are, go, for...   \n",
              "\n",
              "                                            tokens_no_sw  \n",
              "0                         [menyrbi, philgahan, chrisitv]  \n",
              "1      [advic, talk, neighbour, famili, exchang, phon...  \n",
              "2      [coronaviru, australia, woolworth, give, elder...  \n",
              "3      [food, stock, not, onli, one, empti, pleas, do...  \n",
              "4      [readi, go, supermarket, dure, covid19, outbre...  \n",
              "...                                                  ...  \n",
              "41150  [airlin, pilot, offer, stock, supermarket, she...  \n",
              "41151  [respons, complaint, not, provid, cite, covid1...  \n",
              "41152  [know, get, tough, when, kameronwild, ration, ...  \n",
              "41153  [wrong, smell, hand, sanit, start, turn, coron...  \n",
              "41154  [tartiicat, well, newus, rift, s, go, 70000, a...  \n",
              "\n",
              "[41151 rows x 7 columns]"
            ],
            "text/html": [
              "\n",
              "  <div id=\"df-aec97766-a47e-470d-9a4d-a21eb772300b\">\n",
              "    <div class=\"colab-df-container\">\n",
              "      <div>\n",
              "<style scoped>\n",
              "    .dataframe tbody tr th:only-of-type {\n",
              "        vertical-align: middle;\n",
              "    }\n",
              "\n",
              "    .dataframe tbody tr th {\n",
              "        vertical-align: top;\n",
              "    }\n",
              "\n",
              "    .dataframe thead th {\n",
              "        text-align: right;\n",
              "    }\n",
              "</style>\n",
              "<table border=\"1\" class=\"dataframe\">\n",
              "  <thead>\n",
              "    <tr style=\"text-align: right;\">\n",
              "      <th></th>\n",
              "      <th>Unnamed: 0</th>\n",
              "      <th>OriginalTweet</th>\n",
              "      <th>Sentiment</th>\n",
              "      <th>tokens</th>\n",
              "      <th>aphanumeric_token</th>\n",
              "      <th>stemmed_tokens</th>\n",
              "      <th>tokens_no_sw</th>\n",
              "    </tr>\n",
              "  </thead>\n",
              "  <tbody>\n",
              "    <tr>\n",
              "      <th>0</th>\n",
              "      <td>0</td>\n",
              "      <td>@MeNyrbie @Phil_Gahan @Chrisitv https://t.co/i...</td>\n",
              "      <td>1</td>\n",
              "      <td>[@MeNyrbie, @Phil_Gahan, @Chrisitv, and, and]</td>\n",
              "      <td>[menyrbie, philgahan, chrisitv, and, and]</td>\n",
              "      <td>[menyrbi, philgahan, chrisitv, and, and]</td>\n",
              "      <td>[menyrbi, philgahan, chrisitv]</td>\n",
              "    </tr>\n",
              "    <tr>\n",
              "      <th>1</th>\n",
              "      <td>1</td>\n",
              "      <td>advice Talk to your neighbours family to excha...</td>\n",
              "      <td>2</td>\n",
              "      <td>[advice, Talk, to, your, neighbours, family, t...</td>\n",
              "      <td>[advice, talk, to, your, neighbours, family, t...</td>\n",
              "      <td>[advic, talk, to, your, neighbour, famili, to,...</td>\n",
              "      <td>[advic, talk, neighbour, famili, exchang, phon...</td>\n",
              "    </tr>\n",
              "    <tr>\n",
              "      <th>2</th>\n",
              "      <td>2</td>\n",
              "      <td>Coronavirus Australia: Woolworths to give elde...</td>\n",
              "      <td>2</td>\n",
              "      <td>[Coronavirus, Australia:, Woolworths, to, give...</td>\n",
              "      <td>[coronavirus, australia, woolworths, to, give,...</td>\n",
              "      <td>[coronaviru, australia, woolworth, to, give, e...</td>\n",
              "      <td>[coronaviru, australia, woolworth, give, elder...</td>\n",
              "    </tr>\n",
              "    <tr>\n",
              "      <th>3</th>\n",
              "      <td>3</td>\n",
              "      <td>My food stock is not the only one which is emp...</td>\n",
              "      <td>2</td>\n",
              "      <td>[My, food, stock, is, not, the, only, one, whi...</td>\n",
              "      <td>[my, food, stock, is, not, the, only, one, whi...</td>\n",
              "      <td>[my, food, stock, is, not, the, onli, one, whi...</td>\n",
              "      <td>[food, stock, not, onli, one, empti, pleas, do...</td>\n",
              "    </tr>\n",
              "    <tr>\n",
              "      <th>4</th>\n",
              "      <td>4</td>\n",
              "      <td>Me, ready to go at supermarket during the #COV...</td>\n",
              "      <td>0</td>\n",
              "      <td>[Me,, ready, to, go, at, supermarket, during, ...</td>\n",
              "      <td>[me, ready, to, go, at, supermarket, during, t...</td>\n",
              "      <td>[me, readi, to, go, at, supermarket, dure, the...</td>\n",
              "      <td>[readi, go, supermarket, dure, covid19, outbre...</td>\n",
              "    </tr>\n",
              "    <tr>\n",
              "      <th>...</th>\n",
              "      <td>...</td>\n",
              "      <td>...</td>\n",
              "      <td>...</td>\n",
              "      <td>...</td>\n",
              "      <td>...</td>\n",
              "      <td>...</td>\n",
              "      <td>...</td>\n",
              "    </tr>\n",
              "    <tr>\n",
              "      <th>41150</th>\n",
              "      <td>41150</td>\n",
              "      <td>Airline pilots offering to stock supermarket s...</td>\n",
              "      <td>1</td>\n",
              "      <td>[Airline, pilots, offering, to, stock, superma...</td>\n",
              "      <td>[airline, pilots, offering, to, stock, superma...</td>\n",
              "      <td>[airlin, pilot, offer, to, stock, supermarket,...</td>\n",
              "      <td>[airlin, pilot, offer, stock, supermarket, she...</td>\n",
              "    </tr>\n",
              "    <tr>\n",
              "      <th>41151</th>\n",
              "      <td>41151</td>\n",
              "      <td>Response to complaint not provided citing COVI...</td>\n",
              "      <td>0</td>\n",
              "      <td>[Response, to, complaint, not, provided, citin...</td>\n",
              "      <td>[response, to, complaint, not, provided, citin...</td>\n",
              "      <td>[respons, to, complaint, not, provid, cite, co...</td>\n",
              "      <td>[respons, complaint, not, provid, cite, covid1...</td>\n",
              "    </tr>\n",
              "    <tr>\n",
              "      <th>41152</th>\n",
              "      <td>41152</td>\n",
              "      <td>You know itÂs getting tough when @KameronWild...</td>\n",
              "      <td>2</td>\n",
              "      <td>[You, know, itÂs, getting, tough, when, @Kame...</td>\n",
              "      <td>[you, know, its, getting, tough, when, kameron...</td>\n",
              "      <td>[you, know, it, get, tough, when, kameronwild,...</td>\n",
              "      <td>[know, get, tough, when, kameronwild, ration, ...</td>\n",
              "    </tr>\n",
              "    <tr>\n",
              "      <th>41153</th>\n",
              "      <td>41153</td>\n",
              "      <td>Is it wrong that the smell of hand sanitizer i...</td>\n",
              "      <td>1</td>\n",
              "      <td>[Is, it, wrong, that, the, smell, of, hand, sa...</td>\n",
              "      <td>[is, it, wrong, that, the, smell, of, hand, sa...</td>\n",
              "      <td>[is, it, wrong, that, the, smell, of, hand, sa...</td>\n",
              "      <td>[wrong, smell, hand, sanit, start, turn, coron...</td>\n",
              "    </tr>\n",
              "    <tr>\n",
              "      <th>41154</th>\n",
              "      <td>41154</td>\n",
              "      <td>@TartiiCat Well new/used Rift S are going for ...</td>\n",
              "      <td>0</td>\n",
              "      <td>[@TartiiCat, Well, new/used, Rift, S, are, goi...</td>\n",
              "      <td>[tartiicat, well, newused, rift, s, are, going...</td>\n",
              "      <td>[tartiicat, well, newus, rift, s, are, go, for...</td>\n",
              "      <td>[tartiicat, well, newus, rift, s, go, 70000, a...</td>\n",
              "    </tr>\n",
              "  </tbody>\n",
              "</table>\n",
              "<p>41151 rows × 7 columns</p>\n",
              "</div>\n",
              "      <button class=\"colab-df-convert\" onclick=\"convertToInteractive('df-aec97766-a47e-470d-9a4d-a21eb772300b')\"\n",
              "              title=\"Convert this dataframe to an interactive table.\"\n",
              "              style=\"display:none;\">\n",
              "        \n",
              "  <svg xmlns=\"http://www.w3.org/2000/svg\" height=\"24px\"viewBox=\"0 0 24 24\"\n",
              "       width=\"24px\">\n",
              "    <path d=\"M0 0h24v24H0V0z\" fill=\"none\"/>\n",
              "    <path d=\"M18.56 5.44l.94 2.06.94-2.06 2.06-.94-2.06-.94-.94-2.06-.94 2.06-2.06.94zm-11 1L8.5 8.5l.94-2.06 2.06-.94-2.06-.94L8.5 2.5l-.94 2.06-2.06.94zm10 10l.94 2.06.94-2.06 2.06-.94-2.06-.94-.94-2.06-.94 2.06-2.06.94z\"/><path d=\"M17.41 7.96l-1.37-1.37c-.4-.4-.92-.59-1.43-.59-.52 0-1.04.2-1.43.59L10.3 9.45l-7.72 7.72c-.78.78-.78 2.05 0 2.83L4 21.41c.39.39.9.59 1.41.59.51 0 1.02-.2 1.41-.59l7.78-7.78 2.81-2.81c.8-.78.8-2.07 0-2.86zM5.41 20L4 18.59l7.72-7.72 1.47 1.35L5.41 20z\"/>\n",
              "  </svg>\n",
              "      </button>\n",
              "      \n",
              "  <style>\n",
              "    .colab-df-container {\n",
              "      display:flex;\n",
              "      flex-wrap:wrap;\n",
              "      gap: 12px;\n",
              "    }\n",
              "\n",
              "    .colab-df-convert {\n",
              "      background-color: #E8F0FE;\n",
              "      border: none;\n",
              "      border-radius: 50%;\n",
              "      cursor: pointer;\n",
              "      display: none;\n",
              "      fill: #1967D2;\n",
              "      height: 32px;\n",
              "      padding: 0 0 0 0;\n",
              "      width: 32px;\n",
              "    }\n",
              "\n",
              "    .colab-df-convert:hover {\n",
              "      background-color: #E2EBFA;\n",
              "      box-shadow: 0px 1px 2px rgba(60, 64, 67, 0.3), 0px 1px 3px 1px rgba(60, 64, 67, 0.15);\n",
              "      fill: #174EA6;\n",
              "    }\n",
              "\n",
              "    [theme=dark] .colab-df-convert {\n",
              "      background-color: #3B4455;\n",
              "      fill: #D2E3FC;\n",
              "    }\n",
              "\n",
              "    [theme=dark] .colab-df-convert:hover {\n",
              "      background-color: #434B5C;\n",
              "      box-shadow: 0px 1px 3px 1px rgba(0, 0, 0, 0.15);\n",
              "      filter: drop-shadow(0px 1px 2px rgba(0, 0, 0, 0.3));\n",
              "      fill: #FFFFFF;\n",
              "    }\n",
              "  </style>\n",
              "\n",
              "      <script>\n",
              "        const buttonEl =\n",
              "          document.querySelector('#df-aec97766-a47e-470d-9a4d-a21eb772300b button.colab-df-convert');\n",
              "        buttonEl.style.display =\n",
              "          google.colab.kernel.accessAllowed ? 'block' : 'none';\n",
              "\n",
              "        async function convertToInteractive(key) {\n",
              "          const element = document.querySelector('#df-aec97766-a47e-470d-9a4d-a21eb772300b');\n",
              "          const dataTable =\n",
              "            await google.colab.kernel.invokeFunction('convertToInteractive',\n",
              "                                                     [key], {});\n",
              "          if (!dataTable) return;\n",
              "\n",
              "          const docLinkHtml = 'Like what you see? Visit the ' +\n",
              "            '<a target=\"_blank\" href=https://colab.research.google.com/notebooks/data_table.ipynb>data table notebook</a>'\n",
              "            + ' to learn more about interactive tables.';\n",
              "          element.innerHTML = '';\n",
              "          dataTable['output_type'] = 'display_data';\n",
              "          await google.colab.output.renderOutput(dataTable, element);\n",
              "          const docLink = document.createElement('div');\n",
              "          docLink.innerHTML = docLinkHtml;\n",
              "          element.appendChild(docLink);\n",
              "        }\n",
              "      </script>\n",
              "    </div>\n",
              "  </div>\n",
              "  "
            ]
          },
          "metadata": {},
          "execution_count": 96
        }
      ]
    },
    {
      "cell_type": "markdown",
      "source": [
        "###G"
      ],
      "metadata": {
        "id": "lYDoFp6CR4e3"
      }
    },
    {
      "cell_type": "code",
      "source": [
        "from sklearn.feature_extraction.text import CountVectorizer\n",
        "X, y = train_data['tokens_no_sw'].to_numpy(), train_data['Sentiment'].to_numpy()\n",
        "\n",
        "def override_fcn(doc):\n",
        "  # We expect a list of tokens as input\n",
        "  return doc\n",
        "\n",
        "count_vec = CountVectorizer(\n",
        "    analyzer='word',\n",
        "    tokenizer= override_fcn,\n",
        "    preprocessor= override_fcn,\n",
        "    token_pattern= None,\n",
        "    max_features = 2000)\n",
        "\n",
        "counts = count_vec.fit_transform(X)\n",
        "print(counts.toarray())\n",
        "\n",
        "print(count_vec.vocabulary_)\n",
        "len(count_vec.vocabulary_)\n"
      ],
      "metadata": {
        "colab": {
          "base_uri": "https://localhost:8080/"
        },
        "id": "0gkWwG-mwd2K",
        "outputId": "b9c4ddda-5aee-468d-c13a-5c80309f26b6"
      },
      "execution_count": 101,
      "outputs": [
        {
          "output_type": "stream",
          "name": "stdout",
          "text": [
            "[[0 0 0 ... 0 0 0]\n",
            " [0 0 0 ... 0 0 0]\n",
            " [0 0 0 ... 0 0 0]\n",
            " ...\n",
            " [0 0 0 ... 0 0 0]\n",
            " [0 0 0 ... 0 0 0]\n",
            " [0 0 0 ... 0 0 0]]\n",
            "{'advic': 72, 'talk': 1747, 'neighbour': 1175, 'famili': 683, 'phone': 1295, 'number': 1202, 'creat': 456, 'contact': 399, 'list': 1039, 'school': 1528, 'employ': 603, 'set': 1562, 'onlin': 1224, 'shop': 1579, 'account': 56, 'suppli': 1720, 'regular': 1443, 'not': 1196, 'order': 1234, 'coronaviru': 419, 'australia': 171, 'woolworth': 1968, 'give': 788, 'elderli': 597, 'disabl': 527, 'dedic': 499, 'hour': 891, 'amid': 111, 'covid19': 446, 'outbreak': 1239, 'food': 736, 'stock': 1683, 'onli': 1223, 'one': 1221, 'empti': 605, 'pleas': 1315, 'dont': 553, 'panic': 1255, 'there': 1771, 'will': 1954, 'enough': 612, 'everyon': 637, 'take': 1743, 'more': 1140, 'than': 1767, 'need': 1171, 'stay': 1670, 'calm': 279, 'safe': 1505, 'readi': 1416, 'go': 793, 'supermarket': 1719, 'dure': 572, 'becaus': 204, 'im': 915, 'seriou': 1557, 'thing': 1775, 'caus': 306, 'shortag': 1582, 'stayathom': 1671, 'news': 1180, 'region': 1440, 'first': 718, 'confirm': 392, 'case': 299, 'came': 280, 'counti': 439, 'last': 1007, 'week': 1933, 'peopl': 1277, 'area': 143, 'store': 1691, 'purchas': 1388, 'clean': 348, 'hand': 839, 'sanit': 1513, 'toilet': 1798, 'paper': 1261, 'other': 1237, 'good': 799, 'report': 1458, 'cashier': 301, 'groceri': 818, 'wa': 1906, 'share': 1567, 'hi': 868, 'insight': 947, 'prove': 1380, 'comment': 375, 'class': 347, 'so': 1620, 'know': 996, 'today': 1796, 'didnt': 518, 'buy': 273, 'toiletpapercrisi': 1801, 'due': 570, 'retail': 1475, 'open': 1229, 'busi': 272, 'next': 1181, 'two': 1851, 'begin': 210, 'monday': 1136, 'march': 1087, '16': 12, 'continu': 403, 'process': 1364, 'normal': 1193, 'thank': 1768, 'understand': 1858, 'corona': 415, 'should': 1583, 'stop': 1686, 'cash': 300, 'use': 1874, 'payment': 1275, 'can': 282, 'spread': 1655, 'note': 1197, 'also': 103, 'prefer': 1347, 'home': 883, 'time': 1791, 'fight': 705, 'covid': 445, '19': 15, 'all': 96, 'month': 1139, 'hasnt': 849, 'crowd': 465, 'restaur': 1471, 'howev': 895, 'reduc': 1434, 'close': 356, 'mall': 1081, 'mean': 1099, 'now': 1201, 'same': 1511, 'depend': 508, 'singl': 1600, 'lockdown': 1052, 'covid2019': 451, 'situat': 1605, 'increas': 928, 'demand': 505, 'product': 1366, 'wait': 1908, 'may': 1095, 'longer': 1058, 'particularli': 1267, 'beef': 206, 'freezer': 751, 'pack': 1249, 'thi': 1774, 'care': 294, 'commun': 382, 'let': 1025, 'look': 1060, 'less': 1023, 'villag': 1892, 'ensur': 613, 'healthi': 856, 'bring': 263, 'door': 554, 'help': 864, 'self': 1543, 'isol': 968, 'symptom': 1738, 'expos': 663, 'ha': 834, 'ill': 913, 'just': 983, 'amazon': 108, 'deliv': 503, 'whatev': 1942, 'releas': 1447, 'resourc': 1466, 'center': 311, 'travel': 1828, 'brand': 255, 'consum': 397, 'behavior': 212, 'trend': 1831, 'line': 1035, 'eat': 585, 'altern': 104, 'find': 713, 'whether': 1945, 'avoid': 177, 'right': 1484, '13': 9, 'russia': 1500, 'high': 869, 'where': 1944, 'man': 1082, 'observ': 1207, 'whole': 1949, 'fresh': 753, 'deliveri': 504, 'weve': 1941, 'seen': 1541, 'signific': 1592, 'said': 1508, 'statement': 1668, 'result': 1474, 'system': 1739, 'impact': 920, 'affect': 75, 'arent': 144, 'struggl': 1702, 'consid': 395, 'donat': 551, 'bank': 189, 'servic': 1560, 'job': 976, 'way': 1926, 'life': 1030, '100': 4, 'nation': 1163, 'world': 1973, 'must': 1158, 'play': 1313, 'fair': 679, 'china': 337, 'new': 1179, 'chines': 338, 'global': 791, 'pandem': 1254, 'decis': 495, 'sale': 1510, 'accord': 55, 'studi': 1705, 'amaz': 107, 'cheap': 326, 'deal': 490, 'price': 1356, 'dm': 542, 'us': 1872, 'movi': 1151, 'adult': 69, 'done': 552, 'essenti': 624, 'restock': 1472, 'activ': 60, 'cannot': 287, 'left': 1021, 'checkout': 329, 'staff': 1660, 'polic': 1324, 'action': 59, 'selfish': 1544, 'profit': 1369, 'uk': 1854, 'poll': 1327, 'indic': 934, 'major': 1078, 'expect': 654, '12': 8, 'see': 1538, 'full': 764, 'confid': 391, 'here': 865, 'prepar': 1348, 'higher': 870, 'potenti': 1338, 'hunger': 902, '10': 3, 'percent': 1279, 'implement': 921, 'morn': 1141, 'test': 1764, 'posit': 1332, 'feel': 698, 'ok': 1216, 'no': 1188, 'far': 684, 'sinc': 1598, 'found': 745, 'possibl': 1333, 'exposur': 664, 'viru': 1894, 'keep': 984, 'updat': 1868, 'how': 894, 'nyc': 1205, 'depart': 507, 'worker': 1971, 'protect': 1378, 'page': 1251, 'digit': 522, 'file': 707, 'complaint': 387, 'click': 353, 'soon': 1634, 'break': 258, 'amp': 115, 'crisi': 461, 'massiv': 1092, 'countri': 440, 'shelv': 1573, 'imag': 916, 'neighborhood': 1174, 'unit': 1862, 'state': 1667, 'coronavirusoutbreak': 424, 'collaps': 366, 'closur': 357, 'could': 434, 'via': 1888, 'fun': 766, 'fact': 676, 'cough': 433, 'get': 784, 'aisl': 90, 'pretti': 1354, 'quickli': 1401, 'sorri': 1635, 'say': 1521, 'event': 632, 'cancel': 285, 'health': 854, 'top': 1811, 'prioriti': 1360, 'ani': 119, 'disappoint': 528, 'answer': 123, 'link': 1036, 'went': 1939, 'yesterday': 1992, 'gone': 797, 'anyth': 127, 'ye': 1989, 'point': 1323, 'post': 1334, 'photo': 1296, 'load': 1047, 'stuff': 1706, 'parent': 1263, 'kid': 989, 'etc': 627, 'cant': 288, 'themselv': 1770, 'everyth': 638, 'worri': 1975, 'current': 472, 'financ': 711, 'publish': 1384, 'some': 1629, 'tip': 1793, 'manag': 1083, 'money': 1137, 'challeng': 317, 'wife': 1953, 'work': 1970, 'custom': 474, 'everywher': 639, 'request': 1460, 'deep': 500, 'compani': 383, 'cost': 431, 'recommend': 1429, 'team': 1754, 'spray': 1654, 'gonna': 798, 'sick': 1589, 'capit': 291, 'like': 1033, 'without': 1962, 'provid': 1381, 'experi': 656, 'environ': 617, 'associ': 161, 'place': 1308, 'coronapocolyps': 418, 'think': 1776, 'shopper': 1580, 'lot': 1064, 'bc': 200, 'theyr': 1772, 'unabl': 1855, 'too': 1808, 'extra': 668, 'economi': 589, 'onlineshop': 1225, 'stayhom': 1672, 'check': 328, 'video': 1890, 'usa': 1873, 'market': 1089, 'die': 519, 'walmart': 1912, 'stori': 1692, 'cloth': 358, 'rise': 1486, 'white': 1948, 'form': 743, 'quarantinelif': 1395, 'outsid': 1242, 'target': 1749, 'south': 1639, 'basic': 194, 'hit': 878, 'someon': 1630, 's': 1502, 'live': 1044, 'own': 1244, '2': 17, 'local': 1049, 'issu': 969, 'around': 147, 're': 1412, 'offer': 1209, 'free': 749, 'nationwid': 1164, 'anyon': 126, 'plu': 1317, 'half': 837, 'complet': 388, 'call': 278, 'idiot': 911, 'lol': 1055, 'never': 1178, 'thought': 1779, 'id': 908, '2019': 20, 'come': 372, 'back': 183, 'stoppanicbuy': 1688, 'restrict': 1473, 'spark': 1642, 'run': 1497, 'cannabi': 286, 'yet': 1993, 'weekend': 1934, 'day': 486, 'befor': 208, 'epidem': 618, 'fear': 691, 'medicin': 1105, 'cure': 469, 'remain': 1450, 'emerg': 602, 'socialdistanc': 1625, 'whi': 1946, 'water': 1924, 'util': 1877, 'shut': 1587, 'middl': 1116, 'lose': 1061, 'afford': 76, 'worth': 1978, 'dear': 491, 'ive': 972, 'follow': 735, 'social': 1623, 'distanc': 538, 'rule': 1496, 'prevent': 1355, 'spent': 1647, 'amount': 114, 'expens': 655, 'across': 57, 'sever': 1563, 'pressur': 1353, 'well': 1938, 'neg': 1172, 'great': 812, 'bekind': 215, 'import': 922, 'afraid': 77, 'worst': 1977, 'wash': 1918, 'yall': 1988, 'crazi': 455, 'clerk': 352, 'eye': 670, 'realiz': 1422, 'front': 757, 'panick': 1258, 'respond': 1468, 'hard': 846, 'serv': 1559, 'entir': 616, 'face': 672, 'near': 1167, 'futur': 769, 'surpris': 1729, 'mani': 1084, 'lost': 1063, 'corner': 414, 'scammer': 1523, 'advantag': 70, 'cdc': 307, 'flu': 731, 'alert': 94, '4': 33, 'both': 250, 'mask': 1090, 'made': 1074, 'medic': 1104, 'personnel': 1286, 'requir': 1461, 'materi': 1093, 'packag': 1250, 'make': 1079, 'safeti': 1507, 'still': 1681, 'ship': 1576, 'love': 1065, 'told': 1803, 'chang': 319, 'daili': 478, 'bought': 253, 'hous': 892, 'facebook': 673, 'group': 822, 'total': 1813, 'spirit': 1649, 'covid19uk': 450, 'stockpil': 1684, 'atm': 163, 'hygien': 906, 'yeah': 1990, 'when': 1943, 'realli': 1423, 'necessari': 1170, 'mum': 1156, 'shield': 1574, '3': 30, 'hope': 886, 'kind': 991, 'word': 1969, 'sound': 1637, 'necess': 1169, 'noth': 1198, 'scare': 1524, 'send': 1550, 'skyrocket': 1609, 'coronavirusupd': 427, 'student': 1704, 'loan': 1048, 'addit': 65, 'halt': 838, 'interest': 956, 'collect': 368, 'would': 1979, 'much': 1154, 'immedi': 918, 'relief': 1449, 'individu': 935, 'econom': 588, 'hardship': 847, 'side': 1590, 'tech': 1756, 'alreadi': 102, 'strip': 1700, 'though': 1778, 'detail': 515, 'lack': 1001, 'doesnt': 546, 'easili': 582, 'wage': 1907, 'either': 596, 'urg': 1870, 'support': 1723, 'bill': 226, 'includ': 926, 'meal': 1098, 'ceo': 314, 'show': 1586, 'saw': 1520, 'young': 1996, 'coupl': 441, 'roll': 1490, 'tp': 1819, 'mayb': 1096, 'capac': 290, 'surg': 1727, 'borisjohnson': 248, 'disgust': 534, 'charg': 322, 'inflat': 939, 'item': 971, 'govern': 805, 'someth': 1631, 'physic': 1297, 'ago': 82, 'put': 1391, 'curbsid': 468, 'pick': 1299, 'ecommerc': 587, 'folk': 734, 'idea': 909, 'la': 998, 'special': 1644, 'senior': 1551, 'hate': 850, 'head': 853, 'happen': 844, 'wont': 1967, 'spend': 1646, 'common': 381, 'sens': 1552, 'letter': 1026, 'hold': 881, 'organ': 1235, 'household': 893, 'suspend': 1734, 'debt': 493, 'respons': 1469, 'sign': 1591, 'covid19au': 447, 'want': 1914, 'older': 1219, 'australian': 172, 'mobil': 1132, 'doe': 544, 'heard': 858, 'low': 1066, 'blow': 238, 'mind': 1123, 'stupid': 1707, 'plan': 1309, 'such': 1709, 'bread': 257, 'save': 1519, '1': 2, 'n': 1159, 'bean': 201, 'got': 802, 'attempt': 165, 'budget': 269, 'slash': 1610, 'hire': 875, 'frozen': 759, 'battl': 196, 'distilleri': 539, 'oper': 1230, 'public': 1383, 'host': 888, 'hoard': 879, 'absolut': 50, 'chain': 316, 'abov': 49, 'probabl': 1362, 'chemic': 331, 'fruit': 760, 'veget': 1883, 'fulli': 765, 'human': 899, 'immun': 919, 'dad': 477, '70': 42, 'might': 1118, 'sometim': 1632, 'forget': 742, 'alway': 106, 'easi': 581, 'trolley': 1837, '2020': 21, 'pictur': 1301, 'often': 1212, 'crimin': 460, 'tri': 1832, 'except': 644, 'guidanc': 829, 'attorney': 169, 'gener': 780, 'offic': 1210, 'sure': 1725, 'within': 1961, 'dri': 563, 'effect': 593, 'introduc': 960, 'ration': 1411, 'frontlin': 758, 'extrem': 669, 'move': 1149, 'gt': 825, 'focu': 732, 'best': 218, 'opportun': 1232, 'key': 987, 'kroger': 997, 'biggest': 225, 'employe': 604, 'receiv': 1425, 'leav': 1019, 'even': 631, 'paid': 1252, 'instead': 950, 'quarantin': 1394, 'especi': 623, 'littl': 1043, 'few': 703, 'took': 1809, 'flour': 729, 'potato': 1337, 'towel': 1817, 'meat': 1102, 'chees': 330, 'panicbuy': 1256, 'buyer': 274, 'coronavirusuk': 426, 'anxieti': 125, 'panicbuyinguk': 1257, 'moron': 1142, 'rapid': 1407, 'slot': 1611, 'seem': 1540, 'fine': 714, 'email': 601, 'bottl': 251, 'short': 1581, 'risk': 1487, '6': 39, 'recess': 1427, 'three': 1784, 'phase': 1293, 'damag': 480, 'main': 1076, 'street': 1698, 'ongo': 1222, 'recoveri': 1432, 'credit': 458, 'second': 1534, 'shock': 1578, 'later': 1009, 'final': 710, 'end': 607, 'surgic': 1728, 'suppos': 1724, 'disinfect': 535, 'real': 1417, 'petit': 1289, 'bar': 190, 'drive': 565, 'model': 1133, 'earli': 576, 'club': 359, 'each': 575, 'exclus': 647, 'ton': 1806, 'greedi': 815, 'chanc': 318, 'transmiss': 1826, 'guid': 828, '20': 18, 'largest': 1006, 'handl': 840, '60': 40, 'polici': 1325, 'locat': 1050, 'precaut': 1345, 'light': 1032, 'effort': 594, 'unnecessari': 1866, 'problem': 1363, 'rice': 1481, 'year': 1991, 'panicshop': 1259, 'pricegoug': 1357, 'wast': 1922, 'date': 484, 'hoarder': 880, 'congress': 393, 'temporarili': 1761, 'correct': 430, 'anyway': 128, 'read': 1415, 'floor': 727, 'return': 1476, 'senat': 1549, 'financi': 712, 'feder': 695, 'regul': 1442, 'most': 1145, 'veri': 1887, 'poor': 1328, 'refund': 1437, 'popul': 1330, 'clear': 350, 'relat': 1445, 'daughter': 485, 'friend': 756, 'act': 58, 'stand': 1661, 'woman': 1963, 'refus': 1438, '5': 36, 'box': 254, 'agre': 83, 'walk': 1911, 'shit': 1577, 'avail': 175, 'ny': 1204, 'awar': 178, 'scam': 1522, 'media': 1103, 'text': 1766, 'websit': 1930, 'involv': 965, 'visit': 1896, 'youll': 1995, 'abl': 48, 'tell': 1758, 'movement': 1150, 'respect': 1467, 'least': 1018, 'll': 1045, 'notic': 1199, 'mention': 1111, 'industri': 937, 'trump': 1843, 'cut': 475, 'secur': 1537, 'benefit': 217, 'remov': 1454, 'pre': 1344, 'exist': 651, 'condit': 390, 'coverag': 444, 'concern': 389, 'tough': 1815, 'rememb': 1451, 'option': 1233, 'heb': 860, 'appreci': 138, 'limit': 1034, 'push': 1390, 'toward': 1816, 'pickup': 1300, 'per': 1278, 'cart': 298, 'happi': 845, 'm': 1071, 'o': 1206, 'd': 476, 'y': 1987, 'small': 1615, 'tackl': 1742, 'measur': 1101, 'reveal': 1478, 'person': 1285, 'info': 940, 'trust': 1844, 'sourc': 1638, 'attack': 164, 'queue': 1399, 'gun': 831, 'centr': 312, 'base': 193, 'ask': 156, 'app': 132, 'won': 1965, 'toiletpap': 1799, 'bad': 184, 'habit': 835, 'definit': 501, 'wear': 1927, 'nobodi': 1189, 'leader': 1015, 'pile': 1304, 'imagin': 917, '7': 41, 'wake': 1910, 'european': 630, 'wonder': 1966, 'past': 1270, 'start': 1665, 'catch': 303, 'delay': 502, 'car': 292, 'wanna': 1913, 'transport': 1827, 'hell': 862, 'appar': 133, 'wipe': 1958, 'ass': 157, 'hear': 857, 'wednesday': 1932, 'believ': 216, 'feed': 697, 'long': 1057, 'pasta': 1271, 'starv': 1666, 'win': 1955, 'game': 773, 'differ': 520, 'shelf': 1570, 'control': 406, 'realdonaldtrump': 1418, 'actual': 61, 'soap': 1621, 'enter': 614, 'unfortun': 1860, 'hungri': 903, 'staysaf': 1676, 'stockup': 1685, 'grow': 823, 'surviv': 1732, 'apocalyps': 131, '8': 43, '9': 45, 'announc': 121, 'add': 64, 'sanitis': 1514, 'rest': 1470, 'realis': 1420, 'nearli': 1168, '80': 44, 'old': 1218, 'encourag': 606, 'citi': 343, 'kill': 990, 'sell': 1547, 'almost': 99, '200': 19, 'cheaper': 327, 'edit': 591, 'fit': 720, 'room': 1491, 'remind': 1452, 'ignor': 912, 'corpor': 429, 'america': 109, 'turn': 1847, 'night': 1186, 'gov': 804, 'thread': 1781, 'driver': 567, 'togeth': 1797, 'pop': 1329, 'variou': 1880, 'toll': 1804, 'freez': 750, 'sold': 1627, 'although': 105, 'silver': 1594, 'havent': 851, 'mine': 1124, 'mass': 1091, 'isnt': 967, 'success': 1708, 'contract': 404, 'milk': 1120, 'cat': 302, 'treat': 1829, 'god': 794, 'chicago': 332, 'affair': 74, 'develop': 516, 'fill': 708, 'survey': 1731, 'sensibl': 1553, 'suggest': 1714, 'selfisol': 1545, 'american': 110, 'taken': 1745, 'saturday': 1516, 'black': 231, 'beauti': 203, 'train': 1824, 'colleagu': 367, 'washington': 1919, 'st': 1657, 'phish': 1294, 'currenc': 471, 'rate': 1409, 'oil': 1214, 'coronavirusindia': 422, 'natur': 1165, 'north': 1194, 'guess': 827, 'press': 1352, 'step': 1679, 'contamin': 401, 'strain': 1695, 'googl': 800, 'build': 270, 'hr': 896, 'join': 979, 'contain': 400, 'gym': 833, 'given': 789, 'postpon': 1336, '17': 13, '18': 14, 'meet': 1106, 'discuss': 532, 'experienc': 657, 'forward': 744, 'stuck': 1703, 'indoor': 936, 'decid': 494, 'wasnt': 1921, 'kept': 986, 'flight': 725, 'infect': 938, 'meanwhil': 1100, 'fund': 767, 'appli': 137, 'pizza': 1306, 'becom': 205, 'privat': 1361, 'sector': 1536, 'access': 54, 'cnn': 360, 'mental': 1110, 'coronaviruspandem': 425, 'critic': 462, 'multipl': 1155, 'citizen': 344, 'warn': 1917, 'late': 1008, 'drop': 568, 'latest': 1010, 'auto': 174, 'invest': 962, 'articl': 151, 'ministri': 1128, 'domest': 549, 'trade': 1821, 'fake': 680, 'kick': 988, 'nose': 1195, 'drink': 564, 'usual': 1876, 'recip': 1428, 'regard': 1439, 'women': 1964, 'vaccin': 1878, 'frequent': 752, 'away': 179, 'chief': 334, 'fee': 696, 'boost': 244, 'fridg': 755, 'pantri': 1260, 'sad': 1504, 'hotel': 890, 'vendor': 1884, 'level': 1027, 'franc': 747, 'fashion': 687, 'outlook': 1240, 'revenu': 1479, 'instor': 952, 'everi': 634, 'fuck': 762, 'goe': 795, 'wors': 1976, 'canada': 283, 'section': 1535, 'youtub': 1997, 'space': 1640, 'shall': 1564, 'sudden': 1711, 'nice': 1183, 'pay': 1274, 'reflect': 1436, 'lead': 1014, 'guard': 826, 'ban': 188, 'shame': 1565, 'interact': 955, 'growth': 824, 'question': 1397, 'manufactur': 1085, 'plant': 1310, 'shutdown': 1588, 'beat': 202, 'big': 224, 'code': 362, 'sunday': 1717, '15': 11, 'spring': 1656, 'asda': 152, 'tesco': 1763, 'morrison': 1143, 'sainsburi': 1509, 'minimum': 1126, 'basket': 195, '40': 34, 'wish': 1959, 'predict': 1346, 'air': 88, 'florida': 728, 'hospit': 887, 'along': 101, 'gather': 776, 'behaviour': 213, 'war': 1915, 'threat': 1782, 'true': 1841, 'stress': 1699, 'fail': 678, 'standard': 1662, 'veg': 1882, 'coffe': 363, 'era': 622, 'difficult': 521, 'huge': 898, 'strong': 1701, 'unpreced': 1867, 'novel': 1200, 'agricultur': 84, 'theyv': 1773, 'summer': 1716, 'children': 336, 'bet': 219, 'learn': 1017, 'react': 1414, 'danger': 482, 'kenya': 985, 'tonight': 1807, 'presid': 1351, 'impos': 923, 'declar': 496, 'allow': 98, 'duti': 573, 'trip': 1835, 'pharmaci': 1291, 'fraud': 748, 'inform': 941, 'commiss': 378, 'vulner': 1904, '50': 37, 'costco': 432, 'member': 1107, 'youv': 1998, 'electr': 599, 'dream': 562, 'enjoy': 611, 'everyday': 636, 'beyond': 222, 'insur': 954, 'hello': 863, 'brother': 266, 'sister': 1602, 'connect': 394, 'depress': 509, 'commerc': 376, 'commod': 380, 'alon': 100, 'deserv': 510, 'els': 600, 'giant': 785, 'ad': 62, '100000': 6, 'patient': 1272, 'grab': 808, 'r': 1403, 'partner': 1268, 'b': 181, 'carrier': 297, 'hike': 874, 'ebay': 586, 'ridicul': 1483, 'workforc': 1972, 'bare': 191, 'troubl': 1838, 'track': 1820, 'blog': 236, 'tune': 1846, 'friday': 754, 'kit': 993, 'pm': 1320, 'assur': 162, 'stopthespread': 1690, 'research': 1462, 'faster': 689, 'author': 173, 'design': 511, 'slow': 1612, 'diseas': 533, 'facemask': 674, 'proper': 1375, 'gallon': 772, 'egg': 595, 'cours': 442, 'san': 1512, 'london': 1056, 'april': 141, 'tuesday': 1845, 'doctor': 543, 'plung': 1319, 'appl': 136, 'reopen': 1457, 'greater': 813, 'highest': 871, 'ticket': 1789, 'societi': 1626, 'larg': 1005, 'takeout': 1746, 'europ': 629, 'guidelin': 830, 'serious': 1558, 'view': 1891, 'itali': 970, 'suspect': 1733, 'ventil': 1885, 'incom': 927, 'excess': 645, 'station': 1669, 'selfquarantin': 1546, '90': 46, 'ground': 821, 'listen': 1040, 'chao': 321, 'paracetamol': 1262, 'till': 1790, 'quick': 1400, 'homeless': 884, 'suck': 1710, 'postal': 1335, 'throughout': 1785, 'type': 1852, 'loo': 1059, 'mom': 1134, 'watch': 1923, 'monitor': 1138, 'scene': 1526, 'foreign': 740, 'e': 574, 'combat': 370, 'evolv': 641, 'rapidli': 1408, 'uncertain': 1856, 'aim': 87, 'wholesal': 1950, 'strategi': 1696, 'campaign': 281, 'fall': 681, 'energi': 608, 'ga': 770, 'shift': 1575, 'fuel': 763, 'power': 1339, 'welcom': 1937, 'stophoard': 1687, 'perhap': 1282, 'exactli': 642, 'journal': 981, 'period': 1283, 'town': 1818, 'tomorrow': 1805, 'owner': 1245, 'factori': 677, 'holiday': 882, '14': 10, 'wine': 1957, 'tissu': 1795, 'download': 557, 'recov': 1431, 'agenc': 81, 'reach': 1413, 'smart': 1616, 'mother': 1147, 'interview': 959, 'lock': 1051, 'prepper': 1349, 'peak': 1276, 'sarscov2': 1515, 'guy': 832, 'address': 66, 'regist': 1441, 'plenti': 1316, 'supplier': 1721, 'bulk': 271, 'texa': 1765, 'nurs': 1203, 'better': 220, 'cover': 443, 'mouth': 1148, 'meter': 1113, 'homemad': 885, 'jack': 973, 'cdcgov': 308, 'pl': 1307, 'pharmacist': 1292, '45': 35, 'lie': 1029, 'despit': 513, 'opec': 1228, 'sharp': 1568, 'lower': 1067, 'stick': 1680, 'figur': 706, 'pattern': 1273, 'asset': 158, 'perspect': 1287, 'takeaway': 1744, 'border': 245, 'mortgag': 1144, 'treatment': 1830, 'crash': 454, 'consumpt': 398, 'uncertainti': 1857, 'trigger': 1833, 'billion': 227, 'prompt': 1374, 'spot': 1653, 'babi': 182, 'wow': 1981, 'child': 335, 'hey': 867, 'ladi': 1002, 'asshol': 159, 'nonessenti': 1192, 'hub': 897, 'york': 1994, 'produc': 1365, 'colleg': 369, 'toronto': 1812, 'export': 662, 'drug': 569, 'hang': 843, 'pass': 1269, 'deadli': 489, 'term': 1762, 'driven': 566, 'tax': 1752, 'sit': 1603, 'internet': 958, 'traffic': 1823, 'earn': 578, 'rais': 1404, 'tool': 1810, 'remot': 1453, 'bitcoin': 230, 'technolog': 1757, 'anywher': 129, 'pmoindia': 1321, '23': 24, 'suffer': 1713, 'purpos': 1389, 'asham': 153, 'dog': 547, 'shouldnt': 1584, 'hazard': 852, 'carri': 296, 'whose': 1951, 'ahead': 85, 'wave': 1925, 'behind': 214, 'recent': 1426, 'season': 1533, 'engag': 610, 'seek': 1539, 'attent': 167, 'highli': 872, 'rs': 1494, 'kindli': 992, 'earth': 579, 'practic': 1342, 'doesn': 545, 't': 1740, 'assist': 160, 'approach': 139, 'fast': 688, '22': 23, 'glove': 792, 'goug': 803, 'name': 1161, 'messag': 1112, 'de': 487, 'greed': 814, 'death': 492, 'rich': 1482, 'sustain': 1735, 'client': 354, 'ever': 633, 'reli': 1448, 'data': 483, 'felt': 702, 'card': 293, 'touch': 1814, 'age': 80, 'finish': 715, 'role': 1489, 'anim': 120, 'farm': 685, 'stopstockpil': 1689, 'lo': 1046, 'angel': 118, 'launch': 1012, 'seri': 1556, 'ice': 907, 'entertain': 615, 'non': 1190, 'field': 704, 'mail': 1075, 'gratitud': 811, 'healthcar': 855, 'fire': 716, 'shape': 1566, 'crude': 466, 'million': 1121, 'sweep': 1736, 'soar': 1622, 'toiletpaperpan': 1802, 'indian': 933, 'bay': 197, 'accept': 53, 'bag': 185, 'shelter': 1571, 'thousand': 1780, 'fellow': 701, 'okay': 1217, 'dinner': 523, 'approv': 140, 'weekli': 1935, 'quit': 1402, 'dollar': 548, 'chicken': 333, 'transit': 1825, 'devic': 517, 'site': 1604, 'law': 1013, 'highlight': 873, '30': 31, 'organis': 1236, 'part': 1265, 'film': 709, 'f': 671, 'prime': 1358, 'anoth': 122, 'piec': 1302, 'tv': 1848, 'boom': 243, 'glad': 790, 'governor': 806, 'husband': 905, 'unless': 1864, 'curfew': 470, 'resid': 1464, 'oh': 1213, 'estim': 626, 'min': 1122, 'wtf': 1984, 'dairi': 479, 'garden': 774, 'switch': 1737, 'book': 242, 'vote': 1901, 'illeg': 914, 'gave': 777, 'minut': 1129, 'appear': 135, 'surround': 1730, 'resili': 1465, 'cap': 289, 'barrel': 192, 'amidst': 112, 'saudi': 1517, 'arabia': 142, 'trader': 1822, 'joe': 977, 'cleaner': 349, 'print': 1359, 'miss': 1130, 'u': 1853, 'express': 665, 'loss': 1062, 'temporari': 1760, 'mile': 1119, 'stapl': 1663, 'chart': 324, 'luxuri': 1069, 'gop': 801, 'complain': 386, 'weather': 1928, 'storm': 1693, 'solut': 1628, 'appeal': 134, 'adjust': 67, 'claim': 346, 'hero': 866, 'michigan': 1115, 'sentiment': 1555, 'index': 931, 'declin': 497, 'acceler': 52, 'anticip': 124, 'hurt': 904, 'arriv': 149, '11': 7, 'polit': 1326, 'mad': 1073, 'exploit': 660, 'bbcnew': 199, 'tank': 1748, 'fix': 722, 'cent': 310, 'fell': 700, 'decreas': 498, 'park': 1264, 'aldi': 92, 'commit': 379, 'schedul': 1527, 'pump': 1387, 'advis': 73, 'specif': 1645, 'unlik': 1865, 'ftc': 761, 'fda': 690, 'expert': 658, 'calcul': 276, 'labor': 1000, 'breath': 259, 'supplychain': 1722, 'seller': 1548, 'distribut': 540, 'brought': 267, 'doubt': 556, 'forev': 741, 'midst': 1117, 'ag': 79, 'comfort': 374, 'minist': 1127, 'waitros': 1909, 'simpli': 1597, 'explain': 659, 'januari': 974, 'explor': 661, 'onc': 1220, 'histori': 877, '24': 25, 'bottom': 252, 'popular': 1331, 'gold': 796, 'investor': 964, 'worldwid': 1974, 'estat': 625, 'realest': 1419, 'handwash': 842, 'diy': 541, 'groceryshop': 819, 'grocerystor': 820, 'grocer': 817, 'thankyou': 1769, 'extend': 666, 'sir': 1601, 'voucher': 1902, 'bore': 246, 'foodbank': 737, 'spain': 1641, 'nj': 1187, 'farmer': 686, 'trucker': 1840, 'creativ': 457, 'cook': 409, 'episod': 619, 'joke': 980, 'moment': 1135, 'rather': 1410, 'curb': 467, 'whilst': 1947, 'reason': 1424, 'california': 277, 'coronavirususa': 428, 'dead': 488, 'realiti': 1421, 'none': 1191, 'kitchen': 994, 'bori': 247, 'everybodi': 635, 'ur': 1869, 'choic': 340, 'bit': 229, 'direct': 524, 'alcohol': 91, 'univers': 1863, 'son': 1633, 'thru': 1787, 'damn': 481, 'relax': 1446, 'sport': 1652, 'stayhomechalleng': 1673, 'lab': 999, 'similar': 1595, 'bake': 187, 'dr': 559, 'sa': 1503, 'discount': 530, 'channel': 320, 'tast': 1751, 'program': 1370, 'rt': 1495, 'caught': 305, 'eu': 628, 'shout': 1585, 'cole': 365, 'w': 1905, 'fli': 724, 'unemploy': 1859, 'truck': 1839, 'couldnt': 435, 'tin': 1792, 'bin': 228, 'doubl': 555, '1st': 16, 'tabl': 1741, 'don': 550, 'disast': 529, 'forecast': 739, 'asian': 155, 'machin': 1072, 'network': 1177, 'chineseviru': 339, 'johnson': 978, 'gear': 778, 'sent': 1554, 'pic': 1298, 'surfac': 1726, 'ppl': 1341, '000': 1, 'write': 1982, 'intern': 957, 'equiti': 621, 'climat': 355, 'govt': 807, 'smile': 1617, 'forc': 738, 'boss': 249, 'bu': 268, 'handsanit': 841, 'saudiarabia': 1518, 'liter': 1041, 'germani': 783, 'victim': 1889, 'adapt': 63, 'grate': 810, 'arrest': 148, 'road': 1488, 'platform': 1312, 'german': 782, 'proud': 1379, 'tweet': 1849, 'block': 235, 'co': 361, 'logist': 1054, 'harm': 848, '2nd': 29, 'queu': 1398, 'maintain': 1077, 'counter': 438, 'commerci': 377, 'reserv': 1463, 'wouldnt': 1980, 'volunt': 1900, 'coronacrisi': 416, 'isn': 966, 'elect': 598, 'educ': 592, 'choos': 341, 'canadian': 284, 'retweet': 1477, 'washyourhand': 1920, 'awesom': 180, 'dispos': 536, 'simpl': 1596, 'russian': 1501, 'categori': 304, 'mostli': 1146, 'virtual': 1893, 'feet': 699, 'laid': 1003, 'matter': 1094, 'wuhan': 1985, 'scari': 1525, 'civil': 345, 'arm': 145, 'thursday': 1788, 'union': 1861, 'abus': 51, 'improv': 925, 'sky': 1608, 'central': 313, 'litr': 1042, 'lowest': 1068, 'flow': 730, 'speak': 1643, 'convers': 408, 'volum': 1899, 'advertis': 71, 'teacher': 1753, 'contribut': 405, 'bewar': 221, 'chariti': 323, 'parti': 1266, 'size': 1607, 'six': 1606, 'straight': 1694, 'lesson': 1024, 'repres': 1459, 'council': 436, 'expand': 653, 'brave': 256, 'offici': 1211, 'consider': 396, 'rent': 1455, 'british': 265, 'beer': 207, 'among': 113, 'dozen': 558, 'leadership': 1016, 'count': 437, 'africa': 78, 'exampl': 643, 'incred': 929, 'insid': 946, 'averag': 176, 'virus': 1895, 'wrong': 1983, 'five': 721, 'girl': 787, 'jump': 982, 'perform': 1281, 'urgent': 1871, '500': 38, 'profession': 1367, 'enforc': 609, 'scientist': 1530, 'lysol': 1070, 'sneez': 1619, 'warehous': 1916, 'pet': 1288, 'liquor': 1038, 'project': 1371, 'aldiuk': 93, 'super': 1718, 'promis': 1372, 'pakistan': 1253, 'tripl': 1836, 'stimulu': 1682, 'nh': 1182, 'insan': 945, 'desper': 512, 'execut': 649, 'director': 526, 'mark': 1088, 'aliv': 95, 'cope': 412, 've': 1881, 'gift': 786, 'neighbor': 1173, 'earlier': 577, 'fish': 719, 'facil': 675, 'weird': 1936, 'lift': 1031, 'disrupt': 537, 'certain': 315, 'throw': 1786, 'bloodi': 237, 'green': 816, 'temperatur': 1759, 'carer': 295, 'inventori': 961, 'laugh': 1011, 'four': 746, 'round': 1493, 'suit': 1715, 'focus': 733, 'coordin': 411, 'heart': 859, 'conveni': 407, 'content': 402, 'singapor': 1599, 'fed': 694, '25': 26, 'rush': 1499, 'gain': 771, 'brilliant': 262, 'liquid': 1037, 'record': 1430, 'india': 932, 'significantli': 1593, 'combin': 371, 'excus': 648, 'podcast': 1322, 'zero': 1999, 'c': 275, 'minim': 1125, 'blame': 232, 'volatil': 1898, 'pull': 1386, 'red': 1433, 'window': 1956, 'celebr': 309, 'steal': 1678, 'pray': 1343, 'cool': 410, 'piersmorgan': 1303, 'pub': 1382, 'vital': 1897, 'player': 1314, '99': 47, 'behav': 211, 'coronavirusau': 420, 'cross': 464, 'comedi': 373, 'firm': 717, 'valu': 1879, 'vs': 1903, 'session': 1561, 'attend': 166, 'overwhelm': 1243, 'mix': 1131, 'apart': 130, 'rental': 1456, 'navig': 1166, 'shelterinplac': 1572, 'clearli': 351, 'bbc': 198, 'inspir': 948, 'identifi': 910, 'present': 1350, 'investig': 963, 'directli': 525, 'sort': 1636, 'lick': 1028, 'bailout': 186, '0': 0, 'reduct': 1435, 'administr': 68, 'instruct': 953, 'compar': 384, 'twitter': 1850, 'funni': 768, 'knew': 995, 'wide': 1952, 'toiletpaperapocalyps': 1800, 'east': 583, 'chat': 325, 'airlin': 89, 'competit': 385, 'corn': 413, 'cold': 364, 'innov': 944, 'meme': 1108, 'oilpric': 1215, 'institut': 951, 'humor': 900, 'user': 1875, 'curv': 473, 'bless': 234, 'promot': 1373, 'ingredi': 942, 'imposs': 924, 'perfect': 1280, 'hundr': 901, 'auspol': 170, 'economist': 590, 'dramat': 560, 'petrol': 1290, 'otherwis': 1238, 'stabil': 1658, 'bodi': 240, 'tire': 1794, 'propos': 1377, 'west': 1940, 'ocado': 1208, 'wed': 1931, 'board': 239, 'netflix': 1176, '3m': 32, 'n95': 1160, 'discov': 531, 'spike': 1648, 'aid': 86, 'p': 1247, 'brief': 261, 'rang': 1406, 'select': 1542, 'maker': 1080, 'ontario': 1226, 'attitud': 168, 'exercis': 650, 'cri': 459, 'stabl': 1659, 'histor': 876, 'church': 342, 'webinar': 1929, 'art': 150, 'screen': 1531, 'drastic': 561, 'coronaviruschalleng': 421, 'men': 1109, 'bleach': 233, 'pa': 1248, 'began': 209, 'spoke': 1651, 'flattenthecurv': 723, 'ppe': 1340, 'qualiti': 1393, 'nigeria': 1184, 'featur': 692, 'rose': 1492, 'initi': 943, 'rip': 1485, 'equip': 620, 'independ': 930, 'search': 1532, 'evid': 640, 'extortion': 667, 'music': 1157, 'plastic': 1311, 'hair': 836, 'allegedli': 97, 'pivot': 1305, 'star': 1664, 'analysi': 116, 'output': 1241, 'third': 1777, 'gel': 779, 'slump': 1614, 'oott': 1227, 'narendramodi': 1162, 'germ': 781, 'britain': 264, 'mar': 1086, 'publix': 1385, 'safer': 1506, 'hot': 889, '1000': 5, 'flood': 726, '27': 27, 'exorbit': 652, 'legal': 1022, 'fals': 682, 'bonu': 241, 'perman': 1284, 'februari': 693, 'ventur': 1886, 'armi': 146, 'excit': 646, 'mr': 1152, 'threaten': 1783, 'professor': 1368, 'spit': 1650, 'easter': 584, 'rural': 1498, 'ramp': 1405, 'x': 1986, 'wit': 1960, '21': 22, 'staysafestayhom': 1677, 'bid': 223, 'trillion': 1834, 'instal': 949, 'suddenli': 1712, 'japan': 975, 'asia': 154, 'truli': 1842, 'oz': 1246, 'tear': 1755, 'plummet': 1318, 'putin': 1392, 'properti': 1376, 'destroy': 514, 'opinion': 1231, 'task': 1750, 'regularli': 1444, 'snap': 1618, 'eas': 580, 'scienc': 1529, 'metr': 1114, 'covid19u': 449, 'analyst': 117, 'gasolin': 775, 'land': 1004, 'held': 861, 'led': 1020, 'mrx': 1153, 'brexit': 260, 'nigerian': 1185, 'stream': 1697, 'lockdownuk': 1053, 'socialdistanac': 1624, 'covid19pandem': 448, 'democrat': 506, 'grant': 809, 'review': 1480, 'slowdown': 1613, 'dump': 571, 'crop': 463, '2m': 28, 'stayhomesavel': 1674, 'stayhomestaysaf': 1675, 'sharpli': 1569, 'coronacrisisuk': 417, 'mckinsey': 1097, 'quaratinelif': 1396, 'covidiot': 453, 'coronaviruslockdown': 423, 'covididiot': 452}\n"
          ]
        },
        {
          "output_type": "execute_result",
          "data": {
            "text/plain": [
              "2000"
            ]
          },
          "metadata": {},
          "execution_count": 101
        }
      ]
    },
    {
      "cell_type": "markdown",
      "source": [
        "### test data preprocessing"
      ],
      "metadata": {
        "id": "mYqOF_yf4ec7"
      }
    },
    {
      "cell_type": "code",
      "source": [
        "test_data['tokens'] = test_data['OriginalTweet'].str.split()\n",
        "pattern = 'https://'\n",
        "for row in test_data['tokens']:\n",
        "  for item in row:\n",
        "      new_item = re.match(pattern, item)\n",
        "      if new_item is not None:\n",
        "        row.remove(item)\n",
        "\n",
        "new_tokens = []\n",
        "\n",
        "for row in test_data['tokens']:\n",
        "  new_row = []\n",
        "  for item in row:\n",
        "    new_item = item.lower()\n",
        "    new_item = re.sub('[^a-z0-9]*', '', new_item)\n",
        "    new_row.append(new_item)\n",
        "  new_tokens.append(new_row)\n",
        "\n",
        "test_data['aphanumeric_token'] = new_tokens\n",
        "\n",
        "#### Stemming tokens ####\n",
        "stemmer = PorterStemmer()\n",
        "stemmed_tokens = []\n",
        "\n",
        "\n",
        "for row in test_data['aphanumeric_token']:\n",
        "  stemmed_row = []\n",
        "  for item in row:\n",
        "    token_stems = stemmer.stem(item)\n",
        "    stemmed_row.append(token_stems)\n",
        "  stemmed_tokens.append(stemmed_row)\n",
        "\n",
        "test_data['stemmed_tokens'] = stemmed_tokens\n",
        "\n",
        "\n",
        "nltk.download('stopwords')\n",
        "sw = stopwords.words('english')[:100]\n",
        "\n",
        "new_tokens = []\n",
        "for row in test_data['stemmed_tokens']:\n",
        "  new_row = []\n",
        "  for item in row:\n",
        "    if item not in sw and item != '':\n",
        "      new_row.append(item)\n",
        "  new_tokens.append(new_row)\n",
        "\n",
        "test_data['tokens_no_sw'] = new_tokens\n",
        "\n",
        "X, y = test_data['tokens_no_sw'].to_numpy(), test_data['Sentiment'].to_numpy()\n",
        "\n",
        "test_count_vec = CountVectorizer(\n",
        "    analyzer='word',\n",
        "    tokenizer= override_fcn,\n",
        "    preprocessor= override_fcn,\n",
        "    token_pattern= None,\n",
        "    max_features = 2000)\n",
        "\n",
        "test_counts = count_vec.fit_transform(X)\n",
        "print(counts.toarray())\n",
        "\n",
        "print(count_vec.vocabulary_)\n",
        "len(count_vec.vocabulary_)"
      ],
      "metadata": {
        "colab": {
          "base_uri": "https://localhost:8080/"
        },
        "id": "LW-e5voK4g0v",
        "outputId": "31cef5b5-0c81-44b9-8af7-d15cd2e5daea"
      },
      "execution_count": 100,
      "outputs": [
        {
          "output_type": "stream",
          "name": "stdout",
          "text": [
            "[nltk_data] Downloading package stopwords to /root/nltk_data...\n",
            "[nltk_data]   Package stopwords is already up-to-date!\n",
            "[[0 0 0 ... 0 0 0]\n",
            " [0 0 0 ... 0 0 0]\n",
            " [0 0 0 ... 0 0 0]\n",
            " ...\n",
            " [0 0 0 ... 0 0 0]\n",
            " [0 0 0 ... 0 0 0]\n",
            " [1 0 0 ... 0 0 0]]\n",
            "{'trend': 1822, 'new': 1167, 'empti': 598, 'supermarket': 1715, 'shelv': 1578, 'pictur': 1298, 'wegman': 1925, 'brooklyn': 259, 'onlin': 1219, 'grocer': 798, 'shopper': 1587, 'stock': 1687, 'when': 1937, 'couldnt': 430, 'find': 697, 'hand': 822, 'sanit': 1520, 'turn': 1836, 'amazon': 102, '2': 16, 'pack': 1244, 'how': 879, 'coronaviru': 410, 'concern': 383, 'drive': 560, 'price': 1358, 'can': 281, 'protect': 1377, 'love': 1044, 'one': 1216, 'panic': 1252, 'buy': 272, 'hit': 859, 'newyork': 1169, 'citi': 338, 'anxiou': 123, 'suppli': 1716, 'healthcar': 838, 'worker': 1963, '30': 28, 'becom': 197, '1st': 15, 'confirm': 388, 'patient': 1270, 'stage': 1665, 'event': 619, 'cdc': 303, 'toiletpap': 1789, 'coronavirusaustralia': 411, 'coronavirusupd': 422, 'covid19': 442, 'costco': 427, 'week': 1922, 'everyon': 625, 'babi': 174, 'milk': 1106, 'next': 1170, 'toilet': 1788, 'paper': 1258, 'rememb': 1450, 'last': 985, 'time': 1781, 'paid': 1248, 'regular': 1441, 'ga': 756, 'pump': 1388, 'go': 778, 'look': 1037, 'impact': 904, 'vote': 1894, 'age': 76, 'cant': 288, 'stop': 1690, 'without': 1954, 'surgic': 1722, 'mask': 1074, 'increas': 908, 'n95': 1143, 'more': 1126, 'than': 1757, 'amp': 111, 'cost': 426, 'twice': 1839, 'hi': 853, 'twitter': 1840, 'sell': 1557, 'live': 1024, 'ani': 113, 'exist': 636, 'like': 1012, 'sold': 1630, 'fuck': 748, 'everywher': 627, 'should': 1591, 'worri': 1967, 'no': 1177, 'use': 1867, 'soap': 1625, 'visit': 1889, 'pharmaci': 1290, 'bottl': 245, 'full': 750, 'sick': 1598, 'peopl': 1279, 'anyon': 125, 'few': 687, 'day': 484, 'went': 1931, 'normal': 1185, 'shop': 1585, 'night': 1173, 'sight': 1600, 'greet': 797, 'so': 1624, 'special': 1649, 'tin': 1782, 'tomato': 1797, 'best': 212, 'qualiti': 1393, 'low': 1045, 'avail': 166, 'order': 1228, 'info': 921, 'whatsapp': 1936, 'tri': 1823, 'fake': 663, 'cheap': 319, 'let': 1004, 'threat': 1773, 'collect': 363, 'coronavirusindia': 413, 'food': 713, 'germani': 767, 'due': 565, 'ha': 816, 'begun': 202, 'organ': 1229, 'left': 1000, 'behind': 205, 'call': 277, 'hamster': 820, 'german': 766, 'taken': 1737, 'way': 1917, 'stuff': 1705, 'cheek': 322, 'groceri': 799, 'store': 1693, 'all': 90, 'clean': 343, 'bought': 246, 'fear': 677, 'teacher': 1744, 'show': 1595, 'class': 342, 'make': 1062, 'now': 1193, 'just': 965, 'need': 1158, 'some': 1633, '100': 3, 'alcohol': 86, 'wish': 1951, 'luck': 1047, 'will': 1945, 'busi': 269, 'watch': 1914, 'elect': 591, 'return': 1480, 'brace': 248, 'outbreak': 1234, 'trump': 1830, 'head': 835, 'consum': 394, 'product': 1371, 'safeti': 1511, 'commiss': 370, 'not': 1188, 'provid': 1381, 'custom': 471, 'free': 730, 'seat': 1543, 'forc': 716, 'choos': 334, 'made': 1056, 'onli': 1218, 'airport': 84, 'counter': 433, 'thi': 1765, 'travel': 1819, 'right': 1488, 'measur': 1084, 'respect': 1469, 'restaur': 1474, 'hotel': 874, 'comment': 369, 'chain': 311, 'issu': 951, 'hygien': 890, 'stockpil': 1688, 'other': 1231, 'extra': 652, 'local': 1027, 'bank': 182, 'mani': 1067, 'famili': 666, 'dont': 552, 'luxuri': 1052, 'spend': 1652, 'beyond': 215, 'weekli': 1924, 'budget': 263, 'bit': 221, 'probabl': 1366, 'take': 1736, 'anoth': 117, 'month': 1124, 'may': 1079, 'recov': 1434, 'demand': 504, 'us': 1865, 'europ': 617, 'two': 1841, 'studi': 1704, 'hard': 828, 'surfac': 1720, 'affair': 71, 'keep': 966, 'share': 1574, 'start': 1669, 'panicshop': 1256, 'meanwhil': 1083, 'good': 784, 'facemask': 658, 'disinfect': 535, 'liquid': 1017, 'exorbit': 637, 'blockchain': 229, 'think': 1767, 'bitcoin': 223, 'come': 366, 'combat': 365, 'mind': 1108, 'transact': 1816, 'station': 1675, 'touch': 1806, 'everi': 622, 'control': 399, 'gold': 781, 'back': 175, 'veri': 1879, 'nice': 1171, 'warn': 1909, 'listen': 1020, 'money': 1122, 'recent': 1429, 'put': 1391, 'seller': 1558, 'cash': 296, 'super': 1714, 'inflat': 919, 'realiti': 1423, 'neither': 1163, 'nor': 1183, 'must': 1141, 'save': 1526, 'pleas': 1310, 'video': 1882, 'canada': 282, 'plung': 1315, 'crude': 462, 'fail': 662, 'reach': 1415, 'deal': 488, 'cut': 472, 'economi': 582, 'slow': 1616, 'becaus': 196, 'novel': 1192, 'base': 185, 'hire': 858, 'oil': 1209, 'yall': 1983, 'hope': 868, 'case': 295, 'took': 1802, 'precaut': 1343, 'water': 1915, 'deliv': 502, 'ive': 954, 'open': 1222, 'soon': 1637, 'coronavirususa': 423, 'covid': 441, 'usual': 1868, 'woolworth': 1960, 'fight': 690, 'aisl': 85, 'toiletpaperpan': 1793, 'whole': 1942, 'level': 1006, 'spread': 1659, 'pull': 1387, 'usa': 1866, 'today': 1786, 'pandemonium': 1251, 'viru': 1886, 'panicbuy': 1253, 'news': 1168, 'wait': 1900, 'quarantin': 1394, 'forget': 720, 'donat': 550, 'toiletri': 1794, 'help': 849, 'mean': 1082, 'get': 768, 'ahead': 79, 'befor': 200, 'crisi': 459, 'exposur': 649, 'hole': 863, 'social': 1626, 'say': 1528, 'govern': 790, 'unemploy': 1851, 'import': 905, 'phone': 1292, 'number': 1194, 'know': 977, 'doctor': 540, 'insur': 933, 'test': 1755, 'state': 1672, 'report': 1458, 'goug': 788, 'tip': 1784, 'pro': 1364, 'bring': 256, 'match': 1077, 'effect': 584, 'necessari': 1157, 'scare': 1532, 'american': 105, 'msm': 1136, 'crash': 453, 'russia': 1504, 'design': 509, 'end': 601, 'dollar': 546, 'global': 775, 'reserv': 1465, 'corp': 424, 'debt': 491, 'collaps': 362, 'led': 999, 'high': 854, 'fed': 679, 'govt': 791, 'respond': 1471, 'got': 785, 'silver': 1603, 'yet': 1989, 'brexit': 254, 'gtgt': 807, 'begin': 201, 'wave': 1916, 'media': 1087, 'stori': 1694, 'bog': 233, 'roll': 1493, 'shortag': 1589, 'etc': 616, 'weve': 1934, 'still': 1685, 'poverti': 1336, 'worst': 1969, 'uk': 1845, 'aint': 81, 'gonna': 783, 'well': 1929, 'fellow': 684, 'cancel': 284, 'employe': 597, 'mayb': 1080, 'hr': 881, 'union': 1853, 'dure': 567, 'closur': 353, 'even': 618, 'actual': 58, 'wipe': 1949, 'corona': 404, 'part': 1262, '1': 1, 'whi': 1940, 'doe': 542, 'work': 1962, 'sarscov2': 1522, 'most': 1130, 'virus': 1887, 'link': 1016, 'thread': 1772, 'shame': 1573, 'folk': 711, 'person': 1286, 'care': 292, 'clear': 345, 'doesnt': 544, 'wont': 1959, 'theyr': 1763, 'tini': 1783, 'terrifi': 1753, 'senior': 1560, 'disabl': 526, 'shouldnt': 1592, 'includ': 906, 'realdonaldtrump': 1421, 'aid': 80, 'packag': 1245, 'check': 320, 'antibacteri': 120, 'safer': 1510, 'transport': 1818, 'crowd': 461, 'list': 1019, 'goe': 780, 'far': 669, 'offic': 1206, 'everyth': 626, 'spray': 1658, 'isnt': 948, 'wrong': 1976, 'illeg': 899, 'email': 594, 'market': 1073, 'continu': 397, 'run': 1501, 'monday': 1121, 'wa': 1898, 'larg': 984, 'overnight': 1240, 'along': 95, 'scammer': 1530, 'advantag': 67, 'surround': 1724, 'here': 850, 'covid2019': 449, 'intern': 937, 'navig': 1151, 'export': 647, 'challeng': 312, 'rise': 1489, 'commod': 372, 'earn': 572, 'ppl': 1338, 'immedi': 902, 'process': 1369, 'refund': 1436, 'incom': 907, 'tax': 1742, 'credit': 457, 'child': 327, '2020': 20, 'meet': 1091, 'behavior': 203, 'compani': 375, 'step': 1683, 'ensur': 606, 'stand': 1667, 'read': 1418, 'dip': 522, 'absolut': 49, 'noth': 1190, 'talk': 1738, 'saudi': 1525, 'calm': 278, 'hell': 847, 'plummet': 1314, 'fall': 664, 'saw': 1527, 'biggest': 217, 'drop': 563, 'sinc': 1606, 'war': 1907, 'major': 1061, 'react': 1416, 'close': 352, 'valu': 1872, 'recess': 1430, 'damag': 479, 'health': 837, '7': 40, 'morn': 1127, 'trade': 1812, 'halt': 819, 'border': 241, 'skyrocket': 1613, 'rent': 1453, 'lose': 1040, '50': 35, 'q': 1392, 'growth': 805, '4': 32, 'chang': 314, 'driven': 561, 'co': 357, 'press': 1354, 'confer': 386, 'york': 1991, 'releas': 1445, 'brand': 249, '6': 37, 'coronavirusoutbreak': 418, 'nyc': 1198, 'ignor': 897, 'offer': 1205, 'vaccin': 1871, 'there': 1761, 'current': 470, 'prescript': 1351, 'treat': 1820, 'cure': 468, 'diseas': 532, 'lucki': 1048, 'enough': 605, 'sit': 1608, 'home': 865, 'period': 1283, 'selfisol': 1555, 'consid': 392, 'trusselltrust': 1832, 'want': 1906, 'foodbank': 714, 'upon': 1859, 'themselv': 1760, 'avoid': 168, 'contract': 398, 'prep': 1347, 'self': 1553, 'unnecessari': 1857, 'gather': 760, 'employ': 596, 'wo': 1955, 'harm': 831, 'plan': 1306, 'gel': 762, 'believ': 208, 'see': 1549, 'tv': 1837, 'guy': 814, 'book': 236, 'ticket': 1779, 'holiday': 864, 'altern': 98, 'break': 252, 'offici': 1207, 'urg': 1862, 'resid': 1466, 'also': 97, 'suffer': 1711, 'ironi': 944, 'spot': 1657, 'alreadi': 96, 'record': 1433, 'declar': 495, 'chines': 331, 'big': 216, 'ass': 152, 'citizen': 339, 'rush': 1503, 'hold': 862, 'factori': 661, 'film': 694, '11': 5, 'worldwid': 1966, 'oper': 1223, 'confid': 387, 'forecast': 717, 'increasingli': 909, 'lower': 1046, 'sort': 1639, 'fiscal': 700, 'stimulu': 1686, 'great': 793, 'problem': 1367, '14': 9, 'interest': 936, 'rate': 1411, 'retail': 1478, 'ecommerc': 580, 'thought': 1770, 'medicin': 1090, 'essenti': 615, 'household': 878, 'pile': 1301, 'univers': 1855, 'ff': 688, 'ok': 1210, 'itali': 952, 'restrict': 1476, 'popul': 1326, 'abl': 48, 'told': 1795, 'stay': 1677, 'same': 1517, 'said': 1513, 'vigil': 1884, 'realli': 1425, 'lot': 1043, 'thing': 1766, 'happen': 826, 'readi': 1419, 'power': 1337, 'countri': 435, 'done': 551, 'regul': 1440, 'top': 1803, 'item': 953, 'ten': 1750, 'pantri': 1257, 'support': 1717, 'physic': 1294, 'mental': 1094, 'delici': 501, 'struggl': 1701, 'staff': 1664, 'thank': 1758, 'scam': 1529, 'attorney': 161, 'gener': 763, 'hotlin': 875, 'industri': 917, 'least': 997, 'favorit': 675, 'uncertainti': 1849, 'long': 1034, '80': 43, 'expert': 643, 'signific': 1602, 'decreas': 497, 'traffic': 1814, 'articl': 146, 'member': 1092, 'distribut': 538, 'prepar': 1348, '19': 14, 'key': 968, 'manufactur': 1069, '3': 27, 'expect': 639, 'critic': 460, 'coupl': 436, 'perish': 1284, 'genuin': 764, 'around': 143, 'isol': 949, 'pay': 1273, 'job': 958, 'bare': 184, 'worth': 1970, 'poor': 1324, 'could': 429, '60': 38, 'world': 1965, 'infect': 918, 'year': 1986, 'prayer': 1342, 'updat': 1858, 'ceo': 308, 'develop': 513, 'sale': 1515, 'situat': 1610, 'china': 330, 'learn': 996, 'regist': 1439, 'target': 1741, 'serious': 1565, 'ad': 59, 'hour': 876, 'pick': 1296, 'encourag': 600, 'limit': 1013, 'purchas': 1389, 'older': 1213, 'amid': 106, 'insid': 927, 'wow': 1973, 'death': 490, 'die': 516, 'mo': 1116, 'fish': 701, 'rais': 1406, 'greed': 795, 'almost': 93, 'compass': 377, 'lie': 1009, 'rumor': 1500, 'never': 1166, 'recogn': 1431, 'sens': 1561, 'tell': 1748, 'blame': 225, 'heavili': 844, 'declin': 496, 'data': 482, 'suggest': 1712, 'remot': 1452, 'school': 1536, 'websit': 1920, 'deliveri': 503, 'rural': 1502, 'clorox': 351, '5': 34, 'bet': 213, 'safe': 1509, 'answer': 118, 'question': 1397, 'suspens': 1728, 'sensibl': 1562, 'enhanc': 603, 'especi': 614, 'wage': 1899, 'onc': 1215, 'exactli': 629, 'advic': 68, 'nation': 1147, 'medic': 1088, 'gov': 789, 'wash': 1910, 'carri': 293, 'aw': 169, 'felt': 685, 'affect': 72, 'contain': 396, '20': 17, 'second': 1545, 'sanitis': 1521, 'lead': 993, 'term': 1751, 'covid19ireland': 446, 'coronavirusireland': 416, 'public': 1384, 'build': 264, 'matter': 1078, 'urgenc': 1863, 'profit': 1373, 'join': 960, 'saturday': 1523, 'march': 1071, 'locat': 1028, 'sure': 1719, 'spike': 1654, 'emerg': 595, 'besid': 211, 'cv': 474, 'invest': 940, 'point': 1319, 'husband': 889, 'ask': 151, 'solut': 1632, 'presid': 1353, 'away': 171, 'first': 699, 'eat': 578, 'idiot': 896, 'canadian': 283, 'feder': 680, 'wellb': 1930, 'payment': 1275, 'basic': 187, 'healthi': 839, 'solid': 1631, 'covid19canada': 445, 'coronaviruscanada': 412, 'footbal': 715, 'among': 109, 'queu': 1398, 'outsid': 1238, 'remind': 1451, 'hous': 877, 'children': 328, 'access': 51, 'main': 1059, 'sourc': 1642, 'meal': 1081, 'wear': 1918, 'distanc': 537, 'appear': 134, 'im': 900, 'move': 1133, 'someth': 1636, 'appl': 135, 'band': 181, 'better': 214, 'pretti': 1356, 'chanc': 313, 'clerk': 347, 'driver': 562, 'leav': 998, 'contact': 395, 'berni': 210, 'understand': 1850, 'would': 1971, 'youd': 1992, 'boost': 240, 'sever': 1571, 'wit': 1952, 'yesterday': 1988, 'cough': 428, 'auspol': 162, 'metro': 1100, 'manila': 1068, 'lock': 1029, 'caus': 301, 'hoard': 860, 'less': 1003, 'fortun': 723, 'oh': 1208, 'lord': 1039, 'pray': 1341, 'hey': 852, 'messag': 1097, 'friend': 741, 'awar': 170, 'follow': 712, 'staysaf': 1680, 'hurt': 888, 'toronto': 1804, 'old': 1212, 'round': 1496, 'present': 1352, 'expir': 644, 'train': 1815, 'gym': 815, 'park': 1261, 'either': 588, 'gun': 813, 'street': 1697, 'beauti': 195, 'small': 1617, 'colleg': 364, 'insecur': 926, 'student': 1703, 'hungri': 886, 'feed': 682, 'kid': 969, 'america': 104, 'crise': 458, 'technolog': 1747, 'servic': 1567, 'faster': 673, 'pace': 1243, 'page': 1247, 'med': 1086, 'cat': 298, 'meat': 1085, 'fruit': 746, 'noodl': 1182, 'rice': 1484, 'fresh': 735, 'dri': 558, 'els': 592, 'fallout': 665, 'flight': 706, 'individu': 915, 'lockdown': 1030, 'prepper': 1350, 'wuhanviru': 1979, 'cruis': 463, 'ill': 898, 'surg': 1721, 'much': 1138, '15': 10, 'panick': 1254, 'covid19uk': 448, 'possibl': 1329, 'symptom': 1732, 'restock': 1475, 'both': 244, 'plu': 1313, 'too': 1801, 'australian': 164, 'toiletpapercrisi': 1791, 'polic': 1321, 'woman': 1956, 'packet': 1246, 'four': 726, 'cart': 294, 'secur': 1548, 'r': 1403, 'afraid': 74, 'lysol': 1053, 'alway': 100, 'diet': 517, 'protein': 1378, 'sainsburi': 1514, 'midst': 1103, 'insan': 925, 'seen': 1551, 'togeth': 1787, 'latest': 988, 'piec': 1300, 'curiou': 469, 'inform': 922, 'chariti': 318, 'scrambl': 1538, 'awesom': 172, 'coffe': 359, 'recommend': 1432, 'advis': 69, 'anymor': 124, 'instead': 930, 'canceleveryth': 285, 'caution': 302, 'cowork': 452, 'such': 1709, 'team': 1745, 'brick': 255, 'petrol': 1289, 'place': 1305, 'greedi': 796, 'asshol': 154, 'shit': 1582, 'indoor': 916, 'hardli': 829, 'smart': 1618, 'towel': 1809, 'fill': 693, 'fridg': 740, 'immun': 903, 'system': 1733, 'drink': 559, 'vitamin': 1891, 'didnt': 515, 'polici': 1322, 'februari': 678, 'ever': 621, 'notic': 1191, 'afford': 73, 'headlin': 836, 'grow': 804, 'freezer': 732, 'monitor': 1123, 'frozen': 745, 'storag': 1692, 'discov': 530, 'play': 1309, 'role': 1492, 'nonperish': 1181, 'privileg': 1363, 'pandem': 1250, 'raid': 1405, 'ur': 1861, 'starbuck': 1668, 'nike': 1175, 'temporarili': 1749, 'reportedli': 1459, 'piss': 1302, 'fault': 674, 'u': 1844, 'w': 1897, 'higher': 855, 'moment': 1120, 'someon': 1635, 'sneez': 1623, 'checkout': 321, 'queue': 1399, 'instor': 932, 'via': 1881, 'mode': 1117, 'except': 631, 'post': 1330, 'respons': 1472, 'dr': 557, 'leader': 994, 'asset': 153, 'steal': 1682, 'philippin': 1291, 'announc': 115, '16': 11, 'short': 1588, 'tomorrow': 1798, 'tho': 1768, 'easili': 576, 'glove': 777, 'origin': 1230, 'handl': 823, 'bless': 227, 'shift': 1579, 'habit': 817, 'doubl': 555, 'switch': 1730, 'financi': 696, 'sound': 1640, 'anyth': 126, 'washyourhand': 1911, 'non': 1179, 'practic': 1340, 'polit': 1323, 'stress': 1698, '10': 2, 'addit': 62, 'flu': 709, 'season': 1542, 'la': 980, 'adult': 66, 'life': 1010, 'tech': 1746, 'everybodi': 623, 'id': 894, 'rather': 1412, 'count': 432, 'walk': 1902, 'decent': 492, 'shut': 1596, 'pizza': 1303, 'destroy': 511, 'manag': 1066, 'replac': 1455, 'view': 1883, 'anxieti': 122, 'where': 1938, 'risk': 1490, 'feel': 683, 'relief': 1447, 'dc': 485, 'whitehous': 1941, 'cashier': 297, 'theyll': 1762, 'reason': 1426, 'fact': 660, 'annoy': 116, 'wise': 1950, 'bond': 235, 'econom': 581, 'rich': 1485, 'owner': 1242, 'final': 695, 'commun': 374, 'pop': 1325, 'basket': 188, 'youtub': 1995, 'idea': 895, 'fan': 668, 'cover': 439, '12': 6, 'environ': 610, 'apart': 128, 'basi': 186, 'poison': 1320, 'remain': 1449, 'air': 82, 'stabl': 1663, 'differ': 518, 'given': 773, 'direct': 523, 'thursday': 1777, 'center': 305, 'game': 758, 'bar': 183, 'guest': 811, 'ministri': 1111, 'portabl': 1327, 'card': 291, 'panickbuy': 1255, 'difficult': 519, 'chicken': 325, 'coronavirusinindia': 414, 'reduc': 1435, 'lunch': 1050, 'give': 772, 'gift': 770, 'discuss': 531, 'search': 1541, 'land': 983, 'onlineshop': 1220, 'amount': 110, 'pasta': 1268, 'unabl': 1847, 'buyer': 273, 'serv': 1566, 'focu': 710, 'side': 1599, 'sector': 1547, 'dump': 566, 'crypto': 464, 'anyway': 127, 'bleach': 226, 'cleaner': 344, 'three': 1775, 'scari': 1533, 'complet': 381, 'client': 349, 'author': 165, 'agricultur': 78, 'action': 56, 'necess': 1156, 'group': 803, 'shelter': 1577, 'depend': 507, 'andor': 112, 'natur': 1150, 'screen': 1539, 'kill': 970, 'germ': 765, 'creat': 456, 'own': 1241, 'psa': 1382, 'none': 1180, 'nurs': 1195, 'potu': 1334, 'tissu': 1785, 'drug': 564, 'mass': 1075, 'strong': 1700, 'relat': 1443, 'file': 692, 'complaint': 380, 'attempt': 158, 'amazonin': 103, 'flipkart': 707, 'handsanit': 824, 'walmart': 1904, 'minut': 1112, 'ration': 1413, 'fli': 705, 'institut': 931, 'dog': 545, 'ridicul': 1487, 'tonight': 1800, 'found': 725, 'accord': 52, 'bean': 193, 'liter': 1021, 'ago': 77, 'democrat': 505, 'domin': 548, 'note': 1189, 'singl': 1607, 'might': 1104, 'joke': 961, 'gone': 782, 'relax': 1444, 'maintain': 1060, 'sleep': 1614, 'bat': 189, 'mom': 1119, 'regularli': 1442, 'face': 656, 'elbow': 589, 'wife': 1944, 'longer': 1035, 'expens': 640, 'trip': 1825, 'asia': 149, 'danger': 481, 'chao': 316, 'shake': 1572, 'bad': 176, 'perfect': 1281, 'kit': 973, 'elderli': 590, 'extrem': 653, 'reaction': 1417, 'disrupt': 536, 'globe': 776, 'detail': 512, 'late': 986, 'session': 1568, 'wouldnt': 1972, 'c': 275, 'result': 1477, 'anticip': 121, 'kroger': 979, 'wall': 1903, 'sweep': 1729, 'wonder': 1958, 'coverag': 440, 'guarante': 808, 'em': 593, 'pound': 1335, 'bc': 191, 'gain': 757, 'friendli': 742, 'shot': 1590, 'omg': 1214, 'accept': 50, 'pic': 1295, 'multipl': 1139, 'fast': 672, 'afternoon': 75, 'act': 55, 'terribl': 1752, 'sorri': 1638, 'daili': 477, 'discount': 529, 'attend': 159, 'sport': 1656, 'thousand': 1771, 'youll': 1993, 'appreci': 138, 'parent': 1259, 'bu': 262, 'interact': 935, 'ongo': 1217, 'perman': 1285, 'stretch': 1699, 'ship': 1580, 'total': 1805, 'postpon': 1331, 'cannot': 287, 'version': 1880, 'wast': 1913, 'chees': 323, 'wanna': 1905, 'receiv': 1428, 'weekend': 1923, 'cnn': 356, 'msnbc': 1137, 'foxnew': 727, 'typic': 1843, 'definit': 499, 'easi': 575, 'coronaviruspandem': 419, 'spain': 1645, 'energi': 602, 'claim': 341, 'guess': 810, 'neighbour': 1162, 'havent': 834, 'quit': 1402, 'nobodi': 1178, 'bread': 251, 'effici': 585, 're': 1414, 'internet': 938, 'decid': 493, 'b': 173, 'netherland': 1165, 'london': 1033, 'disgust': 534, 'facebook': 657, 'outrag': 1237, 'selfish': 1554, 'resel': 1464, 'sa': 1506, 'enter': 607, 'meter': 1098, 'earli': 570, 'seem': 1550, 'ban': 180, 'freak': 729, 'line': 1014, 'jack': 955, 'butt': 270, 'rest': 1473, 'covd19': 438, 'platform': 1308, 'plane': 1307, 'surviv': 1725, 'hurrican': 887, 'intens': 934, 'imagin': 901, 'counti': 434, 'arent': 142, 'socialdistanc': 1627, 'thursdaythought': 1778, 'coronaoutbreak': 406, 'cereal': 309, 'bekind': 206, 'scene': 1535, 'bulk': 265, 'plenti': 1312, 'vulner': 1896, 'mark': 1072, 'coronavirusuk': 421, 'initi': 924, 'frontlin': 744, 'fund': 753, 'medicaid': 1089, 'pain': 1249, 'kinda': 972, 'stupid': 1706, 'god': 779, 'cuz': 473, 'settl': 1570, 'later': 987, 'nut': 1196, 'rule': 1499, 'appli': 136, 'patron': 1271, 'ontario': 1221, 'across': 54, 'joe': 959, 'asap': 147, 'deadli': 487, 'rn': 1491, 'tp': 1811, 'suspend': 1727, '500': 36, '200': 18, 'happi': 827, 'confus': 389, 'exchang': 632, 'zero': 1997, 'aviat': 167, 'fuel': 749, 'domest': 547, 'fine': 698, 'door': 554, 'legal': 1001, 'law': 992, 'bye': 274, 'fri': 736, 'netflix': 1164, 'stream': 1696, 'cours': 437, 'logist': 1031, 'earth': 573, 'sign': 1601, '8': 42, 'weird': 1927, 'hasnt': 832, 'despit': 510, 'unless': 1856, 'facil': 659, 'push': 1390, 'car': 290, 'prevent': 1357, 'christian': 335, 'tweet': 1838, 'beat': 194, 'perhap': 1282, 'tesco': 1754, 'volum': 1892, 'shipment': 1581, 'date': 483, 'crazi': 454, 'pet': 1287, 'lack': 981, 'freez': 731, 'stuck': 1702, 'appar': 132, 'entir': 609, 'benefit': 209, 'o': 1200, 'na': 1144, 'thanksgiv': 1759, 'epidem': 611, 'figur': 691, 'publish': 1385, 'complain': 379, 'pub': 1383, 'prefer': 1345, 'heard': 841, 'seriou': 1564, 'bill': 218, 'reli': 1446, 'ye': 1984, 'real': 1420, 'litter': 1022, 'whatev': 1935, 'okay': 1211, 'compar': 376, 'opportunist': 1226, 'rome': 1494, 'glad': 774, 'howev': 880, 'half': 818, 'paycheck': 1274, 'suppos': 1718, 'trillion': 1824, 't': 1734, 'front': 743, 'certain': 310, 'pickup': 1297, '13': 7, 'covid2019ireland': 450, 'luckili': 1049, 'stoppanicbuy': 1691, 'shutdown': 1597, 'damn': 480, 'junk': 964, 'forward': 724, 'airlin': 83, 'pari': 1260, 'turkey': 1835, 'centr': 306, 'sauc': 1524, 'ladi': 982, 'man': 1065, 'borisjohnson': 243, 'starv': 1670, 'lost': 1042, 'competit': 378, 'produc': 1370, 'brought': 261, 'welcom': 1928, '23': 22, 'doubt': 556, 'heavi': 843, 'hospit': 872, 'giant': 769, 'past': 1267, 'e': 568, 'write': 1975, 'ride': 1486, 'rep': 1454, 'requir': 1462, 'knowledg': 978, 'proce': 1368, 'zombi': 1998, 'apocalyps': 129, 'scenario': 1534, 'conveni': 400, 'california': 276, 'experienc': 642, 'activ': 57, 'trolley': 1826, 'per': 1280, 'misinform': 1113, 'privat': 1362, 'pricegoug': 1359, 'wine': 1948, 'chocol': 332, 'mother': 1132, 'success': 1708, 'proud': 1379, 'assist': 155, 'theyv': 1764, 'futur': 755, 'random': 1409, 'south': 1643, 'dad': 476, 'prove': 1380, 'dear': 489, 'norway': 1187, 'grab': 792, 'billion': 219, 'littl': 1023, 'mostli': 1131, '70': 41, 'area': 141, 'each': 569, 'societi': 1628, 'hike': 857, 'spare': 1646, 'loot': 1038, 'million': 1107, 'reveal': 1482, 'wors': 1968, 'pocket': 1318, 'cold': 360, '17': 12, 'diaper': 514, 'corpor': 425, 'neighbor': 1160, 'young': 1994, 'realiz': 1424, 'came': 279, 'beer': 199, 'pressur': 1355, 'lineup': 1015, 'prioriti': 1361, 'pass': 1266, 'huge': 882, 'toiletpaperapocalyps': 1790, 'trump2020': 1831, 'though': 1769, 'ireland': 943, 'gotta': 786, 'hoarder': 861, 'nearli': 1155, 'parti': 1263, 'liquor': 1018, 'bitch': 222, 'click': 348, 'account': 53, 'va': 1869, 'mad': 1055, 'aldi': 87, 'lidl': 1008, 'disappear': 527, 'eventu': 620, 'shelf': 1576, 'montreal': 1125, '40': 33, 'prepared': 1349, 'cupboard': 465, 'ocado': 1204, 'slot': 1615, 'climat': 350, 'rapidli': 1410, 'hysteria': 891, 'experi': 641, 'civil': 340, 'unfortun': 1852, 'replenish': 1456, 'quick': 1400, '800': 44, 'administr': 65, 'send': 1559, 'disgrac': 533, 'overheard': 1239, 'fun': 752, 'kitchen': 974, '1000': 4, 'youv': 1996, 'sharp': 1575, 'veget': 1877, 'eas': 574, 'burden': 268, 'simpl': 1605, 'peac': 1276, 'amaz': 101, 'hamsteren': 821, 'tag': 1735, 'belgium': 207, 'obvious': 1203, 'abil': 47, 'spring': 1661, 'section': 1546, 'lol': 1032, 'select': 1552, 'depart': 506, 'mall': 1063, 'british': 258, 'spirit': 1655, 'breath': 253, 'whether': 1939, 'choic': 333, 'box': 247, 'cook': 401, 's': 1505, 'balanc': 179, 'alert': 88, 'treatment': 1821, 'resist': 1467, 'guard': 809, '90': 46, 'fb': 676, 'coronaalert': 405, 'word': 1961, 'selfquarantin': 1556, 'pl': 1304, 'jesu': 957, 'cope': 402, 'similar': 1604, 'christma': 336, 'decis': 494, '3rd': 31, 'tap': 1739, 'win': 1946, 'snap': 1622, 'hunger': 885, 'predict': 1344, 'soup': 1641, 'egg': 587, 'nba': 1152, 'set': 1569, 'comput': 382, '33': 30, 'document': 541, 'wed': 1921, 'allow': 92, 'frenzi': 734, 'field': 689, 'anim': 114, 'catch': 299, 'wake': 1901, 'reliev': 1448, 'condit': 385, 'incred': 910, 'resourc': 1468, 'potenti': 1333, 'vital': 1890, '9': 45, 'speak': 1648, 'observ': 1201, 'near': 1153, 'ottawa': 1233, 'trust': 1833, 'pr': 1339, 'till': 1780, 'program': 1374, 'partner': 1265, 'judg': 962, 'boom': 238, 'paus': 1272, 'cole': 361, 'israel': 950, 'arriv': 145, 'realis': 1422, 'explain': 645, 'nigeria': 1172, 'tough': 1807, 'corner': 403, 'delay': 500, 'vacat': 1870, 'space': 1644, 'approach': 139, 'librari': 1007, 'sadli': 1508, 'middl': 1102, 'east': 577, 'hundr': 884, 'greater': 794, 'research': 1463, 'digit': 520, 'appoint': 137, 'blog': 230, 'educ': 583, 'camp': 280, 'quickli': 1401, 'covid2019uk': 451, 'evid': 628, 'honestli': 867, 'common': 373, 'light': 1011, 'mile': 1105, 'bunch': 267, 'charg': 317, 'x': 1980, 'categori': 300, 'neighborhood': 1161, 'ny': 1197, 'fulli': 751, 'load': 1026, 'ebay': 579, 'exampl': 630, 'form': 722, 'app': 131, 'weight': 1926, 'gross': 801, 'shoe': 1584, 'board': 231, 'exclus': 633, 'boomer': 239, 'doomsday': 553, 'island': 947, 'morrison': 1128, 'fit': 702, 'human': 883, 'attent': 160, 'central': 307, 'true': 1828, 'expos': 648, 'extend': 651, 'brother': 260, 'massiv': 1076, 'funni': 754, 'congress': 390, 'statement': 1673, 'muslim': 1140, 'plz': 1316, 'regard': 1438, 'april': 140, 'movi': 1135, 'loss': 1041, 'peep': 1278, 'involv': 941, 'chill': 329, 'sad': 1507, 'allergi': 91, 'profession': 1372, 'chicago': 324, '0': 0, 'council': 431, 'sent': 1563, 'handwash': 825, 'ran': 1408, 'opportun': 1225, 'asda': 148, 'room': 1495, 'photo': 1293, 'apocalypt': 130, 'varieti': 1873, 'thru': 1776, 'laugh': 989, 'code': 358, 'comfort': 368, 'sunday': 1713, 'loo': 1036, 'bake': 178, 'respiratori': 1470, 'curb': 466, 'truck': 1827, 'equip': 613, 'gave': 761, '300': 29, 'ya': 1982, 'll': 1025, 'hear': 840, 'men': 1093, 'independ': 911, 'nightmar': 1174, 'werent': 1932, '65': 39, 'maga': 1057, 'emptyshelv': 599, 'earlier': 571, 'minim': 1109, 'race': 1404, 'indian': 914, 'yell': 1987, 'window': 1947, 'insight': 928, 'request': 1461, 'yeah': 1985, 'black': 224, 'repli': 1457, 'dm': 539, 'suspect': 1726, 'opinion': 1224, 'stamp': 1666, 'nationwid': 1149, 'trader': 1813, 'hors': 871, 'lung': 1051, 'screw': 1540, 'tbh': 1743, 'toward': 1808, 'comedi': 367, 'stash': 1671, 'behaviour': 204, 'rethink': 1479, 'smh': 1619, 'shoutout': 1594, 'option': 1227, 'posit': 1328, 'cloth': 354, 'horror': 870, 'norm': 1184, 'n': 1142, 'ton': 1799, 'toiletpaperemerg': 1792, 'pm': 1317, 'address': 63, 'enjoy': 604, 'sky': 1612, '25': 24, 'shoploc': 1586, 'disast': 528, 'nearbi': 1154, 'club': 355, 'eye': 654, 'viral': 1885, 'knew': 975, 'bag': 177, 'clearli': 346, 'irrat': 945, 'west': 1933, 'fee': 681, 'somehow': 1634, '250': 25, 'proactiv': 1365, 'consider': 393, 'vendor': 1878, 'patienc': 1269, 'forese': 719, 'fever': 686, 'wtf': 1977, 'hot': 873, 'ground': 802, 'smile': 1620, 'boredom': 242, 'seattl': 1544, 'express': 650, 'coronavirusitalia': 417, 'addict': 61, 'five': 703, 'surpris': 1723, 'spree': 1660, 'exploit': 646, 'jump': 963, 'india': 913, 'narendramodi': 1146, 'mohfwindia': 1118, 'directli': 524, 'beef': 198, 'miss': 1114, 'weather': 1919, 'hate': 833, 'wholesal': 1943, 'wrap': 1974, 'cdcgov': 304, 'san': 1518, 'covid19australia': 444, 'coronapocalyps': 407, 'indi': 912, '202': 19, 'expand': 638, 'friday': 737, 'knock': 976, 'shout': 1593, 'mix': 1115, 'alon': 94, 'safeway': 1512, 'fridaythe13th': 738, 'jam': 956, 'attack': 157, 'quarantineandchil': 1395, 'stateofemerg': 1674, 'nationalemerg': 1148, 'fridaythought': 739, 'm': 1054, 'don': 549, 'heb': 845, 'equal': 612, 'infrastructur': 923, 'arrest': 144, 'wuhan': 1978, 'kind': 971, 'franc': 728, 'proper': 1376, 've': 1875, 'd': 475, 'add': 60, 'bin': 220, 'coronavirusinkenya': 415, 'kenyan': 967, 'uncertain': 1848, 'mortar': 1129, 'unit': 1854, 'capit': 289, 'otherwis': 1232, 'homeless': 866, 'insist': 929, 'assur': 156, 'specif': 1651, 'heighten': 846, 'statu': 1676, 'mar': 1070, 'stayhom': 1679, 'site': 1609, 'f': 655, 'af': 70, 'cream': 455, 'hero': 851, '24': 23, '13th': 8, 'within': 1953, 'town': 1810, 'spent': 1653, 'forgot': 721, 'type': 1842, 'refus': 1437, 'rude': 1498, 'vs': 1895, 'adjust': 64, 'wasnt': 1912, 'michigan': 1101, 'beach': 192, 'coronapocolyps': 408, 'garden': 759, 'bookstor': 237, 'workforc': 1964, 'stockup': 1689, 'truli': 1829, 'potato': 1332, 'taproom': 1740, 'flour': 708, 'brave': 250, 'dalla': 478, 'strategi': 1695, 'highli': 856, 'obviou': 1202, 'asian': 150, 'effort': 586, 'mess': 1096, 'warehous': 1908, 'horribl': 869, 'movement': 1134, 'butter': 271, 'volunt': 1893, 'rt': 1497, 'prompt': 1375, 'variou': 1874, 'repres': 1460, 'prime': 1360, 'ice': 892, 'girl': 771, 'channel': 315, 'australia': 163, 'hello': 848, 'chief': 326, 'particularli': 1264, 'frustrat': 747, 'squar': 1662, 'soda': 1629, 'gt': 806, 'publix': 1386, 'church': 337, 'retweet': 1481, 'foreign': 718, 'suck': 1710, 'women': 1957, 'inventori': 939, 'dinner': 521, 'flattenthecurv': 704, 'heart': 842, 'aliv': 89, 'doesn': 543, 'scan': 1531, 'switzerland': 1731, 'ukcoronaviru': 1846, 'mail': 1058, 'isl': 946, 'upsid': 1860, 'gotten': 787, 'coronavirussa': 420, 'viruscorona': 1888, 'block': 228, 'dirti': 525, 'revers': 1483, 'peanut': 1277, 'tuna': 1834, 'sanction': 1519, 'outlet': 1236, 'mention': 1095, 'commit': 371, 'familiesfirst': 667, '2243121': 21, 'name': 1145, 'bullshit': 266, 'leadership': 995, 'pledg': 1311, 'hardship': 830, 'everyday': 624, 'reassur': 1427, 'scientist': 1537, 'battl': 190, 'sam': 1516, 'deserv': 508, 'although': 99, 'exercis': 634, 'method': 1099, 'entertain': 608, 'concert': 384, 'stayathom': 1678, 'skin': 1611, 'subscrib': 1707, 'neg': 1159, 'cannabi': 286, 'ammo': 108, 'vegan': 1876, 'amidst': 107, 'yo': 1990, 'snack': 1621, 'exhaust': 635, 'connect': 391, 'bodi': 232, 'letter': 1005, 'guidelin': 812, 'farmer': 671, 'zombieapocalyps': 1999, 'influenc': 920, 'covid19u': 447, 'ramp': 1407, 'britain': 257, 'urgent': 1864, 'nj': 1176, 'threaten': 1774, 'lend': 1002, 'transmit': 1817, 'iran': 942, 'stick': 1684, 'laundri': 991, 'shock': 1583, 'french': 733, 'pie': 1299, 'de': 486, 'premium': 1346, 'grocerystor': 800, 'anti': 119, 'mama': 1064, 'coronauk': 409, 'y': 1981, 'covid19au': 443, 'minist': 1110, 'icymi': 893, 'que': 1396, '27': 26, 'nz': 1199, 'bogu': 234, 'texa': 1756, 'launch': 990, 'north': 1186, 'curbsid': 467, 'toll': 1796, 'appeal': 133, 'staythefhom': 1681, 'spark': 1647, 'petit': 1288, 'dedic': 498, 'outgo': 1235, 'fargo': 670, '18002199739': 13, 'specialist': 1650}\n"
          ]
        },
        {
          "output_type": "execute_result",
          "data": {
            "text/plain": [
              "2000"
            ]
          },
          "metadata": {},
          "execution_count": 100
        }
      ]
    },
    {
      "cell_type": "markdown",
      "source": [
        "### H"
      ],
      "metadata": {
        "id": "FnyDFXn0T3dW"
      }
    },
    {
      "cell_type": "code",
      "source": [
        "from sklearn.naive_bayes import MultinomialNB\n",
        "from sklearn.metrics import accuracy_score, roc_curve\n",
        "import matplotlib.pyplot as plt\n",
        "\n",
        "X_train = counts.toarray()\n",
        "y_train = train_data['Sentiment'].values.astype('int32')\n",
        "\n",
        "nb = MultinomialNB(alpha=1)\n",
        "# Fit model to training data\n",
        "nb.fit(X_train, y_train)\n",
        "# Predict on test data\n",
        "X_test = test_counts.toarray()\n",
        "y_test = test_data['Sentiment'].values.astype('int32')\n",
        "y_preds = nb.predict(X_test)\n",
        "\n",
        "print('Test accuracy with simple Naive Bayes:',accuracy_score(y_test,y_preds))"
      ],
      "metadata": {
        "colab": {
          "base_uri": "https://localhost:8080/"
        },
        "id": "3DnK1kDa48PZ",
        "outputId": "562a3c90-a3c8-47ea-85f4-abcda146ef30"
      },
      "execution_count": 120,
      "outputs": [
        {
          "output_type": "stream",
          "name": "stdout",
          "text": [
            "Test accuracy with simple Naive Bayes: 0.38730911005792523\n"
          ]
        }
      ]
    },
    {
      "cell_type": "code",
      "source": [
        "print('Training accuracy:', accuracy_score(y_train, nb.predict(X_train)))"
      ],
      "metadata": {
        "colab": {
          "base_uri": "https://localhost:8080/"
        },
        "id": "rp6X4Xzs_LlC",
        "outputId": "c2c8c3ee-a532-480c-bbf1-bd3ba386863e"
      },
      "execution_count": 103,
      "outputs": [
        {
          "output_type": "stream",
          "name": "stdout",
          "text": [
            "Training accuracy: 0.7119632572719983\n"
          ]
        }
      ]
    },
    {
      "cell_type": "code",
      "source": [
        "df = pd.DataFrame()\n",
        "df['0'] = nb.feature_count_[0]\n",
        "df['1'] = nb.feature_count_[1]\n",
        "df['2'] = nb.feature_count_[2]\n",
        "\n",
        "print(\"5 most probable words for 0:\", [count_vec.get_feature_names_out()[i]\n",
        "                                       for i in df['0'].nlargest(5).index], \n",
        "      \"\\n and counts:\", [int(count) for count in df['0'].nlargest(5)])\n",
        "\n",
        "print(\"5 most words for 1:\", [count_vec.get_feature_names_out()[index] \n",
        "                              for index in df['1'].nlargest(5).index], \n",
        "      \"\\n and count:\", [int(count) for count in df['1'].nlargest(5)])\n",
        "\n",
        "print(\"5 most probable words for 2:\", [count_vec.get_feature_names_out()[i] \n",
        "                                       for i in df['2'].nlargest(5).index], \n",
        "      \"\\n and count:\", [int(count) for count in df['2'].nlargest(5)])"
      ],
      "metadata": {
        "colab": {
          "base_uri": "https://localhost:8080/"
        },
        "id": "ePtsGoSOFhc6",
        "outputId": "beb171d5-a5b3-45fd-c4aa-a876adc4870a"
      },
      "execution_count": 121,
      "outputs": [
        {
          "output_type": "stream",
          "name": "stdout",
          "text": [
            "5 most probable words for 0: ['coronaviru', 'covid19', 'price', 'food', 'thi'] \n",
            " and counts: [6716, 6090, 4344, 3637, 3211]\n",
            "5 most words for 1: ['coronaviru', 'covid19', 'store', 'supermarket', 'price'] \n",
            " and count: [3804, 3407, 1584, 1439, 1366]\n",
            "5 most probable words for 2: ['coronaviru', 'covid19', 'store', 'thi', 'price'] \n",
            " and count: [7492, 7388, 3906, 3786, 3334]\n"
          ]
        }
      ]
    },
    {
      "cell_type": "markdown",
      "source": [
        "###J"
      ],
      "metadata": {
        "id": "b-289sQVSEUx"
      }
    },
    {
      "cell_type": "code",
      "source": [
        "from sklearn.feature_extraction.text import TfidfVectorizer\n",
        "X, y = train_data['tokens_no_sw'].to_numpy(), train_data['Sentiment'].to_numpy()\n",
        "\n",
        "def override_fcn(doc):\n",
        "  # We expect a list of tokens as input\n",
        "  return doc\n",
        "\n",
        "count_vec = TfidfVectorizer(\n",
        "    analyzer='word',\n",
        "    tokenizer= override_fcn,\n",
        "    preprocessor= override_fcn,\n",
        "    token_pattern= None,\n",
        "    max_features = 2000)\n",
        "\n",
        "counts = count_vec.fit_transform(X)\n",
        "print(counts.toarray())\n",
        "\n",
        "print(count_vec.vocabulary_)\n",
        "len(count_vec.vocabulary_)"
      ],
      "metadata": {
        "colab": {
          "base_uri": "https://localhost:8080/"
        },
        "id": "7zBjSUGbCWZB",
        "outputId": "3c5760c2-a975-4613-fb8e-4549dae9c78e"
      },
      "execution_count": 127,
      "outputs": [
        {
          "output_type": "stream",
          "name": "stdout",
          "text": [
            "[[0. 0. 0. ... 0. 0. 0.]\n",
            " [0. 0. 0. ... 0. 0. 0.]\n",
            " [0. 0. 0. ... 0. 0. 0.]\n",
            " ...\n",
            " [0. 0. 0. ... 0. 0. 0.]\n",
            " [0. 0. 0. ... 0. 0. 0.]\n",
            " [0. 0. 0. ... 0. 0. 0.]]\n",
            "{'advic': 72, 'talk': 1747, 'neighbour': 1175, 'famili': 683, 'phone': 1295, 'number': 1202, 'creat': 456, 'contact': 399, 'list': 1039, 'school': 1528, 'employ': 603, 'set': 1562, 'onlin': 1224, 'shop': 1579, 'account': 56, 'suppli': 1720, 'regular': 1443, 'not': 1196, 'order': 1234, 'coronaviru': 419, 'australia': 171, 'woolworth': 1968, 'give': 788, 'elderli': 597, 'disabl': 527, 'dedic': 499, 'hour': 891, 'amid': 111, 'covid19': 446, 'outbreak': 1239, 'food': 736, 'stock': 1683, 'onli': 1223, 'one': 1221, 'empti': 605, 'pleas': 1315, 'dont': 553, 'panic': 1255, 'there': 1771, 'will': 1954, 'enough': 612, 'everyon': 637, 'take': 1743, 'more': 1140, 'than': 1767, 'need': 1171, 'stay': 1670, 'calm': 279, 'safe': 1505, 'readi': 1416, 'go': 793, 'supermarket': 1719, 'dure': 572, 'becaus': 204, 'im': 915, 'seriou': 1557, 'thing': 1775, 'caus': 306, 'shortag': 1582, 'stayathom': 1671, 'news': 1180, 'region': 1440, 'first': 718, 'confirm': 392, 'case': 299, 'came': 280, 'counti': 439, 'last': 1007, 'week': 1933, 'peopl': 1277, 'area': 143, 'store': 1691, 'purchas': 1388, 'clean': 348, 'hand': 839, 'sanit': 1513, 'toilet': 1798, 'paper': 1261, 'other': 1237, 'good': 799, 'report': 1458, 'cashier': 301, 'groceri': 818, 'wa': 1906, 'share': 1567, 'hi': 868, 'insight': 947, 'prove': 1380, 'comment': 375, 'class': 347, 'so': 1620, 'know': 996, 'today': 1796, 'didnt': 518, 'buy': 273, 'toiletpapercrisi': 1801, 'due': 570, 'retail': 1475, 'open': 1229, 'busi': 272, 'next': 1181, 'two': 1851, 'begin': 210, 'monday': 1136, 'march': 1087, '16': 12, 'continu': 403, 'process': 1364, 'normal': 1193, 'thank': 1768, 'understand': 1858, 'corona': 415, 'should': 1583, 'stop': 1686, 'cash': 300, 'use': 1874, 'payment': 1275, 'can': 282, 'spread': 1655, 'note': 1197, 'also': 103, 'prefer': 1347, 'home': 883, 'time': 1791, 'fight': 705, 'covid': 445, '19': 15, 'all': 96, 'month': 1139, 'hasnt': 849, 'crowd': 465, 'restaur': 1471, 'howev': 895, 'reduc': 1434, 'close': 356, 'mall': 1081, 'mean': 1099, 'now': 1201, 'same': 1511, 'depend': 508, 'singl': 1600, 'lockdown': 1052, 'covid2019': 451, 'situat': 1605, 'increas': 928, 'demand': 505, 'product': 1366, 'wait': 1908, 'may': 1095, 'longer': 1058, 'particularli': 1267, 'beef': 206, 'freezer': 751, 'pack': 1249, 'thi': 1774, 'care': 294, 'commun': 382, 'let': 1025, 'look': 1060, 'less': 1023, 'villag': 1892, 'ensur': 613, 'healthi': 856, 'bring': 263, 'door': 554, 'help': 864, 'self': 1543, 'isol': 968, 'symptom': 1738, 'expos': 663, 'ha': 834, 'ill': 913, 'just': 983, 'amazon': 108, 'deliv': 503, 'whatev': 1942, 'releas': 1447, 'resourc': 1466, 'center': 311, 'travel': 1828, 'brand': 255, 'consum': 397, 'behavior': 212, 'trend': 1831, 'line': 1035, 'eat': 585, 'altern': 104, 'find': 713, 'whether': 1945, 'avoid': 177, 'right': 1484, '13': 9, 'russia': 1500, 'high': 869, 'where': 1944, 'man': 1082, 'observ': 1207, 'whole': 1949, 'fresh': 753, 'deliveri': 504, 'weve': 1941, 'seen': 1541, 'signific': 1592, 'said': 1508, 'statement': 1668, 'result': 1474, 'system': 1739, 'impact': 920, 'affect': 75, 'arent': 144, 'struggl': 1702, 'consid': 395, 'donat': 551, 'bank': 189, 'servic': 1560, 'job': 976, 'way': 1926, 'life': 1030, '100': 4, 'nation': 1163, 'world': 1973, 'must': 1158, 'play': 1313, 'fair': 679, 'china': 337, 'new': 1179, 'chines': 338, 'global': 791, 'pandem': 1254, 'decis': 495, 'sale': 1510, 'accord': 55, 'studi': 1705, 'amaz': 107, 'cheap': 326, 'deal': 490, 'price': 1356, 'dm': 542, 'us': 1872, 'movi': 1151, 'adult': 69, 'done': 552, 'essenti': 624, 'restock': 1472, 'activ': 60, 'cannot': 287, 'left': 1021, 'checkout': 329, 'staff': 1660, 'polic': 1324, 'action': 59, 'selfish': 1544, 'profit': 1369, 'uk': 1854, 'poll': 1327, 'indic': 934, 'major': 1078, 'expect': 654, '12': 8, 'see': 1538, 'full': 764, 'confid': 391, 'here': 865, 'prepar': 1348, 'higher': 870, 'potenti': 1338, 'hunger': 902, '10': 3, 'percent': 1279, 'implement': 921, 'morn': 1141, 'test': 1764, 'posit': 1332, 'feel': 698, 'ok': 1216, 'no': 1188, 'far': 684, 'sinc': 1598, 'found': 745, 'possibl': 1333, 'exposur': 664, 'viru': 1894, 'keep': 984, 'updat': 1868, 'how': 894, 'nyc': 1205, 'depart': 507, 'worker': 1971, 'protect': 1378, 'page': 1251, 'digit': 522, 'file': 707, 'complaint': 387, 'click': 353, 'soon': 1634, 'break': 258, 'amp': 115, 'crisi': 461, 'massiv': 1092, 'countri': 440, 'shelv': 1573, 'imag': 916, 'neighborhood': 1174, 'unit': 1862, 'state': 1667, 'coronavirusoutbreak': 424, 'collaps': 366, 'closur': 357, 'could': 434, 'via': 1888, 'fun': 766, 'fact': 676, 'cough': 433, 'get': 784, 'aisl': 90, 'pretti': 1354, 'quickli': 1401, 'sorri': 1635, 'say': 1521, 'event': 632, 'cancel': 285, 'health': 854, 'top': 1811, 'prioriti': 1360, 'ani': 119, 'disappoint': 528, 'answer': 123, 'link': 1036, 'went': 1939, 'yesterday': 1992, 'gone': 797, 'anyth': 127, 'ye': 1989, 'point': 1323, 'post': 1334, 'photo': 1296, 'load': 1047, 'stuff': 1706, 'parent': 1263, 'kid': 989, 'etc': 627, 'cant': 288, 'themselv': 1770, 'everyth': 638, 'worri': 1975, 'current': 472, 'financ': 711, 'publish': 1384, 'some': 1629, 'tip': 1793, 'manag': 1083, 'money': 1137, 'challeng': 317, 'wife': 1953, 'work': 1970, 'custom': 474, 'everywher': 639, 'request': 1460, 'deep': 500, 'compani': 383, 'cost': 431, 'recommend': 1429, 'team': 1754, 'spray': 1654, 'gonna': 798, 'sick': 1589, 'capit': 291, 'like': 1033, 'without': 1962, 'provid': 1381, 'experi': 656, 'environ': 617, 'associ': 161, 'place': 1308, 'coronapocolyps': 418, 'think': 1776, 'shopper': 1580, 'lot': 1064, 'bc': 200, 'theyr': 1772, 'unabl': 1855, 'too': 1808, 'extra': 668, 'economi': 589, 'onlineshop': 1225, 'stayhom': 1672, 'check': 328, 'video': 1890, 'usa': 1873, 'market': 1089, 'die': 519, 'walmart': 1912, 'stori': 1692, 'cloth': 358, 'rise': 1486, 'white': 1948, 'form': 743, 'quarantinelif': 1395, 'outsid': 1242, 'target': 1749, 'south': 1639, 'basic': 194, 'hit': 878, 'someon': 1630, 's': 1502, 'live': 1044, 'own': 1244, '2': 17, 'local': 1049, 'issu': 969, 'around': 147, 're': 1412, 'offer': 1209, 'free': 749, 'nationwid': 1164, 'anyon': 126, 'plu': 1317, 'half': 837, 'complet': 388, 'call': 278, 'idiot': 911, 'lol': 1055, 'never': 1178, 'thought': 1779, 'id': 908, '2019': 20, 'come': 372, 'back': 183, 'stoppanicbuy': 1688, 'restrict': 1473, 'spark': 1642, 'run': 1497, 'cannabi': 286, 'yet': 1993, 'weekend': 1934, 'day': 486, 'befor': 208, 'epidem': 618, 'fear': 691, 'medicin': 1105, 'cure': 469, 'remain': 1450, 'emerg': 602, 'socialdistanc': 1625, 'whi': 1946, 'water': 1924, 'util': 1877, 'shut': 1587, 'middl': 1116, 'lose': 1061, 'afford': 76, 'worth': 1978, 'dear': 491, 'ive': 972, 'follow': 735, 'social': 1623, 'distanc': 538, 'rule': 1496, 'prevent': 1355, 'spent': 1647, 'amount': 114, 'expens': 655, 'across': 57, 'sever': 1563, 'pressur': 1353, 'well': 1938, 'neg': 1172, 'great': 812, 'bekind': 215, 'import': 922, 'afraid': 77, 'worst': 1977, 'wash': 1918, 'yall': 1988, 'crazi': 455, 'clerk': 352, 'eye': 670, 'realiz': 1422, 'front': 757, 'panick': 1258, 'respond': 1468, 'hard': 846, 'serv': 1559, 'entir': 616, 'face': 672, 'near': 1167, 'futur': 769, 'surpris': 1729, 'mani': 1084, 'lost': 1063, 'corner': 414, 'scammer': 1523, 'advantag': 70, 'cdc': 307, 'flu': 731, 'alert': 94, '4': 33, 'both': 250, 'mask': 1090, 'made': 1074, 'medic': 1104, 'personnel': 1286, 'requir': 1461, 'materi': 1093, 'packag': 1250, 'make': 1079, 'safeti': 1507, 'still': 1681, 'ship': 1576, 'love': 1065, 'told': 1803, 'chang': 319, 'daili': 478, 'bought': 253, 'hous': 892, 'facebook': 673, 'group': 822, 'total': 1813, 'spirit': 1649, 'covid19uk': 450, 'stockpil': 1684, 'atm': 163, 'hygien': 906, 'yeah': 1990, 'when': 1943, 'realli': 1423, 'necessari': 1170, 'mum': 1156, 'shield': 1574, '3': 30, 'hope': 886, 'kind': 991, 'word': 1969, 'sound': 1637, 'necess': 1169, 'noth': 1198, 'scare': 1524, 'send': 1550, 'skyrocket': 1609, 'coronavirusupd': 427, 'student': 1704, 'loan': 1048, 'addit': 65, 'halt': 838, 'interest': 956, 'collect': 368, 'would': 1979, 'much': 1154, 'immedi': 918, 'relief': 1449, 'individu': 935, 'econom': 588, 'hardship': 847, 'side': 1590, 'tech': 1756, 'alreadi': 102, 'strip': 1700, 'though': 1778, 'detail': 515, 'lack': 1001, 'doesnt': 546, 'easili': 582, 'wage': 1907, 'either': 596, 'urg': 1870, 'support': 1723, 'bill': 226, 'includ': 926, 'meal': 1098, 'ceo': 314, 'show': 1586, 'saw': 1520, 'young': 1996, 'coupl': 441, 'roll': 1490, 'tp': 1819, 'mayb': 1096, 'capac': 290, 'surg': 1727, 'borisjohnson': 248, 'disgust': 534, 'charg': 322, 'inflat': 939, 'item': 971, 'govern': 805, 'someth': 1631, 'physic': 1297, 'ago': 82, 'put': 1391, 'curbsid': 468, 'pick': 1299, 'ecommerc': 587, 'folk': 734, 'idea': 909, 'la': 998, 'special': 1644, 'senior': 1551, 'hate': 850, 'head': 853, 'happen': 844, 'wont': 1967, 'spend': 1646, 'common': 381, 'sens': 1552, 'letter': 1026, 'hold': 881, 'organ': 1235, 'household': 893, 'suspend': 1734, 'debt': 493, 'respons': 1469, 'sign': 1591, 'covid19au': 447, 'want': 1914, 'older': 1219, 'australian': 172, 'mobil': 1132, 'doe': 544, 'heard': 858, 'low': 1066, 'blow': 238, 'mind': 1123, 'stupid': 1707, 'plan': 1309, 'such': 1709, 'bread': 257, 'save': 1519, '1': 2, 'n': 1159, 'bean': 201, 'got': 802, 'attempt': 165, 'budget': 269, 'slash': 1610, 'hire': 875, 'frozen': 759, 'battl': 196, 'distilleri': 539, 'oper': 1230, 'public': 1383, 'host': 888, 'hoard': 879, 'absolut': 50, 'chain': 316, 'abov': 49, 'probabl': 1362, 'chemic': 331, 'fruit': 760, 'veget': 1883, 'fulli': 765, 'human': 899, 'immun': 919, 'dad': 477, '70': 42, 'might': 1118, 'sometim': 1632, 'forget': 742, 'alway': 106, 'easi': 581, 'trolley': 1837, '2020': 21, 'pictur': 1301, 'often': 1212, 'crimin': 460, 'tri': 1832, 'except': 644, 'guidanc': 829, 'attorney': 169, 'gener': 780, 'offic': 1210, 'sure': 1725, 'within': 1961, 'dri': 563, 'effect': 593, 'introduc': 960, 'ration': 1411, 'frontlin': 758, 'extrem': 669, 'move': 1149, 'gt': 825, 'focu': 732, 'best': 218, 'opportun': 1232, 'key': 987, 'kroger': 997, 'biggest': 225, 'employe': 604, 'receiv': 1425, 'leav': 1019, 'even': 631, 'paid': 1252, 'instead': 950, 'quarantin': 1394, 'especi': 623, 'littl': 1043, 'few': 703, 'took': 1809, 'flour': 729, 'potato': 1337, 'towel': 1817, 'meat': 1102, 'chees': 330, 'panicbuy': 1256, 'buyer': 274, 'coronavirusuk': 426, 'anxieti': 125, 'panicbuyinguk': 1257, 'moron': 1142, 'rapid': 1407, 'slot': 1611, 'seem': 1540, 'fine': 714, 'email': 601, 'bottl': 251, 'short': 1581, 'risk': 1487, '6': 39, 'recess': 1427, 'three': 1784, 'phase': 1293, 'damag': 480, 'main': 1076, 'street': 1698, 'ongo': 1222, 'recoveri': 1432, 'credit': 458, 'second': 1534, 'shock': 1578, 'later': 1009, 'final': 710, 'end': 607, 'surgic': 1728, 'suppos': 1724, 'disinfect': 535, 'real': 1417, 'petit': 1289, 'bar': 190, 'drive': 565, 'model': 1133, 'earli': 576, 'club': 359, 'each': 575, 'exclus': 647, 'ton': 1806, 'greedi': 815, 'chanc': 318, 'transmiss': 1826, 'guid': 828, '20': 18, 'largest': 1006, 'handl': 840, '60': 40, 'polici': 1325, 'locat': 1050, 'precaut': 1345, 'light': 1032, 'effort': 594, 'unnecessari': 1866, 'problem': 1363, 'rice': 1481, 'year': 1991, 'panicshop': 1259, 'pricegoug': 1357, 'wast': 1922, 'date': 484, 'hoarder': 880, 'congress': 393, 'temporarili': 1761, 'correct': 430, 'anyway': 128, 'read': 1415, 'floor': 727, 'return': 1476, 'senat': 1549, 'financi': 712, 'feder': 695, 'regul': 1442, 'most': 1145, 'veri': 1887, 'poor': 1328, 'refund': 1437, 'popul': 1330, 'clear': 350, 'relat': 1445, 'daughter': 485, 'friend': 756, 'act': 58, 'stand': 1661, 'woman': 1963, 'refus': 1438, '5': 36, 'box': 254, 'agre': 83, 'walk': 1911, 'shit': 1577, 'avail': 175, 'ny': 1204, 'awar': 178, 'scam': 1522, 'media': 1103, 'text': 1766, 'websit': 1930, 'involv': 965, 'visit': 1896, 'youll': 1995, 'abl': 48, 'tell': 1758, 'movement': 1150, 'respect': 1467, 'least': 1018, 'll': 1045, 'notic': 1199, 'mention': 1111, 'industri': 937, 'trump': 1843, 'cut': 475, 'secur': 1537, 'benefit': 217, 'remov': 1454, 'pre': 1344, 'exist': 651, 'condit': 390, 'coverag': 444, 'concern': 389, 'tough': 1815, 'rememb': 1451, 'option': 1233, 'heb': 860, 'appreci': 138, 'limit': 1034, 'push': 1390, 'toward': 1816, 'pickup': 1300, 'per': 1278, 'cart': 298, 'happi': 845, 'm': 1071, 'o': 1206, 'd': 476, 'y': 1987, 'small': 1615, 'tackl': 1742, 'measur': 1101, 'reveal': 1478, 'person': 1285, 'info': 940, 'trust': 1844, 'sourc': 1638, 'attack': 164, 'queue': 1399, 'gun': 831, 'centr': 312, 'base': 193, 'ask': 156, 'app': 132, 'won': 1965, 'toiletpap': 1799, 'bad': 184, 'habit': 835, 'definit': 501, 'wear': 1927, 'nobodi': 1189, 'leader': 1015, 'pile': 1304, 'imagin': 917, '7': 41, 'wake': 1910, 'european': 630, 'wonder': 1966, 'past': 1270, 'start': 1665, 'catch': 303, 'delay': 502, 'car': 292, 'wanna': 1913, 'transport': 1827, 'hell': 862, 'appar': 133, 'wipe': 1958, 'ass': 157, 'hear': 857, 'wednesday': 1932, 'believ': 216, 'feed': 697, 'long': 1057, 'pasta': 1271, 'starv': 1666, 'win': 1955, 'game': 773, 'differ': 520, 'shelf': 1570, 'control': 406, 'realdonaldtrump': 1418, 'actual': 61, 'soap': 1621, 'enter': 614, 'unfortun': 1860, 'hungri': 903, 'staysaf': 1676, 'stockup': 1685, 'grow': 823, 'surviv': 1732, 'apocalyps': 131, '8': 43, '9': 45, 'announc': 121, 'add': 64, 'sanitis': 1514, 'rest': 1470, 'realis': 1420, 'nearli': 1168, '80': 44, 'old': 1218, 'encourag': 606, 'citi': 343, 'kill': 990, 'sell': 1547, 'almost': 99, '200': 19, 'cheaper': 327, 'edit': 591, 'fit': 720, 'room': 1491, 'remind': 1452, 'ignor': 912, 'corpor': 429, 'america': 109, 'turn': 1847, 'night': 1186, 'gov': 804, 'thread': 1781, 'driver': 567, 'togeth': 1797, 'pop': 1329, 'variou': 1880, 'toll': 1804, 'freez': 750, 'sold': 1627, 'although': 105, 'silver': 1594, 'havent': 851, 'mine': 1124, 'mass': 1091, 'isnt': 967, 'success': 1708, 'contract': 404, 'milk': 1120, 'cat': 302, 'treat': 1829, 'god': 794, 'chicago': 332, 'affair': 74, 'develop': 516, 'fill': 708, 'survey': 1731, 'sensibl': 1553, 'suggest': 1714, 'selfisol': 1545, 'american': 110, 'taken': 1745, 'saturday': 1516, 'black': 231, 'beauti': 203, 'train': 1824, 'colleagu': 367, 'washington': 1919, 'st': 1657, 'phish': 1294, 'currenc': 471, 'rate': 1409, 'oil': 1214, 'coronavirusindia': 422, 'natur': 1165, 'north': 1194, 'guess': 827, 'press': 1352, 'step': 1679, 'contamin': 401, 'strain': 1695, 'googl': 800, 'build': 270, 'hr': 896, 'join': 979, 'contain': 400, 'gym': 833, 'given': 789, 'postpon': 1336, '17': 13, '18': 14, 'meet': 1106, 'discuss': 532, 'experienc': 657, 'forward': 744, 'stuck': 1703, 'indoor': 936, 'decid': 494, 'wasnt': 1921, 'kept': 986, 'flight': 725, 'infect': 938, 'meanwhil': 1100, 'fund': 767, 'appli': 137, 'pizza': 1306, 'becom': 205, 'privat': 1361, 'sector': 1536, 'access': 54, 'cnn': 360, 'mental': 1110, 'coronaviruspandem': 425, 'critic': 462, 'multipl': 1155, 'citizen': 344, 'warn': 1917, 'late': 1008, 'drop': 568, 'latest': 1010, 'auto': 174, 'invest': 962, 'articl': 151, 'ministri': 1128, 'domest': 549, 'trade': 1821, 'fake': 680, 'kick': 988, 'nose': 1195, 'drink': 564, 'usual': 1876, 'recip': 1428, 'regard': 1439, 'women': 1964, 'vaccin': 1878, 'frequent': 752, 'away': 179, 'chief': 334, 'fee': 696, 'boost': 244, 'fridg': 755, 'pantri': 1260, 'sad': 1504, 'hotel': 890, 'vendor': 1884, 'level': 1027, 'franc': 747, 'fashion': 687, 'outlook': 1240, 'revenu': 1479, 'instor': 952, 'everi': 634, 'fuck': 762, 'goe': 795, 'wors': 1976, 'canada': 283, 'section': 1535, 'youtub': 1997, 'space': 1640, 'shall': 1564, 'sudden': 1711, 'nice': 1183, 'pay': 1274, 'reflect': 1436, 'lead': 1014, 'guard': 826, 'ban': 188, 'shame': 1565, 'interact': 955, 'growth': 824, 'question': 1397, 'manufactur': 1085, 'plant': 1310, 'shutdown': 1588, 'beat': 202, 'big': 224, 'code': 362, 'sunday': 1717, '15': 11, 'spring': 1656, 'asda': 152, 'tesco': 1763, 'morrison': 1143, 'sainsburi': 1509, 'minimum': 1126, 'basket': 195, '40': 34, 'wish': 1959, 'predict': 1346, 'air': 88, 'florida': 728, 'hospit': 887, 'along': 101, 'gather': 776, 'behaviour': 213, 'war': 1915, 'threat': 1782, 'true': 1841, 'stress': 1699, 'fail': 678, 'standard': 1662, 'veg': 1882, 'coffe': 363, 'era': 622, 'difficult': 521, 'huge': 898, 'strong': 1701, 'unpreced': 1867, 'novel': 1200, 'agricultur': 84, 'theyv': 1773, 'summer': 1716, 'children': 336, 'bet': 219, 'learn': 1017, 'react': 1414, 'danger': 482, 'kenya': 985, 'tonight': 1807, 'presid': 1351, 'impos': 923, 'declar': 496, 'allow': 98, 'duti': 573, 'trip': 1835, 'pharmaci': 1291, 'fraud': 748, 'inform': 941, 'commiss': 378, 'vulner': 1904, '50': 37, 'costco': 432, 'member': 1107, 'youv': 1998, 'electr': 599, 'dream': 562, 'enjoy': 611, 'everyday': 636, 'beyond': 222, 'insur': 954, 'hello': 863, 'brother': 266, 'sister': 1602, 'connect': 394, 'depress': 509, 'commerc': 376, 'commod': 380, 'alon': 100, 'deserv': 510, 'els': 600, 'giant': 785, 'ad': 62, '100000': 6, 'patient': 1272, 'grab': 808, 'r': 1403, 'partner': 1268, 'b': 181, 'carrier': 297, 'hike': 874, 'ebay': 586, 'ridicul': 1483, 'workforc': 1972, 'bare': 191, 'troubl': 1838, 'track': 1820, 'blog': 236, 'tune': 1846, 'friday': 754, 'kit': 993, 'pm': 1320, 'assur': 162, 'stopthespread': 1690, 'research': 1462, 'faster': 689, 'author': 173, 'design': 511, 'slow': 1612, 'diseas': 533, 'facemask': 674, 'proper': 1375, 'gallon': 772, 'egg': 595, 'cours': 442, 'san': 1512, 'london': 1056, 'april': 141, 'tuesday': 1845, 'doctor': 543, 'plung': 1319, 'appl': 136, 'reopen': 1457, 'greater': 813, 'highest': 871, 'ticket': 1789, 'societi': 1626, 'larg': 1005, 'takeout': 1746, 'europ': 629, 'guidelin': 830, 'serious': 1558, 'view': 1891, 'itali': 970, 'suspect': 1733, 'ventil': 1885, 'incom': 927, 'excess': 645, 'station': 1669, 'selfquarantin': 1546, '90': 46, 'ground': 821, 'listen': 1040, 'chao': 321, 'paracetamol': 1262, 'till': 1790, 'quick': 1400, 'homeless': 884, 'suck': 1710, 'postal': 1335, 'throughout': 1785, 'type': 1852, 'loo': 1059, 'mom': 1134, 'watch': 1923, 'monitor': 1138, 'scene': 1526, 'foreign': 740, 'e': 574, 'combat': 370, 'evolv': 641, 'rapidli': 1408, 'uncertain': 1856, 'aim': 87, 'wholesal': 1950, 'strategi': 1696, 'campaign': 281, 'fall': 681, 'energi': 608, 'ga': 770, 'shift': 1575, 'fuel': 763, 'power': 1339, 'welcom': 1937, 'stophoard': 1687, 'perhap': 1282, 'exactli': 642, 'journal': 981, 'period': 1283, 'town': 1818, 'tomorrow': 1805, 'owner': 1245, 'factori': 677, 'holiday': 882, '14': 10, 'wine': 1957, 'tissu': 1795, 'download': 557, 'recov': 1431, 'agenc': 81, 'reach': 1413, 'smart': 1616, 'mother': 1147, 'interview': 959, 'lock': 1051, 'prepper': 1349, 'peak': 1276, 'sarscov2': 1515, 'guy': 832, 'address': 66, 'regist': 1441, 'plenti': 1316, 'supplier': 1721, 'bulk': 271, 'texa': 1765, 'nurs': 1203, 'better': 220, 'cover': 443, 'mouth': 1148, 'meter': 1113, 'homemad': 885, 'jack': 973, 'cdcgov': 308, 'pl': 1307, 'pharmacist': 1292, '45': 35, 'lie': 1029, 'despit': 513, 'opec': 1228, 'sharp': 1568, 'lower': 1067, 'stick': 1680, 'figur': 706, 'pattern': 1273, 'asset': 158, 'perspect': 1287, 'takeaway': 1744, 'border': 245, 'mortgag': 1144, 'treatment': 1830, 'crash': 454, 'consumpt': 398, 'uncertainti': 1857, 'trigger': 1833, 'billion': 227, 'prompt': 1374, 'spot': 1653, 'babi': 182, 'wow': 1981, 'child': 335, 'hey': 867, 'ladi': 1002, 'asshol': 159, 'nonessenti': 1192, 'hub': 897, 'york': 1994, 'produc': 1365, 'colleg': 369, 'toronto': 1812, 'export': 662, 'drug': 569, 'hang': 843, 'pass': 1269, 'deadli': 489, 'term': 1762, 'driven': 566, 'tax': 1752, 'sit': 1603, 'internet': 958, 'traffic': 1823, 'earn': 578, 'rais': 1404, 'tool': 1810, 'remot': 1453, 'bitcoin': 230, 'technolog': 1757, 'anywher': 129, 'pmoindia': 1321, '23': 24, 'suffer': 1713, 'purpos': 1389, 'asham': 153, 'dog': 547, 'shouldnt': 1584, 'hazard': 852, 'carri': 296, 'whose': 1951, 'ahead': 85, 'wave': 1925, 'behind': 214, 'recent': 1426, 'season': 1533, 'engag': 610, 'seek': 1539, 'attent': 167, 'highli': 872, 'rs': 1494, 'kindli': 992, 'earth': 579, 'practic': 1342, 'doesn': 545, 't': 1740, 'assist': 160, 'approach': 139, 'fast': 688, '22': 23, 'glove': 792, 'goug': 803, 'name': 1161, 'messag': 1112, 'de': 487, 'greed': 814, 'death': 492, 'rich': 1482, 'sustain': 1735, 'client': 354, 'ever': 633, 'reli': 1448, 'data': 483, 'felt': 702, 'card': 293, 'touch': 1814, 'age': 80, 'finish': 715, 'role': 1489, 'anim': 120, 'farm': 685, 'stopstockpil': 1689, 'lo': 1046, 'angel': 118, 'launch': 1012, 'seri': 1556, 'ice': 907, 'entertain': 615, 'non': 1190, 'field': 704, 'mail': 1075, 'gratitud': 811, 'healthcar': 855, 'fire': 716, 'shape': 1566, 'crude': 466, 'million': 1121, 'sweep': 1736, 'soar': 1622, 'toiletpaperpan': 1802, 'indian': 933, 'bay': 197, 'accept': 53, 'bag': 185, 'shelter': 1571, 'thousand': 1780, 'fellow': 701, 'okay': 1217, 'dinner': 523, 'approv': 140, 'weekli': 1935, 'quit': 1402, 'dollar': 548, 'chicken': 333, 'transit': 1825, 'devic': 517, 'site': 1604, 'law': 1013, 'highlight': 873, '30': 31, 'organis': 1236, 'part': 1265, 'film': 709, 'f': 671, 'prime': 1358, 'anoth': 122, 'piec': 1302, 'tv': 1848, 'boom': 243, 'glad': 790, 'governor': 806, 'husband': 905, 'unless': 1864, 'curfew': 470, 'resid': 1464, 'oh': 1213, 'estim': 626, 'min': 1122, 'wtf': 1984, 'dairi': 479, 'garden': 774, 'switch': 1737, 'book': 242, 'vote': 1901, 'illeg': 914, 'gave': 777, 'minut': 1129, 'appear': 135, 'surround': 1730, 'resili': 1465, 'cap': 289, 'barrel': 192, 'amidst': 112, 'saudi': 1517, 'arabia': 142, 'trader': 1822, 'joe': 977, 'cleaner': 349, 'print': 1359, 'miss': 1130, 'u': 1853, 'express': 665, 'loss': 1062, 'temporari': 1760, 'mile': 1119, 'stapl': 1663, 'chart': 324, 'luxuri': 1069, 'gop': 801, 'complain': 386, 'weather': 1928, 'storm': 1693, 'solut': 1628, 'appeal': 134, 'adjust': 67, 'claim': 346, 'hero': 866, 'michigan': 1115, 'sentiment': 1555, 'index': 931, 'declin': 497, 'acceler': 52, 'anticip': 124, 'hurt': 904, 'arriv': 149, '11': 7, 'polit': 1326, 'mad': 1073, 'exploit': 660, 'bbcnew': 199, 'tank': 1748, 'fix': 722, 'cent': 310, 'fell': 700, 'decreas': 498, 'park': 1264, 'aldi': 92, 'commit': 379, 'schedul': 1527, 'pump': 1387, 'advis': 73, 'specif': 1645, 'unlik': 1865, 'ftc': 761, 'fda': 690, 'expert': 658, 'calcul': 276, 'labor': 1000, 'breath': 259, 'supplychain': 1722, 'seller': 1548, 'distribut': 540, 'brought': 267, 'doubt': 556, 'forev': 741, 'midst': 1117, 'ag': 79, 'comfort': 374, 'minist': 1127, 'waitros': 1909, 'simpli': 1597, 'explain': 659, 'januari': 974, 'explor': 661, 'onc': 1220, 'histori': 877, '24': 25, 'bottom': 252, 'popular': 1331, 'gold': 796, 'investor': 964, 'worldwid': 1974, 'estat': 625, 'realest': 1419, 'handwash': 842, 'diy': 541, 'groceryshop': 819, 'grocerystor': 820, 'grocer': 817, 'thankyou': 1769, 'extend': 666, 'sir': 1601, 'voucher': 1902, 'bore': 246, 'foodbank': 737, 'spain': 1641, 'nj': 1187, 'farmer': 686, 'trucker': 1840, 'creativ': 457, 'cook': 409, 'episod': 619, 'joke': 980, 'moment': 1135, 'rather': 1410, 'curb': 467, 'whilst': 1947, 'reason': 1424, 'california': 277, 'coronavirususa': 428, 'dead': 488, 'realiti': 1421, 'none': 1191, 'kitchen': 994, 'bori': 247, 'everybodi': 635, 'ur': 1869, 'choic': 340, 'bit': 229, 'direct': 524, 'alcohol': 91, 'univers': 1863, 'son': 1633, 'thru': 1787, 'damn': 481, 'relax': 1446, 'sport': 1652, 'stayhomechalleng': 1673, 'lab': 999, 'similar': 1595, 'bake': 187, 'dr': 559, 'sa': 1503, 'discount': 530, 'channel': 320, 'tast': 1751, 'program': 1370, 'rt': 1495, 'caught': 305, 'eu': 628, 'shout': 1585, 'cole': 365, 'w': 1905, 'fli': 724, 'unemploy': 1859, 'truck': 1839, 'couldnt': 435, 'tin': 1792, 'bin': 228, 'doubl': 555, '1st': 16, 'tabl': 1741, 'don': 550, 'disast': 529, 'forecast': 739, 'asian': 155, 'machin': 1072, 'network': 1177, 'chineseviru': 339, 'johnson': 978, 'gear': 778, 'sent': 1554, 'pic': 1298, 'surfac': 1726, 'ppl': 1341, '000': 1, 'write': 1982, 'intern': 957, 'equiti': 621, 'climat': 355, 'govt': 807, 'smile': 1617, 'forc': 738, 'boss': 249, 'bu': 268, 'handsanit': 841, 'saudiarabia': 1518, 'liter': 1041, 'germani': 783, 'victim': 1889, 'adapt': 63, 'grate': 810, 'arrest': 148, 'road': 1488, 'platform': 1312, 'german': 782, 'proud': 1379, 'tweet': 1849, 'block': 235, 'co': 361, 'logist': 1054, 'harm': 848, '2nd': 29, 'queu': 1398, 'maintain': 1077, 'counter': 438, 'commerci': 377, 'reserv': 1463, 'wouldnt': 1980, 'volunt': 1900, 'coronacrisi': 416, 'isn': 966, 'elect': 598, 'educ': 592, 'choos': 341, 'canadian': 284, 'retweet': 1477, 'washyourhand': 1920, 'awesom': 180, 'dispos': 536, 'simpl': 1596, 'russian': 1501, 'categori': 304, 'mostli': 1146, 'virtual': 1893, 'feet': 699, 'laid': 1003, 'matter': 1094, 'wuhan': 1985, 'scari': 1525, 'civil': 345, 'arm': 145, 'thursday': 1788, 'union': 1861, 'abus': 51, 'improv': 925, 'sky': 1608, 'central': 313, 'litr': 1042, 'lowest': 1068, 'flow': 730, 'speak': 1643, 'convers': 408, 'volum': 1899, 'advertis': 71, 'teacher': 1753, 'contribut': 405, 'bewar': 221, 'chariti': 323, 'parti': 1266, 'size': 1607, 'six': 1606, 'straight': 1694, 'lesson': 1024, 'repres': 1459, 'council': 436, 'expand': 653, 'brave': 256, 'offici': 1211, 'consider': 396, 'rent': 1455, 'british': 265, 'beer': 207, 'among': 113, 'dozen': 558, 'leadership': 1016, 'count': 437, 'africa': 78, 'exampl': 643, 'incred': 929, 'insid': 946, 'averag': 176, 'virus': 1895, 'wrong': 1983, 'five': 721, 'girl': 787, 'jump': 982, 'perform': 1281, 'urgent': 1871, '500': 38, 'profession': 1367, 'enforc': 609, 'scientist': 1530, 'lysol': 1070, 'sneez': 1619, 'warehous': 1916, 'pet': 1288, 'liquor': 1038, 'project': 1371, 'aldiuk': 93, 'super': 1718, 'promis': 1372, 'pakistan': 1253, 'tripl': 1836, 'stimulu': 1682, 'nh': 1182, 'insan': 945, 'desper': 512, 'execut': 649, 'director': 526, 'mark': 1088, 'aliv': 95, 'cope': 412, 've': 1881, 'gift': 786, 'neighbor': 1173, 'earlier': 577, 'fish': 719, 'facil': 675, 'weird': 1936, 'lift': 1031, 'disrupt': 537, 'certain': 315, 'throw': 1786, 'bloodi': 237, 'green': 816, 'temperatur': 1759, 'carer': 295, 'inventori': 961, 'laugh': 1011, 'four': 746, 'round': 1493, 'suit': 1715, 'focus': 733, 'coordin': 411, 'heart': 859, 'conveni': 407, 'content': 402, 'singapor': 1599, 'fed': 694, '25': 26, 'rush': 1499, 'gain': 771, 'brilliant': 262, 'liquid': 1037, 'record': 1430, 'india': 932, 'significantli': 1593, 'combin': 371, 'excus': 648, 'podcast': 1322, 'zero': 1999, 'c': 275, 'minim': 1125, 'blame': 232, 'volatil': 1898, 'pull': 1386, 'red': 1433, 'window': 1956, 'celebr': 309, 'steal': 1678, 'pray': 1343, 'cool': 410, 'piersmorgan': 1303, 'pub': 1382, 'vital': 1897, 'player': 1314, '99': 47, 'behav': 211, 'coronavirusau': 420, 'cross': 464, 'comedi': 373, 'firm': 717, 'valu': 1879, 'vs': 1903, 'session': 1561, 'attend': 166, 'overwhelm': 1243, 'mix': 1131, 'apart': 130, 'rental': 1456, 'navig': 1166, 'shelterinplac': 1572, 'clearli': 351, 'bbc': 198, 'inspir': 948, 'identifi': 910, 'present': 1350, 'investig': 963, 'directli': 525, 'sort': 1636, 'lick': 1028, 'bailout': 186, '0': 0, 'reduct': 1435, 'administr': 68, 'instruct': 953, 'compar': 384, 'twitter': 1850, 'funni': 768, 'knew': 995, 'wide': 1952, 'toiletpaperapocalyps': 1800, 'east': 583, 'chat': 325, 'airlin': 89, 'competit': 385, 'corn': 413, 'cold': 364, 'innov': 944, 'meme': 1108, 'oilpric': 1215, 'institut': 951, 'humor': 900, 'user': 1875, 'curv': 473, 'bless': 234, 'promot': 1373, 'ingredi': 942, 'imposs': 924, 'perfect': 1280, 'hundr': 901, 'auspol': 170, 'economist': 590, 'dramat': 560, 'petrol': 1290, 'otherwis': 1238, 'stabil': 1658, 'bodi': 240, 'tire': 1794, 'propos': 1377, 'west': 1940, 'ocado': 1208, 'wed': 1931, 'board': 239, 'netflix': 1176, '3m': 32, 'n95': 1160, 'discov': 531, 'spike': 1648, 'aid': 86, 'p': 1247, 'brief': 261, 'rang': 1406, 'select': 1542, 'maker': 1080, 'ontario': 1226, 'attitud': 168, 'exercis': 650, 'cri': 459, 'stabl': 1659, 'histor': 876, 'church': 342, 'webinar': 1929, 'art': 150, 'screen': 1531, 'drastic': 561, 'coronaviruschalleng': 421, 'men': 1109, 'bleach': 233, 'pa': 1248, 'began': 209, 'spoke': 1651, 'flattenthecurv': 723, 'ppe': 1340, 'qualiti': 1393, 'nigeria': 1184, 'featur': 692, 'rose': 1492, 'initi': 943, 'rip': 1485, 'equip': 620, 'independ': 930, 'search': 1532, 'evid': 640, 'extortion': 667, 'music': 1157, 'plastic': 1311, 'hair': 836, 'allegedli': 97, 'pivot': 1305, 'star': 1664, 'analysi': 116, 'output': 1241, 'third': 1777, 'gel': 779, 'slump': 1614, 'oott': 1227, 'narendramodi': 1162, 'germ': 781, 'britain': 264, 'mar': 1086, 'publix': 1385, 'safer': 1506, 'hot': 889, '1000': 5, 'flood': 726, '27': 27, 'exorbit': 652, 'legal': 1022, 'fals': 682, 'bonu': 241, 'perman': 1284, 'februari': 693, 'ventur': 1886, 'armi': 146, 'excit': 646, 'mr': 1152, 'threaten': 1783, 'professor': 1368, 'spit': 1650, 'easter': 584, 'rural': 1498, 'ramp': 1405, 'x': 1986, 'wit': 1960, '21': 22, 'staysafestayhom': 1677, 'bid': 223, 'trillion': 1834, 'instal': 949, 'suddenli': 1712, 'japan': 975, 'asia': 154, 'truli': 1842, 'oz': 1246, 'tear': 1755, 'plummet': 1318, 'putin': 1392, 'properti': 1376, 'destroy': 514, 'opinion': 1231, 'task': 1750, 'regularli': 1444, 'snap': 1618, 'eas': 580, 'scienc': 1529, 'metr': 1114, 'covid19u': 449, 'analyst': 117, 'gasolin': 775, 'land': 1004, 'held': 861, 'led': 1020, 'mrx': 1153, 'brexit': 260, 'nigerian': 1185, 'stream': 1697, 'lockdownuk': 1053, 'socialdistanac': 1624, 'covid19pandem': 448, 'democrat': 506, 'grant': 809, 'review': 1480, 'slowdown': 1613, 'dump': 571, 'crop': 463, '2m': 28, 'stayhomesavel': 1674, 'stayhomestaysaf': 1675, 'sharpli': 1569, 'coronacrisisuk': 417, 'mckinsey': 1097, 'quaratinelif': 1396, 'covidiot': 453, 'coronaviruslockdown': 423, 'covididiot': 452}\n"
          ]
        },
        {
          "output_type": "execute_result",
          "data": {
            "text/plain": [
              "2000"
            ]
          },
          "metadata": {},
          "execution_count": 127
        }
      ]
    },
    {
      "cell_type": "code",
      "source": [
        "X, y = test_data['tokens_no_sw'].to_numpy(), test_data['Sentiment'].to_numpy()\n",
        "\n",
        "test_count_vec = TfidfVectorizer(\n",
        "    analyzer='word',\n",
        "    tokenizer= override_fcn,\n",
        "    preprocessor= override_fcn,\n",
        "    token_pattern= None,\n",
        "    max_features = 2000)\n",
        "\n",
        "test_counts = count_vec.fit_transform(X)"
      ],
      "metadata": {
        "id": "67ZbO45mCncr"
      },
      "execution_count": 128,
      "outputs": []
    },
    {
      "cell_type": "code",
      "source": [
        "X_train = counts.toarray()\n",
        "y_train = train_data['Sentiment'].values.astype('int32')\n",
        "\n",
        "nb = MultinomialNB()\n",
        "# Fit model to training data\n",
        "nb.fit(X_train, y_train)\n",
        "# Predict on test data\n",
        "X_test = test_counts.toarray()\n",
        "y_test = test_data['Sentiment'].values.astype('int32')\n",
        "y_preds = nb.predict(X_test)\n",
        "\n",
        "print('Test accuracy with simple Naive Bayes:',accuracy_score(y_test,y_preds))\n",
        "\n",
        "print('Training accuracy:', accuracy_score(y_train, nb.predict(X_train)))\n"
      ],
      "metadata": {
        "colab": {
          "base_uri": "https://localhost:8080/"
        },
        "id": "mVU2fwv4BltU",
        "outputId": "2556313e-9a1c-4b6f-94df-aeaf34f88ad2"
      },
      "execution_count": 129,
      "outputs": [
        {
          "output_type": "stream",
          "name": "stdout",
          "text": [
            "Test accuracy with simple Naive Bayes: 0.41047919957872564\n",
            "Training accuracy: 0.6919637432869189\n"
          ]
        }
      ]
    },
    {
      "cell_type": "markdown",
      "source": [
        "### K"
      ],
      "metadata": {
        "id": "eM8S6veXUGX3"
      }
    },
    {
      "cell_type": "code",
      "source": [
        "## Part K\n",
        "\n",
        "#### Make a copy of the existing dataframe ####\n",
        "lemma_train_data = train_data.copy()\n",
        "lemma_train_data = lemma_train_data.drop(columns=['stemmed_tokens', 'tokens_no_sw'])\n",
        "lemma_train_data\n",
        "\n",
        "#### Lemmatizing Words ####\n",
        "from nltk.stem import WordNetLemmatizer\n",
        "nltk.download('wordnet')\n",
        "\n",
        "lemmatizer = WordNetLemmatizer()\n",
        "\n",
        "lemma_tokens = []\n",
        "\n",
        "for row in lemma_train_data['aphanumeric_token']:\n",
        "  lemma_row = []\n",
        "  for item in row:\n",
        "    lemma_token = lemmatizer.lemmatize(item)\n",
        "    lemma_row.append(lemma_token)\n",
        "  lemma_tokens.append(lemma_row)\n",
        "\n",
        "lemma_train_data['lemma_tokens'] = lemma_tokens"
      ],
      "metadata": {
        "colab": {
          "base_uri": "https://localhost:8080/"
        },
        "id": "3GlmqIcZUJxC",
        "outputId": "4dd44106-36f9-4eaf-ab65-1828fd344635"
      },
      "execution_count": 132,
      "outputs": [
        {
          "output_type": "stream",
          "name": "stdout",
          "text": [
            "[nltk_data] Downloading package wordnet to /root/nltk_data...\n",
            "[nltk_data]   Package wordnet is already up-to-date!\n"
          ]
        }
      ]
    },
    {
      "cell_type": "code",
      "source": [
        "lemma_train_data"
      ],
      "metadata": {
        "colab": {
          "base_uri": "https://localhost:8080/",
          "height": 884
        },
        "id": "B2oI2LuXVl0J",
        "outputId": "1e8a1a60-9ec7-495a-9d19-05a9cdee9f2d"
      },
      "execution_count": 131,
      "outputs": [
        {
          "output_type": "execute_result",
          "data": {
            "text/plain": [
              "       Unnamed: 0                                      OriginalTweet  \\\n",
              "0               0  @MeNyrbie @Phil_Gahan @Chrisitv https://t.co/i...   \n",
              "1               1  advice Talk to your neighbours family to excha...   \n",
              "2               2  Coronavirus Australia: Woolworths to give elde...   \n",
              "3               3  My food stock is not the only one which is emp...   \n",
              "4               4  Me, ready to go at supermarket during the #COV...   \n",
              "...           ...                                                ...   \n",
              "41150       41150  Airline pilots offering to stock supermarket s...   \n",
              "41151       41151  Response to complaint not provided citing COVI...   \n",
              "41152       41152  You know itÂs getting tough when @KameronWild...   \n",
              "41153       41153  Is it wrong that the smell of hand sanitizer i...   \n",
              "41154       41154  @TartiiCat Well new/used Rift S are going for ...   \n",
              "\n",
              "      Sentiment                                             tokens  \\\n",
              "0             1      [@MeNyrbie, @Phil_Gahan, @Chrisitv, and, and]   \n",
              "1             2  [advice, Talk, to, your, neighbours, family, t...   \n",
              "2             2  [Coronavirus, Australia:, Woolworths, to, give...   \n",
              "3             2  [My, food, stock, is, not, the, only, one, whi...   \n",
              "4             0  [Me,, ready, to, go, at, supermarket, during, ...   \n",
              "...         ...                                                ...   \n",
              "41150         1  [Airline, pilots, offering, to, stock, superma...   \n",
              "41151         0  [Response, to, complaint, not, provided, citin...   \n",
              "41152         2  [You, know, itÂs, getting, tough, when, @Kame...   \n",
              "41153         1  [Is, it, wrong, that, the, smell, of, hand, sa...   \n",
              "41154         0  [@TartiiCat, Well, new/used, Rift, S, are, goi...   \n",
              "\n",
              "                                       aphanumeric_token  \\\n",
              "0              [menyrbie, philgahan, chrisitv, and, and]   \n",
              "1      [advice, talk, to, your, neighbours, family, t...   \n",
              "2      [coronavirus, australia, woolworths, to, give,...   \n",
              "3      [my, food, stock, is, not, the, only, one, whi...   \n",
              "4      [me, ready, to, go, at, supermarket, during, t...   \n",
              "...                                                  ...   \n",
              "41150  [airline, pilots, offering, to, stock, superma...   \n",
              "41151  [response, to, complaint, not, provided, citin...   \n",
              "41152  [you, know, its, getting, tough, when, kameron...   \n",
              "41153  [is, it, wrong, that, the, smell, of, hand, sa...   \n",
              "41154  [tartiicat, well, newused, rift, s, are, going...   \n",
              "\n",
              "                                            lemma_tokens  \n",
              "0              [menyrbie, philgahan, chrisitv, and, and]  \n",
              "1      [advice, talk, to, your, neighbour, family, to...  \n",
              "2      [coronavirus, australia, woolworth, to, give, ...  \n",
              "3      [my, food, stock, is, not, the, only, one, whi...  \n",
              "4      [me, ready, to, go, at, supermarket, during, t...  \n",
              "...                                                  ...  \n",
              "41150  [airline, pilot, offering, to, stock, supermar...  \n",
              "41151  [response, to, complaint, not, provided, citin...  \n",
              "41152  [you, know, it, getting, tough, when, kameronw...  \n",
              "41153  [is, it, wrong, that, the, smell, of, hand, sa...  \n",
              "41154  [tartiicat, well, newused, rift, s, are, going...  \n",
              "\n",
              "[41151 rows x 6 columns]"
            ],
            "text/html": [
              "\n",
              "  <div id=\"df-4042c026-0e3f-400c-b414-33ccc67fce42\">\n",
              "    <div class=\"colab-df-container\">\n",
              "      <div>\n",
              "<style scoped>\n",
              "    .dataframe tbody tr th:only-of-type {\n",
              "        vertical-align: middle;\n",
              "    }\n",
              "\n",
              "    .dataframe tbody tr th {\n",
              "        vertical-align: top;\n",
              "    }\n",
              "\n",
              "    .dataframe thead th {\n",
              "        text-align: right;\n",
              "    }\n",
              "</style>\n",
              "<table border=\"1\" class=\"dataframe\">\n",
              "  <thead>\n",
              "    <tr style=\"text-align: right;\">\n",
              "      <th></th>\n",
              "      <th>Unnamed: 0</th>\n",
              "      <th>OriginalTweet</th>\n",
              "      <th>Sentiment</th>\n",
              "      <th>tokens</th>\n",
              "      <th>aphanumeric_token</th>\n",
              "      <th>lemma_tokens</th>\n",
              "    </tr>\n",
              "  </thead>\n",
              "  <tbody>\n",
              "    <tr>\n",
              "      <th>0</th>\n",
              "      <td>0</td>\n",
              "      <td>@MeNyrbie @Phil_Gahan @Chrisitv https://t.co/i...</td>\n",
              "      <td>1</td>\n",
              "      <td>[@MeNyrbie, @Phil_Gahan, @Chrisitv, and, and]</td>\n",
              "      <td>[menyrbie, philgahan, chrisitv, and, and]</td>\n",
              "      <td>[menyrbie, philgahan, chrisitv, and, and]</td>\n",
              "    </tr>\n",
              "    <tr>\n",
              "      <th>1</th>\n",
              "      <td>1</td>\n",
              "      <td>advice Talk to your neighbours family to excha...</td>\n",
              "      <td>2</td>\n",
              "      <td>[advice, Talk, to, your, neighbours, family, t...</td>\n",
              "      <td>[advice, talk, to, your, neighbours, family, t...</td>\n",
              "      <td>[advice, talk, to, your, neighbour, family, to...</td>\n",
              "    </tr>\n",
              "    <tr>\n",
              "      <th>2</th>\n",
              "      <td>2</td>\n",
              "      <td>Coronavirus Australia: Woolworths to give elde...</td>\n",
              "      <td>2</td>\n",
              "      <td>[Coronavirus, Australia:, Woolworths, to, give...</td>\n",
              "      <td>[coronavirus, australia, woolworths, to, give,...</td>\n",
              "      <td>[coronavirus, australia, woolworth, to, give, ...</td>\n",
              "    </tr>\n",
              "    <tr>\n",
              "      <th>3</th>\n",
              "      <td>3</td>\n",
              "      <td>My food stock is not the only one which is emp...</td>\n",
              "      <td>2</td>\n",
              "      <td>[My, food, stock, is, not, the, only, one, whi...</td>\n",
              "      <td>[my, food, stock, is, not, the, only, one, whi...</td>\n",
              "      <td>[my, food, stock, is, not, the, only, one, whi...</td>\n",
              "    </tr>\n",
              "    <tr>\n",
              "      <th>4</th>\n",
              "      <td>4</td>\n",
              "      <td>Me, ready to go at supermarket during the #COV...</td>\n",
              "      <td>0</td>\n",
              "      <td>[Me,, ready, to, go, at, supermarket, during, ...</td>\n",
              "      <td>[me, ready, to, go, at, supermarket, during, t...</td>\n",
              "      <td>[me, ready, to, go, at, supermarket, during, t...</td>\n",
              "    </tr>\n",
              "    <tr>\n",
              "      <th>...</th>\n",
              "      <td>...</td>\n",
              "      <td>...</td>\n",
              "      <td>...</td>\n",
              "      <td>...</td>\n",
              "      <td>...</td>\n",
              "      <td>...</td>\n",
              "    </tr>\n",
              "    <tr>\n",
              "      <th>41150</th>\n",
              "      <td>41150</td>\n",
              "      <td>Airline pilots offering to stock supermarket s...</td>\n",
              "      <td>1</td>\n",
              "      <td>[Airline, pilots, offering, to, stock, superma...</td>\n",
              "      <td>[airline, pilots, offering, to, stock, superma...</td>\n",
              "      <td>[airline, pilot, offering, to, stock, supermar...</td>\n",
              "    </tr>\n",
              "    <tr>\n",
              "      <th>41151</th>\n",
              "      <td>41151</td>\n",
              "      <td>Response to complaint not provided citing COVI...</td>\n",
              "      <td>0</td>\n",
              "      <td>[Response, to, complaint, not, provided, citin...</td>\n",
              "      <td>[response, to, complaint, not, provided, citin...</td>\n",
              "      <td>[response, to, complaint, not, provided, citin...</td>\n",
              "    </tr>\n",
              "    <tr>\n",
              "      <th>41152</th>\n",
              "      <td>41152</td>\n",
              "      <td>You know itÂs getting tough when @KameronWild...</td>\n",
              "      <td>2</td>\n",
              "      <td>[You, know, itÂs, getting, tough, when, @Kame...</td>\n",
              "      <td>[you, know, its, getting, tough, when, kameron...</td>\n",
              "      <td>[you, know, it, getting, tough, when, kameronw...</td>\n",
              "    </tr>\n",
              "    <tr>\n",
              "      <th>41153</th>\n",
              "      <td>41153</td>\n",
              "      <td>Is it wrong that the smell of hand sanitizer i...</td>\n",
              "      <td>1</td>\n",
              "      <td>[Is, it, wrong, that, the, smell, of, hand, sa...</td>\n",
              "      <td>[is, it, wrong, that, the, smell, of, hand, sa...</td>\n",
              "      <td>[is, it, wrong, that, the, smell, of, hand, sa...</td>\n",
              "    </tr>\n",
              "    <tr>\n",
              "      <th>41154</th>\n",
              "      <td>41154</td>\n",
              "      <td>@TartiiCat Well new/used Rift S are going for ...</td>\n",
              "      <td>0</td>\n",
              "      <td>[@TartiiCat, Well, new/used, Rift, S, are, goi...</td>\n",
              "      <td>[tartiicat, well, newused, rift, s, are, going...</td>\n",
              "      <td>[tartiicat, well, newused, rift, s, are, going...</td>\n",
              "    </tr>\n",
              "  </tbody>\n",
              "</table>\n",
              "<p>41151 rows × 6 columns</p>\n",
              "</div>\n",
              "      <button class=\"colab-df-convert\" onclick=\"convertToInteractive('df-4042c026-0e3f-400c-b414-33ccc67fce42')\"\n",
              "              title=\"Convert this dataframe to an interactive table.\"\n",
              "              style=\"display:none;\">\n",
              "        \n",
              "  <svg xmlns=\"http://www.w3.org/2000/svg\" height=\"24px\"viewBox=\"0 0 24 24\"\n",
              "       width=\"24px\">\n",
              "    <path d=\"M0 0h24v24H0V0z\" fill=\"none\"/>\n",
              "    <path d=\"M18.56 5.44l.94 2.06.94-2.06 2.06-.94-2.06-.94-.94-2.06-.94 2.06-2.06.94zm-11 1L8.5 8.5l.94-2.06 2.06-.94-2.06-.94L8.5 2.5l-.94 2.06-2.06.94zm10 10l.94 2.06.94-2.06 2.06-.94-2.06-.94-.94-2.06-.94 2.06-2.06.94z\"/><path d=\"M17.41 7.96l-1.37-1.37c-.4-.4-.92-.59-1.43-.59-.52 0-1.04.2-1.43.59L10.3 9.45l-7.72 7.72c-.78.78-.78 2.05 0 2.83L4 21.41c.39.39.9.59 1.41.59.51 0 1.02-.2 1.41-.59l7.78-7.78 2.81-2.81c.8-.78.8-2.07 0-2.86zM5.41 20L4 18.59l7.72-7.72 1.47 1.35L5.41 20z\"/>\n",
              "  </svg>\n",
              "      </button>\n",
              "      \n",
              "  <style>\n",
              "    .colab-df-container {\n",
              "      display:flex;\n",
              "      flex-wrap:wrap;\n",
              "      gap: 12px;\n",
              "    }\n",
              "\n",
              "    .colab-df-convert {\n",
              "      background-color: #E8F0FE;\n",
              "      border: none;\n",
              "      border-radius: 50%;\n",
              "      cursor: pointer;\n",
              "      display: none;\n",
              "      fill: #1967D2;\n",
              "      height: 32px;\n",
              "      padding: 0 0 0 0;\n",
              "      width: 32px;\n",
              "    }\n",
              "\n",
              "    .colab-df-convert:hover {\n",
              "      background-color: #E2EBFA;\n",
              "      box-shadow: 0px 1px 2px rgba(60, 64, 67, 0.3), 0px 1px 3px 1px rgba(60, 64, 67, 0.15);\n",
              "      fill: #174EA6;\n",
              "    }\n",
              "\n",
              "    [theme=dark] .colab-df-convert {\n",
              "      background-color: #3B4455;\n",
              "      fill: #D2E3FC;\n",
              "    }\n",
              "\n",
              "    [theme=dark] .colab-df-convert:hover {\n",
              "      background-color: #434B5C;\n",
              "      box-shadow: 0px 1px 3px 1px rgba(0, 0, 0, 0.15);\n",
              "      filter: drop-shadow(0px 1px 2px rgba(0, 0, 0, 0.3));\n",
              "      fill: #FFFFFF;\n",
              "    }\n",
              "  </style>\n",
              "\n",
              "      <script>\n",
              "        const buttonEl =\n",
              "          document.querySelector('#df-4042c026-0e3f-400c-b414-33ccc67fce42 button.colab-df-convert');\n",
              "        buttonEl.style.display =\n",
              "          google.colab.kernel.accessAllowed ? 'block' : 'none';\n",
              "\n",
              "        async function convertToInteractive(key) {\n",
              "          const element = document.querySelector('#df-4042c026-0e3f-400c-b414-33ccc67fce42');\n",
              "          const dataTable =\n",
              "            await google.colab.kernel.invokeFunction('convertToInteractive',\n",
              "                                                     [key], {});\n",
              "          if (!dataTable) return;\n",
              "\n",
              "          const docLinkHtml = 'Like what you see? Visit the ' +\n",
              "            '<a target=\"_blank\" href=https://colab.research.google.com/notebooks/data_table.ipynb>data table notebook</a>'\n",
              "            + ' to learn more about interactive tables.';\n",
              "          element.innerHTML = '';\n",
              "          dataTable['output_type'] = 'display_data';\n",
              "          await google.colab.output.renderOutput(dataTable, element);\n",
              "          const docLink = document.createElement('div');\n",
              "          docLink.innerHTML = docLinkHtml;\n",
              "          element.appendChild(docLink);\n",
              "        }\n",
              "      </script>\n",
              "    </div>\n",
              "  </div>\n",
              "  "
            ]
          },
          "metadata": {},
          "execution_count": 131
        }
      ]
    },
    {
      "cell_type": "code",
      "source": [
        "# print the top 75 most popular english words\n",
        "nltk.download('stopwords')\n",
        "sw = stopwords.words('english')[:100]\n",
        "\n",
        "new_tokens = []\n",
        "for row in lemma_train_data['lemma_tokens']:\n",
        "  new_row = []\n",
        "  for item in row:\n",
        "    if item not in sw and item != '':\n",
        "      new_row.append(item)\n",
        "  new_tokens.append(new_row)\n",
        "\n",
        "lemma_train_data['lemma_tokens_no_sw'] = new_tokens"
      ],
      "metadata": {
        "colab": {
          "base_uri": "https://localhost:8080/"
        },
        "id": "WlGB4aOtVpPQ",
        "outputId": "5e4b63fa-386e-43c7-93fa-c426ec2bb343"
      },
      "execution_count": 133,
      "outputs": [
        {
          "output_type": "stream",
          "name": "stdout",
          "text": [
            "[nltk_data] Downloading package stopwords to /root/nltk_data...\n",
            "[nltk_data]   Package stopwords is already up-to-date!\n"
          ]
        }
      ]
    },
    {
      "cell_type": "code",
      "source": [
        "lemma_train_data"
      ],
      "metadata": {
        "id": "US0hqdMWV0kY"
      },
      "execution_count": null,
      "outputs": []
    },
    {
      "cell_type": "code",
      "source": [
        "X, y = lemma_train_data['lemma_tokens_no_sw'].to_numpy(), lemma_train_data['Sentiment'].to_numpy()\n",
        "\n",
        "lemma_tfidf_vec = TfidfVectorizer(\n",
        "    analyzer='word',\n",
        "    tokenizer= override_fcn,\n",
        "    preprocessor= override_fcn,\n",
        "    token_pattern= None,\n",
        "    max_features = 2000)\n",
        "\n",
        "lemma_tfidf = lemma_tfidf_vec.fit_transform(X)\n",
        "print(lemma_tfidf.toarray())\n",
        "\n",
        "print(lemma_tfidf_vec.vocabulary_)\n",
        "len(lemma_tfidf_vec.vocabulary_)"
      ],
      "metadata": {
        "colab": {
          "base_uri": "https://localhost:8080/"
        },
        "id": "n1NMMIduV2lD",
        "outputId": "4b11384f-8774-4458-b84e-c783e333a66a"
      },
      "execution_count": 134,
      "outputs": [
        {
          "output_type": "stream",
          "name": "stdout",
          "text": [
            "[[0. 0. 0. ... 0. 0. 0.]\n",
            " [0. 0. 0. ... 0. 0. 0.]\n",
            " [0. 0. 0. ... 0. 0. 0.]\n",
            " ...\n",
            " [0. 0. 0. ... 0. 0. 0.]\n",
            " [0. 0. 0. ... 0. 0. 0.]\n",
            " [0. 0. 0. ... 0. 0. 0.]]\n",
            "{'advice': 68, 'talk': 1738, 'neighbour': 1156, 'family': 660, 'phone': 1280, 'number': 1185, 'create': 444, 'contact': 388, 'list': 1009, 'school': 1528, 'employer': 591, 'set': 1562, 'online': 1206, 'shopping': 1584, 'account': 49, 'supply': 1713, 'regular': 1437, 'not': 1178, 'order': 1219, 'coronavirus': 408, 'australia': 162, 'woolworth': 1964, 'give': 759, 'elderly': 585, 'disabled': 515, 'dedicated': 489, 'hour': 866, 'amid': 109, 'covid19': 436, 'outbreak': 1226, 'food': 709, 'stock': 1679, 'only': 1208, 'one': 1204, 'empty': 592, 'please': 1300, 'dont': 542, 'panic': 1241, 'there': 1765, 'will': 1951, 'enough': 598, 'everyone': 621, 'take': 1733, 'more': 1119, 'than': 1759, 'need': 1151, 'stay': 1667, 'calm': 263, 'safe': 1500, 'ready': 1411, 'go': 765, 'supermarket': 1711, 'im': 889, 'serious': 1557, 'thing': 1768, 'cause': 294, 'shortage': 1586, 'stayathome': 1668, 'news': 1161, 'region': 1435, 'first': 694, 'confirmed': 381, 'case': 286, 'came': 264, 'county': 430, 'last': 974, 'week': 1931, 'people': 1265, 'area': 140, 'store': 1690, 'purchase': 1379, 'cleaning': 337, 'hand': 807, 'sanitizer': 1513, 'toilet': 1787, 'paper': 1247, 'other': 1223, 'good': 771, 'report': 1452, 'cashier': 288, 'grocery': 788, 'wa': 1896, 'sharing': 1569, 'insight': 924, 'class': 334, 'so': 1619, 'know': 965, 'talking': 1739, 'today': 1785, 'didnt': 505, 'buy': 255, 'toiletpapercrisis': 1790, 'due': 559, 'retail': 1472, 'open': 1211, 'business': 253, 'next': 1162, 'two': 1842, 'beginning': 202, 'monday': 1116, 'march': 1069, '16': 11, 'continue': 391, 'process': 1350, 'normal': 1174, 'thank': 1760, 'corona': 404, 'should': 1587, 'stop': 1685, 'cash': 287, 'use': 1865, 'payment': 1263, 'can': 266, 'spread': 1651, 'note': 1179, 'also': 101, 'home': 858, 'time': 1782, 'fight': 680, 'covid': 435, '19': 14, 'all': 93, 'month': 1118, 'hasnt': 818, 'restaurant': 1468, 'however': 871, 'reducing': 1430, 'closing': 346, 'mall': 1058, 'mean': 1083, 'now': 1184, 'using': 1868, 'same': 1507, 'single': 1604, 'lockdown': 1022, 'covid2019': 439, 'situation': 1609, 'increased': 904, 'demand': 498, 'product': 1354, 'wait': 1898, 'may': 1079, 'longer': 1028, 'particularly': 1252, 'beef': 198, 'share': 1567, 'freezer': 725, 'pack': 1234, 'community': 370, 'let': 995, 'look': 1030, 'le': 982, 'ensure': 599, 'healthy': 825, 'bringing': 243, 'door': 543, 'help': 833, 'self': 1544, 'isolation': 939, 'symptom': 1729, 'exposed': 640, 'ha': 804, 'ill': 887, 'just': 952, 'amazon': 106, 'deliver': 494, 'whatever': 1940, 'release': 1441, 'resource': 1460, 'center': 299, 'travel': 1819, 'brand': 236, 'consumer': 386, 'behavior': 203, 'trend': 1822, 'line': 1006, 'eating': 572, 'alternative': 102, 'find': 689, 'whether': 1944, 'avoiding': 170, 'right': 1479, '13': 8, 'russia': 1495, 'reported': 1453, 'high': 841, 'where': 1943, 'man': 1059, 'whole': 1947, 'fresh': 726, 'delivery': 497, 'weve': 1939, 'seen': 1543, 'significant': 1598, 'increase': 903, 'said': 1504, 'statement': 1665, 'system': 1730, 'impact': 894, 'affecting': 72, 'arent': 141, 'struggling': 1699, 'consider': 383, 'donating': 539, 'bank': 180, 'service': 1560, 'job': 947, 'way': 1924, 'life': 999, '100': 3, 'nation': 1143, 'world': 1971, 'must': 1138, 'play': 1297, 'fair': 656, 'china': 325, 'new': 1160, 'chinese': 326, 'global': 763, 'pandemic': 1240, 'impacting': 896, 'decision': 486, 'sale': 1506, 'according': 48, 'study': 1702, 'amazing': 105, 'cheap': 317, 'deal': 480, 'going': 767, 'price': 1342, 'dm': 529, 'u': 1844, 'movie': 1130, 'adult': 65, 'done': 541, 'essential': 609, 'buying': 257, 'cannot': 274, 'left': 993, 'checkout': 319, 'staff': 1655, 'police': 1310, 'action': 53, 'selfish': 1545, 'uk': 1845, 'majority': 1054, 'expect': 631, '12': 7, 'see': 1538, 'full': 737, 'result': 1471, 'confidence': 380, 'here': 837, 'higher': 842, 'potential': 1324, 'hunger': 879, '10': 2, 'percent': 1267, 'morning': 1120, 'tested': 1755, 'positive': 1316, 'feel': 673, 'ok': 1200, 'no': 1169, 'far': 661, 'since': 1603, 'found': 719, 'possible': 1317, 'exposure': 641, 'virus': 1887, 'keep': 953, 'updated': 1860, 'how': 870, 'nyc': 1188, 'department': 499, 'worker': 1968, 'protection': 1367, 'page': 1237, 'file': 683, 'complaint': 374, 'click': 341, 'soon': 1632, 'breaking': 239, 'closed': 345, 'amp': 113, 'normally': 1175, 'crisis': 449, 'massive': 1076, 'country': 429, 'shelf': 1572, 'neighborhood': 1155, 'united': 1854, 'state': 1664, 'coronavirusoutbreak': 412, 'collapse': 356, 'closure': 347, 'could': 425, 'via': 1882, 'fun': 739, 'fact': 653, 'cough': 422, 'get': 755, 'aisle': 88, 'pretty': 1339, 'quickly': 1394, 'sorry': 1633, 'say': 1521, 'event': 616, 'cancelled': 271, 'health': 823, 'top': 1799, 'priority': 1346, 'any': 123, 'link': 1007, 'went': 1937, 'yesterday': 1991, 'gone': 769, 'anything': 125, 'yes': 1990, 'whats': 1941, 'point': 1309, 'posting': 1322, 'photo': 1281, 'load': 1017, 'stuff': 1703, 'parent': 1248, 'kid': 957, 'etc': 611, 'cant': 275, 'everything': 622, 'worried': 1973, 'current': 459, 'finance': 687, 'some': 1628, 'tip': 1783, 'manage': 1060, 'money': 1117, 'challenging': 306, 'wife': 1950, 'work': 1966, 'customer': 462, 'coughing': 424, 'everywhere': 623, 'saying': 1522, 'deep': 490, 'clean': 335, 'company': 371, 'cost': 420, 'team': 1744, 'spray': 1650, 'gonna': 770, 'sick': 1595, 'capitalism': 278, 'like': 1001, 'without': 1958, 'provide': 1370, 'experience': 635, 'environment': 604, 'associate': 156, 'coronapocolypse': 407, 'think': 1769, 'shopper': 1583, 'lot': 1037, 'bc': 192, 'theyre': 1766, 'unable': 1846, 'too': 1796, 'extra': 643, 'economy': 578, 'onlineshopping': 1207, 'stayhome': 1669, 'check': 318, 'video': 1884, 'usa': 1864, 'market': 1071, 'die': 506, 'walmart': 1905, 'story': 1692, 'clothes': 348, 'rise': 1480, 'white': 1946, 'quarantinelife': 1388, 'outside': 1229, 'target': 1740, 'south': 1637, 'basic': 186, 'hit': 851, 'someone': 1629, 's': 1497, 'living': 1015, 'own': 1230, '2': 16, 'local': 1019, 'issue': 940, 'around': 143, 're': 1407, 'offering': 1193, 'free': 723, 'nationwide': 1145, 'anyone': 124, 'plus': 1305, 'half': 806, 'completely': 376, 'calling': 262, 'idiot': 886, 'lol': 1025, 'never': 1159, 'thought': 1772, 'id': 884, '2019': 19, 'come': 361, 'back': 176, 'stoppanicbuying': 1687, 'restriction': 1470, 'run': 1491, 'cannabis': 272, 'yet': 1992, 'stocking': 1681, 'weekend': 1932, 'coming': 362, 'day': 476, 'seeing': 1539, 'epidemic': 605, 'fear': 667, 'medicine': 1089, 'cure': 457, 'remain': 1445, 'emergency': 589, 'socialdistancing': 1624, 'why': 1949, 'water': 1922, 'utility': 1871, 'shut': 1592, 'middle': 1099, 'close': 344, 'lose': 1033, 'afford': 73, 'worth': 1977, 'dear': 482, 'ive': 944, 'following': 708, 'social': 1622, 'distancing': 524, 'rule': 1490, 'staying': 1671, 'prevent': 1340, 'spent': 1644, 'amount': 112, 'across': 50, 'several': 1563, 'pressure': 1338, 'continued': 392, 'well': 1936, 'negative': 1153, 'great': 782, 'bekind': 206, 'important': 897, 'youre': 1996, 'afraid': 75, 'worst': 1976, 'wash': 1914, 'yall': 1987, 'crazy': 443, 'clerk': 340, 'looked': 1031, 'eye': 646, 'front': 729, 'responder': 1463, 'working': 1970, 'hard': 816, 'serve': 1559, 'entire': 603, 'shop': 1582, 'facing': 652, 'challenge': 305, 'near': 1147, 'future': 742, 'many': 1067, 'lost': 1036, 'corner': 403, 'scammer': 1524, 'taking': 1737, 'advantage': 66, 'cdc': 297, 'flu': 704, 'alert': 92, '4': 29, 'both': 231, 'mask': 1074, 'made': 1048, 'medical': 1087, 'personnel': 1273, 'material': 1077, 'called': 261, 'making': 1057, 'safety': 1503, 'feeling': 674, 'still': 1677, 'ship': 1578, 'care': 281, 'package': 1235, 'loved': 1039, 'told': 1792, 'changed': 309, 'daily': 467, 'bought': 234, 'house': 867, 'facebook': 649, 'group': 792, 'increasing': 905, 'totally': 1802, 'spirit': 1646, 'covid19uk': 438, 'thinking': 1770, 'stockpile': 1682, 'hygiene': 883, 'yeah': 1988, 'thats': 1764, 'when': 1942, 'really': 1416, 'necessary': 1149, 'mum': 1136, 'live': 1014, '3': 27, 'hope': 860, 'kind': 960, 'word': 1965, 'make': 1055, 'sound': 1635, 'b': 174, 'necessity': 1150, 'nothing': 1180, 'hi': 840, 'thanks': 1762, 'coronavirusupdates': 416, 'student': 1701, 'loan': 1018, 'interest': 928, 'collection': 359, 'would': 1978, 'much': 1134, 'needed': 1152, 'immediate': 891, 'relief': 1443, 'individual': 910, 'economic': 575, 'hardship': 817, 'side': 1596, 'tech': 1746, 'already': 100, 'test': 1754, 'though': 1771, 'detail': 502, 'doesnt': 532, 'easily': 567, 'wage': 1897, 'either': 584, 'urge': 1862, 'support': 1715, 'bill': 216, 'includes': 900, 'meal': 1082, 'ceo': 302, 'show': 1590, 'saw': 1520, 'young': 1995, 'couple': 431, 'roll': 1486, 'tp': 1810, 'maybe': 1080, 'capacity': 276, 'surging': 1723, 'borisjohnson': 230, 'disgusting': 520, 'charging': 315, 'inflated': 915, 'item': 943, 'government': 777, 'something': 1630, 'retailer': 1473, 'physical': 1282, 'put': 1383, 'additional': 62, 'curbside': 456, 'pick': 1284, 'ecommerce': 574, 'digital': 511, 'folk': 706, 'idea': 885, 'la': 967, 'offer': 1191, 'special': 1641, 'senior': 1552, 'love': 1038, 'head': 821, 'happening': 813, 'wont': 1963, 'spend': 1642, 'common': 368, 'sense': 1553, 'letter': 996, 'holding': 856, 'organization': 1222, 'others': 1224, 'household': 868, 'debt': 484, 'response': 1465, 'sign': 1597, 'wanted': 1907, 'older': 1203, 'australian': 163, 'mobile': 1112, 'doe': 531, 'heard': 827, 'low': 1040, 'blow': 223, 'mind': 1105, 'stupid': 1704, 'plan': 1292, 'such': 1705, 'bread': 237, 'worry': 1974, '1': 1, 'n': 1139, 'bean': 193, 'got': 774, 'marketing': 1073, 'budget': 248, 'hiring': 849, 'frozen': 731, 'distillery': 525, 'remains': 1446, 'operation': 1214, 'public': 1376, 'hoard': 852, 'absolutely': 46, 'chain': 304, 'sanitizing': 1515, 'probably': 1348, 'canned': 273, 'chemical': 320, 'sanitizers': 1514, 'fruit': 732, 'vegetable': 1878, 'fully': 738, 'stocked': 1680, 'human': 875, 'immune': 893, 'dad': 466, '70': 38, 'offered': 1192, 'might': 1100, 'forget': 716, 'always': 104, 'easy': 570, 'useful': 1867, 'trolley': 1825, '2020': 20, 'picture': 1287, 'often': 1197, 'major': 1053, 'criminal': 448, 'try': 1833, 'guidance': 799, 'attorney': 160, 'general': 752, 'office': 1194, 'sure': 1718, 'within': 1957, 'dry': 558, 'possibly': 1318, 'form': 717, 'rationing': 1406, 'eat': 571, 'frontline': 730, 'extreme': 644, 'moving': 1131, 'gt': 796, 'focus': 705, 'best': 209, 'opportunity': 1217, 'reduce': 1428, 'key': 956, 'kroger': 966, 'biggest': 215, 'employee': 590, 'receive': 1419, 'leave': 990, 'even': 615, 'paid': 1238, 'instead': 925, 'providing': 1374, 'quarantine': 1386, 'protect': 1364, 'especially': 608, 'little': 1013, 'testing': 1756, 'few': 678, 'ago': 80, 'took': 1797, 'flour': 703, 'potato': 1323, 'towel': 1808, 'meat': 1086, 'panicbuying': 1243, 'buyer': 256, 'coronavirusuk': 414, 'anxiety': 122, 'panicbuyinguk': 1244, 'moron': 1121, 'rapid': 1401, 'slot': 1614, 'fine': 691, 'email': 588, 'bottle': 232, 'getting': 756, 'short': 1585, 'safely': 1501, 'risk': 1482, 'spreading': 1652, '6': 35, 'washing': 1915, 'recession': 1423, 'three': 1776, 'damage': 469, 'main': 1051, 'street': 1695, 'ongoing': 1205, 'recovery': 1426, 'credit': 447, 'second': 1534, 'shock': 1581, 'later': 976, 'finally': 686, 'end': 594, 'surgical': 1722, 'supposed': 1717, 'real': 1412, 'petition': 1276, 'move': 1128, 'bar': 182, 'update': 1859, 'drive': 550, 'model': 1113, 'early': 565, 'include': 899, 'club': 349, 'trying': 1834, 'opening': 1213, 'each': 563, 'ton': 1794, 'greedy': 785, 'chance': 307, 'transmission': 1817, 'guide': 800, '20': 17, 'largest': 973, 'handling': 809, '60': 36, 'policy': 1311, 'location': 1020, 'precaution': 1332, 'light': 1000, 'changing': 310, 'effort': 582, 'management': 1062, 'causing': 296, 'unnecessary': 1857, 'problem': 1349, 'rice': 1476, 'year': 1989, 'panicshopping': 1245, 'caused': 295, 'date': 474, 'hoarder': 853, 'congress': 382, 'temporarily': 1750, 'currently': 460, 'anyway': 126, 'read': 1409, 'floor': 701, 'fighting': 681, 'financial': 688, 'federal': 670, 'most': 1124, 'very': 1881, 'poor': 1312, 'refund': 1432, 'population': 1314, 'clear': 338, 'handle': 808, 'surge': 1721, 'related': 1440, 'daughter': 475, 'friend': 728, 'act': 51, 'stand': 1656, 'woman': 1959, '5': 32, 'box': 235, 'isolating': 938, 'agreed': 82, 'call': 260, 'walking': 1904, 'responsible': 1466, 'shit': 1580, 'available': 167, 'ny': 1187, 'aware': 171, 'scam': 1523, 'medium': 1090, 'text': 1758, 'website': 1929, 'visit': 1888, 'youll': 1994, 'able': 44, 'tell': 1748, 'movement': 1129, 'respect': 1461, 'least': 989, 'll': 1016, 'notice': 1181, 'supporting': 1716, 'industry': 912, 'trump': 1831, 'cut': 463, 'security': 1537, 'benefit': 208, 'condition': 379, 'concern': 377, 'tough': 1805, 'remember': 1447, 'option': 1218, 'want': 1906, 'appreciate': 134, 'limit': 1003, 'lack': 969, 'push': 1381, 'towards': 1807, 'pickup': 1286, 'charge': 313, 'per': 1266, 'cart': 285, 'happy': 815, 'm': 1045, 'o': 1189, 'd': 465, 'y': 1986, 'small': 1617, 'ordering': 1221, 'hoarding': 854, 'creating': 446, 'pricegouging': 1343, 'personal': 1272, 'info': 917, 'avoid': 169, 'source': 1636, 'attack': 157, 'queue': 1391, 'gun': 802, 'scared': 1525, 'happen': 811, 'centre': 301, 'based': 185, 'asking': 152, 'app': 130, 'won': 1960, 'toiletpaper': 1788, 'bad': 177, 'habit': 805, 'definitely': 491, 'wearing': 1926, 'nobody': 1170, 'leader': 984, 'struggle': 1698, 'imagine': 890, '7': 37, 'wake': 1901, 'european': 614, 'ordered': 1220, 'wonder': 1961, 'ration': 1405, 'past': 1257, 'start': 1661, 'catch': 290, 'saving': 1519, 'delayed': 493, 'car': 279, 'transport': 1818, 'hell': 831, 'apparently': 131, 'worked': 1967, 'wipe': 1955, 'hearing': 828, 'national': 1144, 'wednesday': 1930, 'believe': 207, 'feed': 672, 'long': 1027, 'pasta': 1258, 'win': 1952, 'game': 745, 'difference': 508, 'control': 397, 'realdonaldtrump': 1413, 'actually': 56, 'soap': 1620, 'enter': 600, 'unfortunately': 1851, 'hungry': 880, 'staysafe': 1672, 'stockup': 1684, 'grow': 793, 'survive': 1727, 'apocalypse': 129, '8': 39, '9': 41, 'announcement': 118, 'add': 59, 'hire': 848, 'sanitiser': 1510, 'leaving': 991, 'rest': 1467, 'nearly': 1148, '80': 40, 'old': 1202, 'person': 1271, 'encourage': 593, 'city': 331, 'killing': 959, 'selling': 1549, 'survival': 1726, 'almost': 97, '200': 18, 'room': 1487, 'corporate': 418, 'america': 107, 'turning': 1838, 'return': 1474, 'night': 1167, 'gov': 776, 'thread': 1774, 'distance': 523, 'driver': 552, 'position': 1315, 'actual': 55, 'together': 1786, 'panicbuyers': 1242, 'various': 1875, 'send': 1550, 'freeze': 724, 'seems': 1542, 'sold': 1626, 'although': 103, 'stockpiling': 1683, 'silver': 1600, 'havent': 819, 'mine': 1106, 'kill': 958, 'mass': 1075, 'isnt': 936, 'contracting': 396, 'milk': 1102, 'cat': 289, 'treat': 1820, 'god': 766, 'save': 1518, 'chicago': 321, 'affair': 69, 'measure': 1085, 'impacted': 895, 'fill': 684, 'survey': 1725, 'telling': 1749, 'american': 108, 'change': 308, 'taken': 1735, 'saturday': 1516, 'black': 220, 'beauty': 195, 'colleague': 357, 'running': 1492, 'washington': 1916, 'st': 1654, 'coronavirusupdate': 415, 'ask': 150, 'rate': 1403, 'oil': 1199, 'coronavirusindia': 410, 'provides': 1373, 'provided': 1371, 'north': 1176, 'guess': 798, 'press': 1337, 'step': 1674, 'google': 772, 'build': 249, 'hr': 872, 'contain': 389, 'considering': 385, 'given': 760, '17': 12, '18': 13, 'meeting': 1092, 'likely': 1002, 'forward': 718, 'stuck': 1700, 'indoors': 911, 'decided': 485, 'wasnt': 1918, 'kept': 955, 'flight': 700, 'meanwhile': 1084, 'announces': 119, 'fund': 740, 'including': 901, 'apply': 133, 'become': 196, 'private': 1347, 'sector': 1536, 'access': 47, 'turn': 1836, 'cnn': 350, 'coronaviruspandemic': 413, 'critical': 450, 'multiple': 1135, 'citizen': 330, 'warning': 1912, 'late': 975, 'drop': 554, 'latest': 977, 'auto': 165, 'banking': 181, 'article': 146, 'ministry': 1109, 'domestic': 535, 'trade': 1813, 'warned': 1911, 'fake': 657, 'becoming': 197, 'starting': 1663, 'nose': 1177, 'drink': 549, 'usual': 1869, 'recipe': 1424, 'regarding': 1434, 'away': 173, 'chief': 323, 'officer': 1195, 'fee': 671, 'boost': 227, 'pantry': 1246, 'sad': 1499, 'hotel': 865, 'vendor': 1879, 'level': 997, 'france': 721, 'fashion': 664, 'outlook': 1227, 'revenue': 1475, 'instore': 926, 'every': 618, 'fucking': 735, 'worse': 1975, 'canada': 267, 'section': 1535, 'youtube': 1997, 'infection': 914, 'space': 1638, 'shall': 1565, 'sudden': 1706, 'nice': 1164, 'pay': 1261, 'lead': 983, 'guard': 797, 'shame': 1566, 'leading': 986, 'looking': 1032, 'toward': 1806, 'growth': 795, 'question': 1390, 'happens': 814, 'plant': 1294, 'shutdown': 1593, 'beat': 194, 'big': 214, 'code': 352, 'sunday': 1709, '15': 10, 'spring': 1653, 'begin': 201, 'asda': 147, 'tesco': 1753, 'morrison': 1122, 'sainsburys': 1505, 'minimum': 1107, 'basket': 187, '40': 30, 'wish': 1956, 'air': 86, 'dealing': 481, 'florida': 702, 'hospital': 862, 'along': 99, 'seem': 1541, 'announced': 117, 'place': 1291, 'gathering': 748, 'behaviour': 204, 'war': 1908, 'threat': 1775, 'true': 1829, 'stress': 1696, 'standard': 1657, 'veg': 1877, 'coffee': 353, 'difficult': 510, 'huge': 874, 'strong': 1697, 'unprecedented': 1858, 'novel': 1183, 'agriculture': 83, 'theyve': 1767, 'summer': 1708, 'child': 324, 'bet': 210, 'learn': 987, 'danger': 471, 'tonight': 1795, 'president': 1336, 'allowed': 95, 'trip': 1824, 'pharmacy': 1279, 'fraud': 722, 'information': 918, 'commission': 366, 'finding': 690, 'vulnerable': 1894, 'crowd': 451, '50': 33, 'costco': 421, 'member': 1093, 'youve': 1998, 'prepared': 1334, 'enjoy': 597, 'everyday': 620, 'allow': 94, 'beyond': 213, 'humanity': 876, 'planning': 1293, 'insurance': 927, 'hello': 832, 'brother': 246, 'sister': 1606, 'effect': 580, 'commerce': 364, 'started': 1662, 'commodity': 367, 'allowing': 96, 'dying': 561, 'alone': 98, 'deserve': 500, 'else': 587, 'limiting': 1005, 'giant': 757, 'adding': 61, '100000': 5, 'patient': 1259, 'grab': 780, 'r': 1396, 'partner': 1253, 'carrier': 283, 'hiking': 847, 'ebay': 573, 'ridiculous': 1478, 'workforce': 1969, 'manager': 1063, 'tracking': 1812, 'blog': 222, 'friday': 727, 'kit': 962, 'pm': 1306, 'research': 1457, 'authority': 164, 'slow': 1615, 'disease': 519, 'facemask': 650, 'catching': 291, 'proper': 1362, 'gallon': 744, 'egg': 583, 'reading': 1410, 'hopefully': 861, 'course': 432, 'san': 1508, 'london': 1026, 'april': 138, 'tuesday': 1835, 'doctor': 530, 'apple': 132, 'greater': 783, 'ticket': 1780, 'society': 1625, 'large': 972, 'effective': 581, 'protective': 1368, 'takeout': 1736, 'europe': 613, 'guideline': 801, 'seriously': 1558, 'cancel': 269, 'issued': 941, 'released': 1442, 'view': 1885, 'italy': 942, 'created': 445, 'face': 648, 'extremely': 645, 'ventilator': 1880, 'losing': 1034, 'income': 902, 'excessive': 626, 'station': 1666, '90': 42, 'medication': 1088, 'ground': 791, 'hear': 826, 'listen': 1010, 'absolute': 45, 'chaos': 312, 'till': 1781, 'quick': 1393, 'answer': 121, 'limited': 1004, 'isolate': 937, 'postal': 1320, 'throughout': 1777, 'type': 1843, 'piling': 1290, 'stopped': 1688, 'loo': 1029, 'walk': 1902, 'mom': 1114, 'watching': 1921, 'playing': 1299, 'selfisolation': 1546, 'scene': 1527, 'bus': 252, 'e': 562, 'combat': 360, 'rapidly': 1402, 'uncertain': 1847, 'sell': 1547, 'wholesale': 1948, 'helping': 836, 'strategy': 1694, 'campaign': 265, 'fall': 658, 'energy': 595, 'natural': 1146, 'gas': 746, 'production': 1355, 'shift': 1576, 'fuel': 736, 'power': 1326, 'welcome': 1935, 'stophoarding': 1686, 'perhaps': 1269, 'period': 1270, 'trading': 1815, 'tomorrow': 1793, 'owner': 1231, 'factory': 654, 'holiday': 857, 'quarantined': 1387, '14': 9, 'post': 1319, 'wine': 1954, 'tissue': 1784, 'download': 546, 'agency': 79, 'shared': 1568, 'reach': 1408, 'smart': 1618, 'mother': 1126, 'infected': 913, 'interview': 932, 'lock': 1021, 'peak': 1264, 'guy': 803, 'address': 63, 'plenty': 1301, 'supplier': 1712, 'bulk': 251, 'texas': 1757, 'nurse': 1186, 'prevention': 1341, 'better': 211, 'cover': 433, 'mouth': 1127, 'crowded': 452, 'meter': 1097, 'homemade': 859, 'pls': 1302, 'pharmacist': 1278, '45': 31, 'lie': 998, 'despite': 501, 'opec': 1210, 'affect': 70, 'sharp': 1570, 'lower': 1041, 'stick': 1676, 'figure': 682, 'spending': 1643, 'pattern': 1260, 'asset': 153, 'perspective': 1274, 'takeaway': 1734, 'border': 228, 'mortgage': 1123, 'treatment': 1821, 'follow': 707, 'fuck': 734, 'inflation': 916, 'consumption': 387, 'growing': 794, 'uncertainty': 1848, 'reduced': 1429, 'restock': 1469, 'sanitize': 1512, 'billion': 217, 'activity': 54, 'spot': 1649, 'baby': 175, 'severe': 1564, 'wow': 1980, 'standing': 1658, 'hey': 839, 'keeping': 954, 'lady': 970, 'asshole': 154, 'nonessential': 1173, 'hub': 873, 'york': 1993, 'produce': 1351, 'toronto': 1800, 'export': 639, 'profit': 1358, 'vaccine': 1873, 'drug': 557, 'pas': 1255, 'deadly': 479, 'term': 1752, 'driven': 551, 'tax': 1742, 'sitting': 1608, 'internet': 931, 'traffic': 1816, 'raise': 1397, 'tool': 1798, 'remote': 1449, 'bitcoin': 219, 'falling': 659, 'technology': 1747, 'anywhere': 127, 'pmoindia': 1307, 'bring': 242, 'hold': 855, '23': 23, 'town': 1809, 'waste': 1919, 'heading': 822, 'dog': 533, 'shouldnt': 1588, 'hazard': 820, 'carry': 284, 'communication': 369, 'except': 625, 'ahead': 84, 'wave': 1923, 'donate': 537, 'behind': 205, 'asked': 151, 'recently': 1422, 'season': 1533, 'provider': 1372, 'seek': 1540, 'attention': 158, 'highly': 844, 'kindly': 961, 'earth': 566, 'request': 1455, 'practice': 1329, 't': 1731, 'required': 1456, 'fast': 665, '22': 22, 'wear': 1925, 'glove': 764, 'gouging': 775, 'name': 1141, 'message': 1096, 'affected': 71, 'de': 477, 'greed': 784, 'death': 483, 'rich': 1477, 'bare': 183, 'client': 342, 'reporting': 1454, 'ever': 617, 'rely': 1444, 'data': 473, 'felt': 677, 'card': 280, 'touching': 1804, 'age': 78, 'role': 1485, 'pushing': 1382, 'animal': 116, 'farm': 662, 'stopstockpiling': 1689, 'waiting': 1899, 'launch': 979, 'series': 1556, 'entertainment': 602, 'non': 1171, 'field': 679, 'healthcare': 824, 'fire': 692, 'crude': 453, 'responding': 1464, 'paying': 1262, 'economics': 576, 'million': 1103, 'practicing': 1330, 'sweep': 1728, 'putting': 1384, 'soar': 1621, 'toiletpaperpanic': 1791, 'indian': 909, 'bay': 189, 'bag': 178, 'shelter': 1573, 'total': 1801, 'thousand': 1773, 'fellow': 676, 'okay': 1201, 'approved': 136, 'weekly': 1933, 'quite': 1395, 'risking': 1483, 'contract': 395, 'dollar': 534, 'recent': 1421, 'chicken': 322, 'device': 504, 'site': 1607, 'trust': 1832, 'law': 981, 'highlight': 843, '30': 28, 'part': 1251, 'f': 647, 'prime': 1345, 'another': 120, 'piece': 1288, 'tv': 1839, 'happened': 812, 'received': 1420, 'glad': 762, 'managed': 1061, 'delivered': 495, 'governor': 778, 'husband': 882, 'unless': 1856, 'curfew': 458, 'resident': 1459, 'oh': 1198, 'min': 1104, 'wtf': 1983, 'dairy': 468, 'shes': 1575, 'cancellation': 270, 'managing': 1064, 'vote': 1892, 'gave': 749, 'minute': 1110, 'surrounding': 1724, 'dropped': 555, 'barrel': 184, 'amidst': 110, 'saudi': 1517, 'arabia': 139, 'trader': 1814, 'cleaner': 336, 'disinfectant': 521, 'corporation': 419, 'miss': 1111, 'loss': 1035, 'temporary': 1751, 'walked': 1903, 'mile': 1101, 'staple': 1659, 'meet': 1091, 'luxury': 1043, 'watch': 1920, 'expected': 633, 'gop': 773, 'showing': 1591, 'visiting': 1889, 'weather': 1927, 'storm': 1691, 'solution': 1627, 'claim': 333, 'hero': 838, 'michigan': 1098, 'sentiment': 1555, 'index': 907, 'decline': 487, 'donation': 540, 'hurt': 881, '11': 6, 'madness': 1049, 'bbcnews': 191, 'book': 226, 'fixed': 698, 'cent': 298, 'fell': 675, 'decrease': 488, 'aldi': 90, 'ftc': 733, 'fda': 666, 'immediately': 892, 'expert': 637, 'supplychain': 1714, 'seller': 1548, 'distribution': 527, 'brought': 247, 'forever': 715, 'tried': 1823, 'ag': 77, 'purchasing': 1380, 'minister': 1108, 'waitrose': 1900, 'launched': 980, 'simply': 1602, 'continuing': 394, 'january': 945, 'different': 509, 'shifting': 1577, 'history': 850, '24': 24, 'bottom': 233, 'popular': 1313, 'gold': 768, 'investor': 935, 'worldwide': 1972, 'shipping': 1579, 'estate': 610, 'realestate': 1414, 'diy': 528, 'groceryshopping': 789, 'grocerystore': 790, 'grocer': 787, 'thankyou': 1763, 'thankful': 1761, 'availability': 166, 'extended': 642, 'break': 238, 'sir': 1605, 'voucher': 1893, 'passed': 1256, 'spain': 1639, 'nj': 1168, 'farmer': 663, 'trucker': 1828, 'cooking': 400, 'episode': 606, 'filling': 685, 'giving': 761, 'joke': 950, 'moment': 1115, 'rather': 1404, 'curb': 455, 'whilst': 1945, 'reasonable': 1418, 'california': 259, 'busy': 254, 'cook': 399, 'coronavirususa': 417, 'mad': 1047, 'acting': 52, 'dead': 478, 'reality': 1415, 'complete': 375, 'wondering': 1962, 'register': 1436, 'none': 1172, 'kitchen': 963, 'boris': 229, 'reason': 1417, 'everybody': 619, 'ur': 1861, 'choice': 328, 'bit': 218, 'suffering': 1707, 'alcohol': 89, 'university': 1855, 'understand': 1849, 'son': 1631, 'thru': 1778, 'damn': 470, 'continues': 393, 'sending': 1551, 'lab': 968, 'dr': 548, 'sa': 1498, 'pricing': 1344, 'discount': 517, 'channel': 311, 'program': 1360, 'rt': 1489, 'caught': 293, 'eu': 612, 'shout': 1589, 'cole': 355, 'w': 1895, 'unemployment': 1850, 'truck': 1827, 'stepping': 1675, 'couldnt': 426, 'driving': 553, 'double': 544, '1st': 15, 'don': 536, 'disaster': 516, 'forecast': 714, 'asian': 149, 'machine': 1046, 'learning': 988, 'network': 1158, 'chinesevirus': 327, 'johnson': 948, 'operator': 1215, 'gear': 750, 'sent': 1554, 'pic': 1283, 'surface': 1720, 'concerned': 378, 'ppl': 1328, '000': 0, 'climate': 343, 'govt': 779, 'forced': 712, 'literally': 1011, 'agree': 81, 'germany': 754, 'victim': 1883, 'grateful': 781, 'arrested': 144, 'road': 1484, 'platform': 1296, 'proud': 1369, 'tweet': 1840, 'co': 351, 'logistics': 1024, 'queuing': 1392, 'counter': 428, 'commercial': 365, 'reserve': 1458, 'wouldnt': 1979, 'volunteer': 1891, 'coronacrisis': 405, 'shutting': 1594, 'education': 579, 'canadian': 268, 'washyourhands': 1917, 'affordable': 74, 'building': 250, 'simple': 1601, 'russian': 1496, 'category': 292, 'mostly': 1125, 'foot': 710, 'laid': 971, 'matter': 1078, 'apps': 137, 'wuhan': 1984, 'assistance': 155, 'scary': 1526, 'civil': 332, 'expensive': 634, 'thursday': 1779, 'union': 1852, 'join': 949, 'opened': 1212, 'sky': 1611, 'central': 300, 'dropping': 556, 'litre': 1012, 'lowest': 1042, 'protecting': 1366, 'speak': 1640, 'experiencing': 636, 'advertising': 67, 'reminder': 1448, 'teacher': 1743, 'beware': 212, 'charity': 316, 'party': 1254, 'six': 1610, 'straight': 1693, 'lesson': 994, 'council': 427, 'pump': 1378, 'rent': 1450, 'british': 245, 'beer': 199, 'among': 111, 'dozen': 547, 'leadership': 985, 'fix': 697, 'africa': 76, 'maintain': 1052, 'virtual': 1886, 'example': 624, 'inside': 923, 'added': 60, 'average': 168, 'ban': 179, 'wrong': 1982, 'five': 696, 'jump': 951, 'urgent': 1863, '500': 34, 'professional': 1356, 'enforcement': 596, 'scientist': 1530, 'lysol': 1044, 'coughed': 423, 'warehouse': 1909, 'pet': 1275, 'liquor': 1008, 'project': 1361, 'aldiuk': 91, 'super': 1710, 'pakistan': 1239, 'profiteering': 1359, 'capital': 277, 'stimulus': 1678, 'nh': 1163, 'discus': 518, 'helped': 834, 'executive': 628, 'director': 514, 'official': 1196, 'touch': 1803, 'cope': 402, 'charged': 314, 've': 1876, 'gift': 758, 'neighbor': 1154, 'earlier': 564, 'fish': 695, 'writes': 1981, 'facility': 651, 'weird': 1934, 'mail': 1050, 'certain': 303, 'housing': 869, 'sanitisers': 1511, 'green': 786, 'respond': 1462, 'inventory': 933, 'laugh': 978, 'four': 720, 'round': 1488, 'heart': 829, 'direct': 512, 'content': 390, 'fed': 669, '25': 25, 'rush': 1494, 'helpful': 835, 'gain': 743, 'investment': 934, 'force': 711, 'brilliant': 241, 'crash': 442, 'record': 1425, 'india': 908, 'tackle': 1732, 'electricity': 586, 'significantly': 1599, 'excuse': 627, 'rising': 1481, 'entering': 601, 'podcast': 1308, 'informed': 919, 'zero': 1999, 'park': 1249, 'disruption': 522, 'c': 258, 'turned': 1837, 'mark': 1070, 'died': 507, 'comment': 363, 'hike': 845, 'red': 1427, 'window': 1953, 'explains': 638, 'prepare': 1333, 'plunge': 1304, 'manufacturer': 1065, 'pray': 1331, 'cool': 401, 'piersmorgan': 1289, 'pub': 1375, 'vital': 1890, 'player': 1298, 'picking': 1285, '99': 43, 'firm': 693, 'value': 1874, 'v': 1872, 'session': 1561, 'hospitality': 863, 'rental': 1451, 'ad': 57, 'shelterinplace': 1574, 'clearly': 339, 'bbc': 190, 'noticed': 1182, 'handsanitizer': 810, 'refuse': 1433, 'apart': 128, 'present': 1335, 'approach': 135, 'directly': 513, 'sort': 1634, 'blame': 221, 'delivering': 496, 'reduction': 1431, 'doubled': 545, 'skyrocket': 1612, 'warns': 1913, 'cutting': 464, 'forcing': 713, 'administration': 64, 'compared': 372, 'packed': 1236, 'twitter': 1841, 'funny': 741, 'usually': 1870, 'knew': 964, 'track': 1811, 'toiletpaperapocalypse': 1789, 'east': 568, 'airline': 87, 'raising': 1399, 'competition': 373, 'used': 1866, 'awareness': 172, 'cold': 354, 'manufacturing': 1066, 'parking': 1250, 'meme': 1094, 'potentially': 1325, 'covering': 434, 'humor': 877, 'curve': 461, 'ingredient': 920, 'impossible': 898, 'perfect': 1268, 'hundred': 878, 'surely': 1719, 'auspol': 161, 'interesting': 929, 'economist': 577, 'petrol': 1277, 'adapt': 58, 'otherwise': 1225, 'body': 224, 'sport': 1648, 'west': 1938, 'ocado': 1190, 'netflix': 1157, 'n95': 1140, 'trouble': 1826, 'delay': 492, 'spike': 1645, 'aid': 85, 'p': 1232, 'producer': 1352, 'unit': 1853, 'range': 1400, 'maker': 1056, 'ontario': 1209, 'attitude': 159, 'cry': 454, 'dangerous': 472, 'regulation': 1439, 'hiked': 846, 'church': 329, 'convenience': 398, 'webinar': 1928, 'considered': 384, 'art': 145, 'battle': 188, 'coronaviruschallenge': 409, 'men': 1095, 'pa': 1233, 'began': 200, 'spoke': 1647, 'flattenthecurve': 699, 'posted': 1321, 'illegal': 888, 'slash': 1613, 'careful': 282, 'quality': 1385, 'nigeria': 1165, 'international': 930, 'initiative': 921, 'protected': 1365, 'equipment': 607, 'independent': 906, 'ppe': 1327, 'failed': 655, 'music': 1137, 'marketer': 1072, 'plastic': 1295, 'search': 1532, 'screen': 1531, 'raised': 1398, 'star': 1660, 'analysis': 114, 'output': 1228, 'gel': 751, 'narendramodi': 1142, 'germ': 753, 'britain': 244, 'mar': 1068, 'bonus': 225, 'publix': 1377, 'safer': 1502, 'hot': 864, '1000': 4, 'warn': 1910, '27': 26, 'producing': 1353, 'exorbitant': 630, 'february': 668, 'army': 142, 'mr': 1132, 'professor': 1357, 'easter': 569, 'rural': 1493, 'x': 1985, 'developed': 503, '21': 21, 'staysafestayhome': 1673, 'japan': 946, 'asia': 148, 'innovation': 922, 'truly': 1830, 'sanitation': 1509, 'tear': 1745, 'property': 1363, 'opinion': 1216, 'briefing': 240, 'task': 1741, 'regularly': 1438, 'science': 1529, 'plummet': 1303, 'analyst': 115, 'gasoline': 747, 'collect': 358, 'distribute': 526, 'held': 830, 'led': 992, 'exercise': 629, 'mrx': 1133, 'nigerian': 1166, 'lockdownuk': 1023, 'socialdistanacing': 1623, 'expectation': 632, 'covid19pandemic': 437, 'donated': 538, 'slowdown': 1616, 'dy': 560, 'stayhomesavelives': 1670, 'sharply': 1571, 'coronacrisisuk': 406, 'mckinsey': 1081, 'quaratinelife': 1389, 'covidiot': 440, 'covidiots': 441, 'coronaviruslockdown': 411}\n"
          ]
        },
        {
          "output_type": "execute_result",
          "data": {
            "text/plain": [
              "2000"
            ]
          },
          "metadata": {},
          "execution_count": 134
        }
      ]
    },
    {
      "cell_type": "code",
      "source": [
        "## Test data for lemmatization\n",
        "\n",
        "# Copy the test df\n",
        "lemma_test_data = test_data.copy()\n",
        "\n",
        "lemma_test_data['tokens'] = lemma_test_data['OriginalTweet'].str.split()\n",
        "pattern = 'https://'\n",
        "for row in lemma_test_data['tokens']:\n",
        "  for item in row:\n",
        "      new_item = re.match(pattern, item)\n",
        "      if new_item is not None:\n",
        "        row.remove(item)\n",
        "\n",
        "new_tokens = []\n",
        "\n",
        "for row in lemma_test_data['tokens']:\n",
        "  new_row = []\n",
        "  for item in row:\n",
        "    new_item = item.lower()\n",
        "    new_item = re.sub('[^a-z0-9]*', '', new_item)\n",
        "    new_row.append(new_item)\n",
        "  new_tokens.append(new_row)\n",
        "\n",
        "lemma_test_data['aphanumeric_token'] = new_tokens\n",
        "\n",
        "\n",
        "\n",
        "\n",
        "lemmatizer = WordNetLemmatizer()\n",
        "\n",
        "lemma_tokens = []\n",
        "\n",
        "for row in lemma_test_data['aphanumeric_token']:\n",
        "  lemma_row = []\n",
        "  for item in row:\n",
        "    lemma_token = lemmatizer.lemmatize(item)\n",
        "    lemma_row.append(lemma_token)\n",
        "  lemma_tokens.append(lemma_row)\n",
        "\n",
        "lemma_test_data['lemma_tokens'] = lemma_tokens\n",
        "\n",
        "\n",
        "\n",
        "# print the top 75 most popular english words\n",
        "nltk.download('stopwords')\n",
        "sw = stopwords.words('english')[:100]\n",
        "\n",
        "new_tokens = []\n",
        "for row in lemma_test_data['stemmed_tokens']:\n",
        "  new_row = []\n",
        "  for item in row:\n",
        "    if item not in sw:\n",
        "      new_row.append(item)\n",
        "  new_tokens.append(new_row)\n",
        "\n",
        "lemma_test_data['tokens_no_sw'] = new_tokens\n",
        "\n",
        "X, y = lemma_test_data['tokens_no_sw'].to_numpy(), lemma_test_data['Sentiment'].to_numpy()\n",
        "\n",
        "lemma_tfidf_test_vec = TfidfVectorizer(\n",
        "    analyzer='word',\n",
        "    tokenizer= override_fcn,\n",
        "    preprocessor= override_fcn,\n",
        "    token_pattern= None,\n",
        "    max_features = 2000)\n",
        "\n",
        "lemma_tfidf_test = lemma_tfidf_test_vec.fit_transform(X)\n",
        "print(lemma_tfidf_test.toarray())\n",
        "\n",
        "print(lemma_tfidf_test_vec.vocabulary_)\n",
        "len(lemma_tfidf_test_vec.vocabulary_)\n",
        "\n"
      ],
      "metadata": {
        "colab": {
          "base_uri": "https://localhost:8080/"
        },
        "id": "eaDcRJQyV6b8",
        "outputId": "8e19921f-057f-4ced-86ce-e5e1d75595c8"
      },
      "execution_count": 135,
      "outputs": [
        {
          "output_type": "stream",
          "name": "stdout",
          "text": [
            "[nltk_data] Downloading package stopwords to /root/nltk_data...\n",
            "[nltk_data]   Package stopwords is already up-to-date!\n",
            "[[0.         0.         0.         ... 0.         0.         0.        ]\n",
            " [0.         0.         0.         ... 0.         0.         0.        ]\n",
            " [0.21888581 0.         0.         ... 0.         0.         0.        ]\n",
            " ...\n",
            " [0.         0.         0.         ... 0.         0.         0.        ]\n",
            " [0.14085384 0.         0.         ... 0.         0.         0.        ]\n",
            " [0.         0.         0.         ... 0.         0.         0.        ]]\n",
            "{'trend': 1825, 'new': 1174, 'empti': 607, 'supermarket': 1717, 'shelv': 1582, 'pictur': 1306, 'wegman': 1926, 'brooklyn': 261, 'onlin': 1227, 'grocer': 805, 'shopper': 1591, 'stock': 1689, 'when': 1938, 'couldnt': 435, 'find': 705, 'hand': 829, 'sanit': 1524, 'turn': 1839, 'amazon': 105, '2': 17, 'pack': 1252, 'how': 885, 'coronaviru': 415, 'concern': 387, 'drive': 569, 'price': 1366, 'can': 285, 'protect': 1383, 'love': 1052, 'one': 1224, '': 0, 'panic': 1260, 'buy': 276, 'hit': 866, 'newyork': 1176, 'citi': 342, 'anxiou': 126, 'suppli': 1718, 'healthcar': 845, 'worker': 1964, '30': 30, 'becom': 200, '1st': 16, 'confirm': 392, 'patient': 1279, 'stage': 1667, 'event': 628, 'qanon': 1399, 'cdc': 307, 'toiletpap': 1791, 'coronavirusaustralia': 417, 'coronavirusupd': 428, 'covid19': 447, 'costco': 432, 'week': 1923, 'everyon': 634, 'babi': 177, 'milk': 1112, 'next': 1177, 'toilet': 1790, 'paper': 1266, 'rememb': 1457, 'last': 993, 'time': 1783, 'paid': 1256, 'regular': 1448, 'ga': 763, 'pump': 1394, 'go': 785, 'look': 1045, 'impact': 911, 'vote': 1895, 'age': 78, 'cant': 292, 'stop': 1692, 'without': 1955, 'surgic': 1724, 'mask': 1081, 'increas': 915, 'n95': 1149, 'more': 1132, 'than': 1758, 'amp': 114, 'cost': 431, 'twice': 1842, 'hi': 860, 'twitter': 1843, 'sell': 1561, 'live': 1032, 'ani': 116, 'exist': 644, 'like': 1020, 'sold': 1633, 'fuck': 755, 'everywher': 636, 'should': 1595, 'worri': 1967, 'no': 1183, 'use': 1870, 'soap': 1628, 'visit': 1891, 'pharmaci': 1299, 'bottl': 248, 'full': 757, 'sick': 1602, 'peopl': 1288, 'anyon': 128, 'few': 695, 'day': 489, 'went': 1932, 'normal': 1191, 'shop': 1589, 'night': 1179, 'greet': 804, 'so': 1627, 'special': 1652, 'tin': 1784, 'tomato': 1799, 'best': 215, 'qualiti': 1400, 'low': 1053, 'avail': 169, 'order': 1236, 'info': 928, 'whatsapp': 1937, 'tri': 1826, 'fake': 671, 'cheap': 323, 'let': 1012, 'defeat': 504, 'threat': 1774, 'collect': 367, 'coronavirusindia': 419, 'food': 721, 'germani': 774, 'due': 574, 'ha': 823, 'begun': 205, 'organ': 1237, 'left': 1008, 'behind': 208, 'call': 281, 'hamster': 827, 'german': 773, 'taken': 1738, 'way': 1918, 'stuff': 1707, 'cheek': 326, 'groceri': 806, 'store': 1695, 'all': 92, 'clean': 347, 'bought': 249, 'fear': 685, 'teacher': 1745, 'show': 1599, 'class': 346, 'make': 1069, 'now': 1199, 'just': 972, 'need': 1165, 'some': 1636, '100': 4, 'alcohol': 88, 'wish': 1952, 'luck': 1055, 'will': 1946, 'busi': 273, 'watch': 1915, 'elect': 600, 'return': 1486, 'brace': 251, 'outbreak': 1242, 'trump': 1833, 'head': 842, 'consum': 398, 'product': 1378, 'safeti': 1515, 'commiss': 374, 'not': 1194, 'provid': 1387, 'custom': 476, 'free': 737, 'seat': 1547, 'forc': 724, 'choos': 338, 'made': 1063, 'onli': 1226, 'airport': 86, 'counter': 438, 'thi': 1766, 'travel': 1822, 'right': 1494, 'measur': 1091, 'respect': 1475, 'restaur': 1480, 'hotel': 880, 'comment': 373, 'chain': 315, 'issu': 958, 'hygien': 897, 'stockpil': 1690, 'other': 1239, 'extra': 660, 'local': 1035, 'bank': 185, 'mani': 1074, 'famili': 674, 'dont': 559, 'luxuri': 1059, 'spend': 1655, 'beyond': 218, 'weekli': 1925, 'budget': 265, 'bit': 224, 'probabl': 1374, 'take': 1737, 'anoth': 120, 'month': 1130, 'may': 1086, 'recov': 1441, 'demand': 510, 'us': 1868, 'europ': 626, 'two': 1844, 'studi': 1706, 'hard': 835, 'surfac': 1722, 'affair': 73, 'keep': 973, 'share': 1578, 'start': 1671, 'panicshop': 1264, 'meanwhil': 1090, 'good': 791, 'facemask': 666, 'disinfect': 541, 'liquid': 1025, 'exorbit': 645, 'blockchain': 232, 'think': 1768, 'bitcoin': 226, 'come': 370, 'combat': 369, 'mind': 1114, 'transact': 1818, 'station': 1677, 'touch': 1808, 'everi': 631, 'control': 403, 'gold': 788, 'back': 178, 'veri': 1882, 'nice': 1178, 'warn': 1910, 'listen': 1028, 'money': 1128, 'recent': 1436, 'put': 1397, 'seller': 1562, 'cash': 300, 'super': 1716, 'inflat': 926, 'realiti': 1430, 'neither': 1170, 'nor': 1189, 'must': 1147, 'save': 1530, 'pleas': 1318, 'video': 1885, 'canada': 286, 'plung': 1323, 'crude': 467, 'fail': 670, 'reach': 1422, 'deal': 493, 'cut': 477, 'economi': 591, 'slow': 1619, 'becaus': 199, 'novel': 1198, 'base': 188, 'hire': 865, 'oil': 1217, 'alright': 99, 'yall': 1983, 'hope': 874, 'case': 299, 'took': 1804, 'precaut': 1351, 'water': 1916, 'deliv': 508, 'ive': 961, 'open': 1230, 'soon': 1640, 'coronavirususa': 429, 'covid': 446, 'usual': 1871, 'woolworth': 1961, 'fight': 698, 'aisl': 87, 'toiletpaperpan': 1795, 'whole': 1943, 'level': 1014, 'spread': 1662, 'pull': 1393, 'usa': 1869, 'today': 1788, 'pandemonium': 1259, 'viru': 1888, 'panicbuy': 1261, 'news': 1175, 'wait': 1901, 'quarantin': 1401, 'forget': 728, 'donat': 557, 'toiletri': 1796, 'help': 856, 'mean': 1089, 'get': 775, 'ahead': 81, 'befor': 203, 'crisi': 464, 'exposur': 657, 'social': 1629, 'say': 1532, 'govern': 797, 'unemploy': 1854, 'import': 912, 'phone': 1300, 'number': 1200, 'know': 985, 'doctor': 546, 'insur': 941, 'test': 1756, 'state': 1674, 'report': 1464, 'goug': 795, 'tip': 1786, 'pro': 1372, 'bring': 259, 'match': 1084, 'effect': 593, 'necessari': 1164, 'scare': 1536, 'american': 108, 'msm': 1142, 'crash': 458, 'russia': 1510, 'design': 515, 'end': 610, 'dollar': 552, 'global': 782, 'reserv': 1471, 'debt': 496, 'collaps': 366, 'led': 1007, 'high': 861, 'fed': 687, 'govt': 798, 'respond': 1477, 'got': 792, 'silver': 1605, 'yet': 1989, 'brexit': 257, 'gtgt': 814, 'begin': 204, 'wave': 1917, 'media': 1094, 'stori': 1696, 'bog': 236, 'roll': 1499, 'shortag': 1593, 'etc': 625, 'weve': 1935, 'still': 1687, 'poverti': 1344, 'worst': 1969, 'uk': 1848, 'aint': 83, 'gonna': 790, 'well': 1930, 'fellow': 692, 'cancel': 288, 'employe': 606, 'mayb': 1087, 'hr': 887, 'union': 1856, 'dure': 576, 'closur': 357, 'even': 627, 'actual': 60, 'wipe': 1950, 'corona': 409, 'part': 1271, '1': 2, 'whi': 1941, 'doe': 548, 'work': 1963, 'sarscov2': 1526, 'most': 1136, 'virus': 1889, 'link': 1024, 'thread': 1773, 'shame': 1577, 'folk': 719, 'person': 1295, 'care': 296, 'clear': 349, 'doesnt': 550, 'wont': 1960, 'theyr': 1764, 'tini': 1785, 'terrifi': 1754, 'senior': 1564, 'disabl': 532, 'shouldnt': 1596, 'includ': 913, 'realdonaldtrump': 1428, 'aid': 82, 'packag': 1253, 'check': 324, 'antibacteri': 123, 'transport': 1821, 'crowd': 466, 'list': 1027, 'goe': 787, 'far': 677, 'offic': 1212, 'everyth': 635, 'spray': 1661, 'isnt': 955, 'wrong': 1976, 'illeg': 906, 'email': 603, 'market': 1080, 'continu': 401, 'run': 1507, 'monday': 1127, 'wa': 1899, 'larg': 992, 'overnight': 1248, 'along': 97, 'scammer': 1534, 'advantag': 69, 'surround': 1726, 'here': 857, 'covid2019': 454, 'intern': 945, 'navig': 1158, 'export': 655, 'challeng': 316, 'rise': 1495, 'commod': 376, 'earn': 581, 'ppl': 1346, 'immedi': 909, 'process': 1376, 'refund': 1443, 'incom': 914, 'tax': 1743, 'credit': 462, 'child': 331, '2020': 21, 'meet': 1098, 'behavior': 206, 'instruct': 940, 'compani': 379, 'step': 1685, 'ensur': 616, 'stand': 1669, 'read': 1425, 'dip': 528, 'absolut': 51, 'noth': 1196, 'talk': 1739, 'saudi': 1529, 'calm': 282, 'hell': 854, 'plummet': 1322, 'fall': 672, 'saw': 1531, 'biggest': 220, 'drop': 572, 'sinc': 1608, 'war': 1908, 'major': 1068, 'react': 1423, 'close': 356, 'valu': 1875, 'recess': 1437, 'damag': 484, 'health': 844, '7': 42, 'morn': 1133, 'trade': 1814, 'halt': 826, 'border': 244, 'skyrocket': 1616, 'rent': 1460, 'lose': 1048, '50': 37, 'q': 1398, 'growth': 812, '4': 34, 'chang': 318, 'driven': 570, 'co': 361, 'press': 1362, 'confer': 390, 'york': 1991, 'releas': 1452, 'brand': 252, '6': 39, 'coronavirusoutbreak': 424, 'nyc': 1204, 'ignor': 904, 'offer': 1211, 'vaccin': 1874, 'there': 1762, 'current': 475, 'prescript': 1359, 'treat': 1823, 'cure': 473, 'diseas': 538, 'lucki': 1056, 'enough': 615, 'sit': 1611, 'home': 871, 'period': 1292, 'selfisol': 1559, 'consid': 396, 'trusselltrust': 1835, 'want': 1907, 'foodbank': 722, 'upon': 1862, 'themselv': 1761, 'avoid': 171, 'contract': 402, 'prep': 1355, 'self': 1557, 'unnecessari': 1860, 'gather': 767, 'employ': 605, 'wo': 1956, 'harm': 838, 'plan': 1314, 'gel': 769, 'believ': 211, 'see': 1553, 'tv': 1840, 'guy': 821, 'book': 239, 'ticket': 1781, 'holiday': 870, 'altern': 101, 'break': 255, 'offici': 1213, 'urg': 1865, 'resid': 1472, 'also': 100, 'suffer': 1713, 'ironi': 952, 'spot': 1660, 'alreadi': 98, 'record': 1440, 'declar': 500, 'chines': 335, 'big': 219, 'ass': 155, 'citizen': 343, 'rush': 1509, 'hold': 869, 'factori': 669, 'film': 702, '11': 6, 'worldwid': 1966, 'oper': 1231, 'confid': 391, 'forecast': 725, 'increasingli': 916, 'lower': 1054, 'sort': 1642, 'fiscal': 708, 'stimulu': 1688, 'great': 800, 'problem': 1375, '14': 10, 'interest': 944, 'rate': 1418, 'retail': 1484, 'ecommerc': 589, 'thought': 1771, 'medicin': 1097, 'essenti': 624, 'household': 884, 'pile': 1309, 'univers': 1858, 'ff': 696, 'ok': 1218, 'itali': 959, 'restrict': 1482, 'popul': 1334, 'abl': 50, 'told': 1797, 'stay': 1679, 'same': 1521, 'said': 1517, 'vigil': 1886, 'realli': 1432, 'lot': 1051, 'thing': 1767, 'happen': 833, 'readi': 1426, 'power': 1345, 'countri': 440, 'done': 558, 'regul': 1447, 'top': 1805, 'item': 960, 'ten': 1751, 'pantri': 1265, 'support': 1719, 'physic': 1302, 'mental': 1101, 'delici': 507, 'struggl': 1703, 'staff': 1666, 'thank': 1759, 'scam': 1533, 'attorney': 164, 'gener': 770, 'hotlin': 881, 'industri': 924, 'least': 1005, 'favorit': 683, 'uncertainti': 1852, 'long': 1042, '80': 45, 'expert': 651, 'decreas': 502, 'traffic': 1816, 'articl': 149, 'member': 1099, 'distribut': 544, 'prepar': 1356, '19': 15, 'key': 975, 'manufactur': 1076, '3': 29, 'expect': 647, 'critic': 465, 'coupl': 441, 'perish': 1293, 'genuin': 771, 'around': 146, 'isol': 956, 'pay': 1282, 'job': 965, 'bare': 187, 'worth': 1970, 'poor': 1332, 'could': 434, '60': 40, 'world': 1965, 'infect': 925, 'year': 1986, 'prayer': 1350, 'updat': 1861, 'ceo': 312, 'develop': 519, 'sale': 1519, 'situat': 1613, 'china': 334, 'learn': 1004, 'regist': 1446, 'target': 1742, 'serious': 1569, 'ad': 61, 'hour': 882, 'pick': 1304, 'encourag': 609, 'limit': 1021, 'purchas': 1395, 'older': 1221, 'amid': 109, 'insid': 934, 'wow': 1973, 'death': 495, 'die': 522, 'mo': 1122, 'fish': 709, 'hunt': 893, 'rais': 1413, 'greed': 802, 'almost': 95, 'compass': 381, 'donaldtrump': 556, 'lie': 1017, 'rumor': 1506, 'never': 1173, 'recogn': 1438, 'sens': 1565, 'tell': 1749, 'blame': 228, 'heavili': 851, 'declin': 501, 'data': 487, 'suggest': 1714, 'remot': 1459, 'school': 1540, 'websit': 1921, 'deliveri': 509, 'rural': 1508, 'clorox': 355, '5': 36, 'bet': 216, 'safe': 1514, 'answer': 121, 'question': 1404, 'sensibl': 1566, 'enhanc': 613, 'especi': 623, 'wage': 1900, 'onc': 1223, 'exactli': 638, 'advic': 70, 'nation': 1154, 'medic': 1095, 'gov': 796, 'wash': 1911, 'carri': 297, 'aw': 172, 'felt': 693, 'affect': 74, 'contain': 400, '20': 18, 'second': 1549, 'sanitis': 1525, 'lead': 1001, 'term': 1752, 'covid19ireland': 451, 'coronavirusireland': 422, 'public': 1390, 'build': 266, 'matter': 1085, 'urgenc': 1866, 'profit': 1380, 'join': 967, 'saturday': 1527, 'march': 1078, 'locat': 1036, 'sure': 1721, 'spike': 1657, 'emerg': 604, 'besid': 214, 'cv': 479, 'invest': 948, 'point': 1327, 'husband': 896, 'ask': 154, 'solut': 1635, 'presid': 1361, 'away': 174, 'first': 707, 'eat': 587, 'idiot': 903, 'canadian': 287, 'feder': 688, 'wellb': 1931, 'payment': 1284, 'basic': 190, 'healthi': 846, 'solid': 1634, 'covid19canada': 450, 'coronaviruscanada': 418, 'footbal': 723, 'among': 112, 'queu': 1405, 'outsid': 1246, 'remind': 1458, 'hous': 883, 'children': 332, 'access': 53, 'main': 1066, 'sourc': 1645, 'meal': 1088, 'wear': 1919, 'distanc': 543, 'appear': 137, 'im': 907, 'move': 1139, 'someth': 1639, 'appl': 138, 'band': 184, 'better': 217, 'pretti': 1364, 'chanc': 317, 'clerk': 351, 'driver': 571, 'leav': 1006, 'contact': 399, 'berni': 213, 'understand': 1853, 'would': 1971, 'youd': 1992, 'boost': 243, 'sever': 1575, 'wit': 1953, 'yesterday': 1988, 'cough': 433, 'auspol': 165, 'metro': 1107, 'manila': 1075, 'lock': 1037, 'caus': 305, 'hoard': 867, 'less': 1011, 'fortun': 730, 'oh': 1214, 'lord': 1047, 'pray': 1349, 'hey': 859, 'messag': 1104, 'friend': 748, 'awar': 173, 'follow': 720, 'staysaf': 1682, 'hurt': 895, 'toronto': 1806, 'old': 1220, 'round': 1502, 'present': 1360, 'expir': 652, 'train': 1817, 'gym': 822, 'park': 1270, 'either': 597, 'gun': 820, 'street': 1699, 'beauti': 198, 'small': 1620, 'colleg': 368, 'insecur': 933, 'student': 1705, 'hungri': 892, 'feed': 690, 'kid': 976, 'america': 107, 'crise': 463, 'technolog': 1748, 'servic': 1571, 'faster': 681, 'pace': 1251, 'page': 1255, 'med': 1093, 'cat': 302, 'meat': 1092, 'fruit': 753, 'noodl': 1188, 'rice': 1490, 'fresh': 742, 'dri': 567, 'els': 601, 'fallout': 673, 'flight': 714, 'individu': 922, 'lockdown': 1038, 'prepper': 1358, 'wuhanviru': 1979, 'cruis': 468, 'ill': 905, 'surg': 1723, 'much': 1144, '15': 11, 'panick': 1262, 'covid19uk': 453, 'possibl': 1337, 'symptom': 1733, 'restock': 1481, 'both': 247, 'plu': 1321, 'too': 1803, 'australian': 167, 'toiletpapercrisi': 1793, 'polic': 1329, 'woman': 1957, 'packet': 1254, 'four': 733, 'cart': 298, 'secur': 1552, 'r': 1410, 'afraid': 76, 'lysol': 1060, 'alway': 103, 'diet': 523, 'protein': 1384, 'sainsburi': 1518, 'midst': 1110, 'insan': 932, 'seen': 1555, 'togeth': 1789, 'latest': 996, 'piec': 1308, 'curiou': 474, 'inform': 929, 'chariti': 322, 'scrambl': 1542, 'awesom': 175, 'coffe': 363, 'recommend': 1439, 'advis': 71, 'anymor': 127, 'instead': 937, 'canceleveryth': 289, 'caution': 306, 'cowork': 457, 'such': 1711, 'team': 1746, 'brick': 258, 'petrol': 1298, 'place': 1313, 'greedi': 803, 'asshol': 157, 'shit': 1586, 'indoor': 923, 'hardli': 836, 'smart': 1621, 'towel': 1811, 'fill': 701, 'fridg': 747, 'immun': 910, 'system': 1734, 'drink': 568, 'vitamin': 1893, 'didnt': 521, 'polici': 1330, 'februari': 686, 'ever': 630, 'notic': 1197, 'afford': 75, 'headlin': 843, 'grow': 811, 'freezer': 739, 'monitor': 1129, 'frozen': 752, 'storag': 1694, 'discov': 536, 'play': 1317, 'role': 1498, 'nonperish': 1187, 'privileg': 1371, 'pandem': 1258, 'raid': 1412, 'ur': 1864, 'starbuck': 1670, 'nike': 1181, 'temporarili': 1750, 'reportedli': 1465, 'piss': 1310, 'fault': 682, 'u': 1847, 'w': 1898, 'higher': 862, 'moment': 1126, 'someon': 1638, 'sneez': 1626, 'checkout': 325, 'queue': 1406, 'instor': 939, 'via': 1884, 'mode': 1123, 'except': 640, 'post': 1338, 'respons': 1478, 'dr': 566, 'leader': 1002, 'asset': 156, 'steal': 1684, 'announc': 118, '16': 12, 'short': 1592, 'tomorrow': 1800, 'tho': 1769, 'easili': 585, 'glove': 784, 'origin': 1238, 'handl': 830, 'bless': 230, 'shift': 1583, 'habit': 824, 'doubl': 564, 'switch': 1731, 'financi': 704, 'sound': 1643, 'anyth': 129, 'washyourhand': 1912, 'non': 1185, 'practic': 1348, 'polit': 1331, 'stress': 1700, '10': 3, 'addit': 64, 'flu': 717, 'season': 1546, 'la': 988, 'adult': 68, 'life': 1018, 'tech': 1747, 'everybodi': 632, 'id': 901, 'rather': 1419, 'count': 437, 'walk': 1903, 'decent': 497, 'shut': 1600, 'pizza': 1311, 'destroy': 517, 'manag': 1073, 'replac': 1462, 'anxieti': 125, 'where': 1939, 'risk': 1496, 'feel': 691, 'relief': 1454, 'dc': 490, 'whitehous': 1942, 'cashier': 301, 'theyll': 1763, 'reason': 1433, 'fact': 668, 'annoy': 119, 'wise': 1951, 'bond': 238, 'opposit': 1234, 'econom': 590, 'rich': 1491, 'owner': 1250, 'final': 703, 'commun': 378, 'pop': 1333, 'basket': 191, 'youtub': 1995, 'idea': 902, 'fan': 676, 'cover': 444, '12': 7, 'environ': 620, 'apart': 131, 'basi': 189, 'poison': 1328, 'remain': 1456, 'air': 84, 'stabl': 1665, 'differ': 524, 'given': 780, 'direct': 529, 'thursday': 1779, 'center': 309, 'game': 765, 'bar': 186, 'guest': 818, 'ministri': 1117, 'portabl': 1335, 'card': 295, 'panickbuy': 1263, 'difficult': 525, 'chicken': 329, 'coronavirusinindia': 420, 'reduc': 1442, 'lunch': 1058, 'give': 779, 'gift': 777, 'discuss': 537, 'search': 1545, 'land': 991, 'onlineshop': 1228, 'amount': 113, 'pasta': 1277, 'unabl': 1850, 'buyer': 277, 'serv': 1570, 'coronavirusau': 416, 'focu': 718, 'side': 1603, 'sector': 1551, 'dump': 575, 'crypto': 469, 'anyway': 130, 'bleach': 229, 'cleaner': 348, 'three': 1776, 'ohio': 1215, 'scari': 1537, 'complet': 385, 'client': 353, 'author': 168, 'agricultur': 80, 'action': 58, 'necess': 1163, 'group': 810, 'shelter': 1581, 'depend': 513, 'andor': 115, 'natur': 1157, 'screen': 1543, 'kill': 977, 'germ': 772, 'creat': 461, 'own': 1249, 'psa': 1388, 'none': 1186, 'nurs': 1201, 'potu': 1342, 'tissu': 1787, 'drug': 573, 'mass': 1082, 'strong': 1702, 'relat': 1450, 'file': 700, 'complaint': 384, 'attempt': 161, 'amazonin': 106, 'flipkart': 715, 'handsanit': 831, 'walmart': 1905, 'minut': 1118, 'ration': 1420, 'fli': 713, 'institut': 938, 'dog': 551, 'ridicul': 1493, 'tonight': 1802, 'found': 732, 'accord': 54, 'bean': 196, 'liter': 1029, 'ago': 79, 'democrat': 511, 'domin': 554, 'note': 1195, 'singl': 1609, 'might': 1111, 'joke': 968, 'gone': 789, 'relax': 1451, 'maintain': 1067, 'sleep': 1617, 'bat': 192, 'mom': 1125, 'regularli': 1449, 'face': 664, 'elbow': 598, 'wife': 1945, 'longer': 1043, 'expens': 648, 'trip': 1828, 'asia': 152, 'danger': 486, 'chao': 320, 'shake': 1576, 'bad': 179, 'perfect': 1290, 'kit': 981, 'elderli': 599, 'extrem': 661, 'reaction': 1424, 'disrupt': 542, 'globe': 783, 'detail': 518, 'late': 994, 'session': 1572, 'wouldnt': 1972, 'c': 279, 'result': 1483, 'anticip': 124, 'kroger': 987, 'wall': 1904, 'sweep': 1730, 'wonder': 1959, 'coverag': 445, 'guarante': 815, 'em': 602, 'pound': 1343, 'bc': 194, 'gain': 764, 'friendli': 749, 'shot': 1594, 'omg': 1222, 'accept': 52, 'pic': 1303, 'intel': 942, 'multipl': 1145, 'fast': 680, 'afternoon': 77, 'act': 57, 'terribl': 1753, 'sorri': 1641, 'daili': 482, 'discount': 535, 'attend': 162, 'sport': 1659, 'thousand': 1772, 'youll': 1993, 'appreci': 141, 'parent': 1268, 'bu': 264, 'interact': 943, 'ongo': 1225, 'perman': 1294, 'stretch': 1701, 'ship': 1584, 'total': 1807, 'postpon': 1339, 'cannot': 291, 'version': 1883, 'wast': 1914, 'chees': 327, 'wanna': 1906, 'receiv': 1435, 'weekend': 1924, 'cnn': 360, 'msnbc': 1143, 'foxnew': 734, 'typic': 1846, 'definit': 505, 'easi': 584, 'coronaviruspandem': 425, 'spain': 1648, 'energi': 612, 'claim': 345, 'guess': 817, 'neighbour': 1169, 'havent': 841, 'quit': 1409, 'nobodi': 1184, 'bread': 254, 'effici': 594, 're': 1421, 'internet': 946, 'decid': 498, 'b': 176, 'netherland': 1172, 'london': 1041, 'disgust': 540, 'facebook': 665, 'outrag': 1245, 'selfish': 1558, 'resel': 1470, 'sa': 1512, 'enter': 617, 'meter': 1105, 'earli': 579, 'seem': 1554, 'ban': 183, 'freak': 736, 'line': 1022, 'jack': 962, 'butt': 274, 'rest': 1479, 'covd19': 443, 'platform': 1316, 'plane': 1315, 'surviv': 1727, 'hurrican': 894, 'imagin': 908, 'counti': 439, 'arent': 145, 'socialdistanc': 1630, 'thursdaythought': 1780, 'coronaoutbreak': 411, 'cereal': 313, 'bekind': 209, 'scene': 1539, 'bulk': 267, 'plenti': 1320, 'vulner': 1897, 'mark': 1079, 'coronavirusuk': 427, 'initi': 931, 'frontlin': 751, 'fund': 760, 'medicaid': 1096, 'pain': 1257, 'kinda': 980, 'stupid': 1708, 'god': 786, 'cuz': 478, 'settl': 1574, 'later': 995, 'nut': 1202, 'rule': 1505, 'appli': 139, 'patron': 1280, 'ontario': 1229, 'across': 56, 'joe': 966, 'asap': 150, 'deadli': 492, 'rn': 1497, 'tp': 1813, 'suspend': 1729, '500': 38, '200': 19, 'happi': 834, 'confus': 393, 'exchang': 641, 'zero': 1997, 'aviat': 170, 'fuel': 756, 'domest': 553, 'fine': 706, 'door': 562, 'legal': 1009, 'law': 1000, 'bye': 278, 'fri': 743, 'netflix': 1171, 'stream': 1698, 'cours': 442, 'logist': 1039, 'earth': 582, 'sign': 1604, '8': 44, 'weird': 1928, 'hasnt': 839, 'despit': 516, 'unless': 1859, 'facil': 667, 'push': 1396, 'car': 294, 'prevent': 1365, 'christian': 339, 'tweet': 1841, 'beat': 197, 'perhap': 1291, 'tesco': 1755, 'shipment': 1585, 'date': 488, 'crazi': 459, 'pet': 1296, 'lack': 989, 'freez': 738, 'stuck': 1704, 'appar': 135, 'entir': 619, 'benefit': 212, 'o': 1206, 'na': 1151, 'thanksgiv': 1760, 'epidem': 621, 'figur': 699, 'publish': 1391, 'complain': 383, 'pub': 1389, 'prefer': 1353, 'heard': 848, 'seriou': 1568, 'bill': 221, 'reli': 1453, 'ye': 1984, 'real': 1427, 'litter': 1030, 'whatev': 1936, 'okay': 1219, 'compar': 380, 'opportunist': 1233, 'rome': 1500, 'glad': 781, 'howev': 886, 'half': 825, 'paycheck': 1283, 'suppos': 1720, 'trillion': 1827, 't': 1735, 'front': 750, 'certain': 314, 'pickup': 1305, '13': 8, 'covid2019ireland': 455, 'luckili': 1057, 'stoppanicbuy': 1693, 'shutdown': 1601, 'damn': 485, 'junk': 971, 'forward': 731, 'airlin': 85, 'pari': 1269, 'turkey': 1838, 'centr': 310, 'sauc': 1528, 'ladi': 990, 'man': 1072, 'borisjohnson': 246, 'starv': 1672, 'lost': 1050, 'competit': 382, 'produc': 1377, 'brought': 263, 'welcom': 1929, '23': 23, 'doubt': 565, 'heavi': 850, 'hospit': 878, 'giant': 776, 'past': 1276, 'e': 577, 'write': 1975, 'ride': 1492, 'rep': 1461, 'requir': 1468, 'knowledg': 986, 'zombi': 1998, 'apocalyps': 132, 'scenario': 1538, 'conveni': 404, 'california': 280, 'experienc': 650, 'activ': 59, 'trolley': 1829, 'per': 1289, 'misinform': 1119, 'privat': 1370, 'pricegoug': 1367, 'wine': 1949, 'chocol': 336, 'mother': 1138, 'success': 1710, 'proud': 1385, 'assist': 158, 'theyv': 1765, 'futur': 762, 'random': 1416, 'south': 1646, 'dad': 481, 'prove': 1386, 'dear': 494, 'norway': 1193, 'grab': 799, 'billion': 222, 'littl': 1031, 'mostli': 1137, '70': 43, 'area': 144, 'each': 578, 'societi': 1631, 'hike': 864, 'spare': 1649, 'loot': 1046, 'million': 1113, 'reveal': 1488, 'wors': 1968, 'pocket': 1326, 'cold': 364, '17': 13, 'diaper': 520, 'corpor': 430, 'neighbor': 1167, 'young': 1994, 'realiz': 1431, 'came': 283, 'beer': 202, 'pressur': 1363, 'lineup': 1023, 'prioriti': 1369, 'pass': 1275, 'huge': 888, 'toiletpaperapocalyps': 1792, 'trump2020': 1834, 'though': 1770, 'ireland': 951, 'gotta': 793, 'hoarder': 868, 'nearli': 1162, 'parti': 1272, 'liquor': 1026, 'bitch': 225, 'click': 352, 'account': 55, 'va': 1872, 'mad': 1062, 'aldi': 89, 'lidl': 1016, 'disappear': 533, 'eventu': 629, 'shelf': 1580, 'montreal': 1131, '40': 35, 'prepared': 1357, 'cupboard': 470, 'ocado': 1210, 'slot': 1618, 'climat': 354, 'rapidli': 1417, 'hysteria': 898, 'experi': 649, 'civil': 344, 'unfortun': 1855, 'quick': 1407, '800': 46, 'administr': 67, 'send': 1563, 'disgrac': 539, 'overheard': 1247, 'fun': 759, 'kitchen': 982, '1000': 5, 'youv': 1996, 'sharp': 1579, 'veget': 1880, 'eas': 583, 'burden': 272, 'simpl': 1607, 'peac': 1285, 'amaz': 104, 'hamsteren': 828, 'tag': 1736, 'belgium': 210, 'obvious': 1209, 'abil': 49, 'spring': 1663, 'section': 1550, 'lol': 1040, 'select': 1556, 'depart': 512, 'mall': 1070, '28': 28, 'spirit': 1658, 'breath': 256, 'whether': 1940, 'choic': 337, 'box': 250, 'cook': 405, 's': 1511, 'balanc': 182, 'alert': 90, 'treatment': 1824, 'resist': 1473, 'guard': 816, '90': 48, 'fb': 684, 'coronaalert': 410, 'word': 1962, 'selfquarantin': 1560, 'pl': 1312, 'jesu': 964, 'cope': 406, 'similar': 1606, 'christma': 340, 'decis': 499, '3rd': 33, 'tap': 1740, 'win': 1947, 'snap': 1625, 'hunger': 891, 'predict': 1352, 'soup': 1644, 'egg': 596, 'nba': 1159, 'set': 1573, 'comput': 386, '33': 32, 'document': 547, 'wed': 1922, 'allow': 94, 'frenzi': 741, 'field': 697, 'anim': 117, 'catch': 303, 'wake': 1902, 'reliev': 1455, 'condit': 389, 'incred': 917, 'resourc': 1474, 'potenti': 1341, 'vital': 1892, '9': 47, 'speak': 1651, 'observ': 1207, 'near': 1160, 'ottawa': 1241, 'trust': 1836, 'pr': 1347, 'till': 1782, 'program': 1381, 'partner': 1274, 'judg': 969, 'boom': 241, 'paus': 1281, 'cole': 365, 'israel': 957, 'arriv': 148, 'realis': 1429, 'bum': 269, 'explain': 653, 'tough': 1809, 'corner': 408, 'delay': 506, 'vacat': 1873, 'space': 1647, 'approach': 142, 'librari': 1015, 'middl': 1109, 'east': 586, 'hundr': 890, 'greater': 801, 'research': 1469, 'digit': 526, 'appoint': 140, 'blog': 233, 'educ': 592, 'camp': 284, 'quickli': 1408, 'covid2019uk': 456, 'evid': 637, 'honestli': 873, 'common': 377, 'light': 1019, 'bunch': 270, 'charg': 321, 'x': 1980, 'categori': 304, 'neighborhood': 1168, 'ny': 1203, 'fulli': 758, 'load': 1034, 'ebay': 588, 'exampl': 639, 'form': 729, 'app': 134, 'weight': 1927, 'gross': 808, 'shoe': 1588, 'board': 234, 'exclus': 642, 'boomer': 242, 'doomsday': 561, 'bunker': 271, 'island': 954, 'morrison': 1134, 'fit': 710, 'human': 889, 'attent': 163, 'central': 311, 'true': 1831, 'expos': 656, 'extend': 659, 'brother': 262, 'massiv': 1083, 'funni': 761, 'corn': 407, 'congress': 394, 'statement': 1675, 'muslim': 1146, 'plz': 1324, 'regard': 1445, 'april': 143, 'movi': 1141, 'loss': 1049, 'peep': 1287, 'involv': 949, 'chill': 333, 'sad': 1513, 'allergi': 93, 'profession': 1379, 'chicago': 328, '0': 1, 'council': 436, 'sent': 1567, 'handwash': 832, 'ran': 1415, 'opportun': 1232, 'asda': 151, 'room': 1501, 'kilo': 978, 'photo': 1301, 'apocalypt': 133, 'varieti': 1876, 'thru': 1777, 'laugh': 997, 'code': 362, 'comfort': 372, 'sunday': 1715, 'loo': 1044, 'bake': 181, 'respiratori': 1476, 'curb': 471, 'truck': 1830, 'equip': 622, 'gave': 768, '300': 31, 'ya': 1982, 'll': 1033, 'hear': 847, 'men': 1100, 'independ': 918, 'nightmar': 1180, 'werent': 1933, '65': 41, 'maga': 1064, 'emptyshelv': 608, 'earlier': 580, 'minim': 1115, 'race': 1411, 'indian': 921, 'yell': 1987, 'window': 1948, 'insight': 935, 'request': 1467, 'doordash': 563, 'yeah': 1985, 'black': 227, 'repli': 1463, 'dm': 545, 'transmiss': 1819, 'suspect': 1728, 'stamp': 1668, 'nationwid': 1156, 'trader': 1815, 'hors': 877, 'screw': 1544, 'tbh': 1744, 'toward': 1810, 'comedi': 371, 'stash': 1673, 'behaviour': 207, 'rethink': 1485, 'smh': 1622, 'shoutout': 1598, 'option': 1235, 'posit': 1336, 'cloth': 358, 'horror': 876, 'norm': 1190, 'n': 1148, 'ton': 1801, 'toiletpaperemerg': 1794, 'pm': 1325, 'address': 65, 'enjoy': 614, 'sky': 1615, '25': 25, 'shoploc': 1590, 'disast': 534, 'nearbi': 1161, 'club': 359, 'eye': 662, 'viral': 1887, 'knew': 983, 'bag': 180, 'clearli': 350, 'west': 1934, 'fee': 689, 'somehow': 1637, '250': 26, 'proactiv': 1373, 'consider': 397, 'vendor': 1881, 'patienc': 1278, 'forese': 727, 'fever': 694, 'wtf': 1977, 'hot': 879, 'ground': 809, 'smile': 1623, 'boredom': 245, 'seattl': 1548, 'express': 658, 'coronavirusitalia': 423, 'addict': 63, 'five': 711, 'surpris': 1725, 'exploit': 654, 'jump': 970, 'india': 920, 'narendramodi': 1153, 'mohfwindia': 1124, 'directli': 530, 'beef': 201, 'miss': 1120, 'weather': 1920, 'hate': 840, 'wholesal': 1944, 'wrap': 1974, 'cdcgov': 308, 'san': 1522, 'covid19australia': 449, 'coronapocalyps': 412, 'indi': 919, '202': 20, 'expand': 646, 'friday': 744, 'knock': 984, 'shout': 1597, 'mix': 1121, 'alon': 96, 'safeway': 1516, 'fridaythe13th': 745, 'jam': 963, 'attack': 160, 'quarantineandchil': 1402, 'stateofemerg': 1676, 'nationalemerg': 1155, 'fridaythought': 746, 'm': 1061, 'don': 555, 'heb': 852, 'infrastructur': 930, 'arrest': 147, 'wuhan': 1978, 'kind': 979, 'franc': 735, 've': 1878, 'd': 480, 'add': 62, 'bin': 223, 'coronavirusinkenya': 421, 'kenyan': 974, 'uncertain': 1851, 'mortar': 1135, 'unit': 1857, 'capit': 293, 'otherwis': 1240, 'homeless': 872, 'insist': 936, 'assur': 159, 'specif': 1654, 'heighten': 853, 'statu': 1678, 'mar': 1077, 'stayhom': 1681, 'site': 1612, 'f': 663, 'af': 72, 'cream': 460, 'hero': 858, '24': 24, '13th': 9, 'within': 1954, 'town': 1812, 'spent': 1656, 'type': 1845, 'refus': 1444, 'rude': 1504, 'sir': 1610, 'vs': 1896, 'adjust': 66, 'wasnt': 1913, 'michigan': 1108, 'beach': 195, 'coronapocolyps': 413, 'garden': 766, 'bookstor': 240, 'stockup': 1691, 'truli': 1832, 'potato': 1340, 'taproom': 1741, 'flour': 716, 'brave': 253, 'dalla': 483, 'strategi': 1697, 'highli': 863, 'obviou': 1208, 'asian': 153, 'effort': 595, 'mess': 1103, 'warehous': 1909, 'horribl': 875, 'movement': 1140, 'butter': 275, 'volunt': 1894, 'rt': 1503, 'prompt': 1382, 'variou': 1877, 'repres': 1466, 'prime': 1368, 'ice': 899, 'girl': 778, 'channel': 319, 'australia': 166, 'hello': 855, 'chief': 330, 'particularli': 1273, 'frustrat': 754, 'squar': 1664, 'soda': 1632, 'gt': 813, 'publix': 1392, 'thu': 1778, 'church': 341, 'ohiocoronaviru': 1216, 'retweet': 1487, 'foreign': 726, 'suck': 1712, 'women': 1958, 'inventori': 947, 'dinner': 527, 'flattenthecurv': 712, 'heart': 849, 'aliv': 91, 'doesn': 549, 'scan': 1535, 'switzerland': 1732, 'ukcoronaviru': 1849, 'mail': 1065, 'isl': 953, 'upsid': 1863, 'gotten': 794, 'coronavirussa': 426, 'n95mask': 1150, 'viruscorona': 1890, 'block': 231, 'dirti': 531, 'revers': 1489, 'peanut': 1286, 'tuna': 1837, 'sanction': 1523, 'outlet': 1244, 'mention': 1102, 'commit': 375, 'familiesfirst': 675, '2243121': 22, 'name': 1152, 'endur': 611, 'bullshit': 268, 'leadership': 1003, 'pledg': 1319, 'hardship': 837, 'everyday': 633, 'reassur': 1434, 'scientist': 1541, 'battl': 193, 'sam': 1520, 'deserv': 514, 'although': 102, 'exercis': 643, 'method': 1106, 'entertain': 618, 'concert': 388, 'stayathom': 1680, 'skin': 1614, 'subscrib': 1709, 'neg': 1166, 'cannabi': 290, 'ammo': 111, 'vegan': 1879, 'amidst': 110, 'yo': 1990, 'snack': 1624, 'connect': 395, 'bodi': 235, 'letter': 1013, 'guidelin': 819, 'farmer': 679, 'zombieapocalyps': 1999, 'influenc': 927, 'covid19u': 452, 'ramp': 1414, 'britain': 260, 'urgent': 1867, 'nj': 1182, 'threaten': 1775, 'doom': 560, 'lend': 1010, 'transmit': 1820, 'iran': 950, 'stick': 1686, 'laundri': 999, 'shock': 1587, 'french': 740, 'pie': 1307, 'de': 491, 'premium': 1354, 'grocerystor': 807, 'anti': 122, 'mama': 1071, 'coronauk': 414, 'y': 1981, 'covid19au': 448, 'minist': 1116, 'icymi': 900, 'que': 1403, '27': 27, 'nz': 1205, 'bogu': 237, 'texa': 1757, 'launch': 998, 'north': 1192, 'curbsid': 472, 'paracetamol': 1267, 'toll': 1798, 'appeal': 136, 'staythefhom': 1683, 'spark': 1650, 'petit': 1297, 'dedic': 503, 'outgo': 1243, 'fargo': 678, '18002199739': 14, 'specialist': 1653}\n"
          ]
        },
        {
          "output_type": "execute_result",
          "data": {
            "text/plain": [
              "2000"
            ]
          },
          "metadata": {},
          "execution_count": 135
        }
      ]
    },
    {
      "cell_type": "code",
      "source": [
        "X_train = lemma_tfidf.toarray()\n",
        "y_train = lemma_train_data['Sentiment'].values.astype('int32')\n",
        "# Let's fit the Naive Bayes model to our training data\n",
        "nb = MultinomialNB()\n",
        "# Fit model to training data\n",
        "nb.fit(X_train, y_train)\n",
        "# Predict on test data\n",
        "X_test = lemma_tfidf_test.toarray()\n",
        "y_test = lemma_test_data['Sentiment'].values.astype('int32')\n",
        "y_preds = nb.predict(X_test)\n",
        "\n",
        "print('Test accuracy with simple Naive Bayes:',accuracy_score(y_test,y_preds))\n",
        "# We get a very good accuracy, despite class imbalance (recall 87% were Ham)\n",
        "print('Training accuracy:', accuracy_score(y_train, nb.predict(X_train)))\n",
        "\n",
        "\n",
        "## How does the accuracy with lemmatization compare to the accuracy with stemming? "
      ],
      "metadata": {
        "colab": {
          "base_uri": "https://localhost:8080/"
        },
        "id": "012H5tcyV8-u",
        "outputId": "8e882f89-55f7-4e09-ca25-23bb9704d267"
      },
      "execution_count": 136,
      "outputs": [
        {
          "output_type": "stream",
          "name": "stdout",
          "text": [
            "Test accuracy with simple Naive Bayes: 0.4120589784096893\n",
            "Training accuracy: 0.6889018492867731\n"
          ]
        }
      ]
    }
  ]
}